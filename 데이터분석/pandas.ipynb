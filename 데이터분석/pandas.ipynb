{
 "cells": [
  {
   "cell_type": "code",
   "execution_count": 56,
   "id": "80c259f6",
   "metadata": {},
   "outputs": [
    {
     "name": "stdout",
     "output_type": "stream",
     "text": [
      "딕셔너리로부터 DataFrame 생성:\n",
      "    이름  나이 성별  점수\n",
      "0  김철수  25  남  85\n",
      "1  이영희  28  여  92\n",
      "2  박민수  22  남  78\n",
      "3  정지영  30  여  90\n",
      "\n",
      "리스트로부터 DataFrame 생성:\n",
      "    이름  나이 성별  점수\n",
      "0  김철수  25  남  85\n",
      "1  이영희  28  여  92\n",
      "2  박민수  22  남  78\n",
      "3  정지영  30  여  90\n"
     ]
    }
   ],
   "source": [
    "# 딕셔너리로부터 DataFrame 생성\n",
    "data = {\n",
    "    '이름': ['김철수', '이영희', '박민수', '정지영'],\n",
    "    '나이': [25, 28, 22, 30],\n",
    "    '성별': ['남', '여', '남', '여'],\n",
    "    '점수': [85, 92, 78, 90]\n",
    "}\n",
    "df1 = pd.DataFrame(data)\n",
    "print(\"딕셔너리로부터 DataFrame 생성:\")\n",
    "print(df1)\n",
    "\n",
    "# 리스트의 리스트로부터 DataFrame 생성\n",
    "data_list = [\n",
    "    ['김철수', 25, '남', 85],\n",
    "    ['이영희', 28, '여', 92],\n",
    "    ['박민수', 22, '남', 78],\n",
    "    ['정지영', 30, '여', 90]\n",
    "]\n",
    "df2 = pd.DataFrame(data_list, columns=['이름', '나이', '성별', '점수'])\n",
    "print(\"\\n리스트로부터 DataFrame 생성:\")\n",
    "print(df2)"
   ]
  },
  {
   "cell_type": "code",
   "execution_count": 62,
   "id": "9062782a",
   "metadata": {},
   "outputs": [
    {
     "data": {
      "text/html": [
       "<div>\n",
       "<style scoped>\n",
       "    .dataframe tbody tr th:only-of-type {\n",
       "        vertical-align: middle;\n",
       "    }\n",
       "\n",
       "    .dataframe tbody tr th {\n",
       "        vertical-align: top;\n",
       "    }\n",
       "\n",
       "    .dataframe thead tr th {\n",
       "        text-align: left;\n",
       "    }\n",
       "\n",
       "    .dataframe thead tr:last-of-type th {\n",
       "        text-align: right;\n",
       "    }\n",
       "</style>\n",
       "<table border=\"1\" class=\"dataframe\">\n",
       "  <thead>\n",
       "    <tr>\n",
       "      <th></th>\n",
       "      <th colspan=\"4\" halign=\"left\">나이</th>\n",
       "      <th>점수</th>\n",
       "    </tr>\n",
       "    <tr>\n",
       "      <th></th>\n",
       "      <th>mean</th>\n",
       "      <th>min</th>\n",
       "      <th>max</th>\n",
       "      <th>std</th>\n",
       "      <th>mean</th>\n",
       "    </tr>\n",
       "    <tr>\n",
       "      <th>성별</th>\n",
       "      <th></th>\n",
       "      <th></th>\n",
       "      <th></th>\n",
       "      <th></th>\n",
       "      <th></th>\n",
       "    </tr>\n",
       "  </thead>\n",
       "  <tbody>\n",
       "    <tr>\n",
       "      <th>남</th>\n",
       "      <td>23.5</td>\n",
       "      <td>22</td>\n",
       "      <td>25</td>\n",
       "      <td>2.121320</td>\n",
       "      <td>81.5</td>\n",
       "    </tr>\n",
       "    <tr>\n",
       "      <th>여</th>\n",
       "      <td>29.0</td>\n",
       "      <td>28</td>\n",
       "      <td>30</td>\n",
       "      <td>1.414214</td>\n",
       "      <td>91.0</td>\n",
       "    </tr>\n",
       "  </tbody>\n",
       "</table>\n",
       "</div>"
      ],
      "text/plain": [
       "      나이                      점수\n",
       "    mean min max       std  mean\n",
       "성별                              \n",
       "남   23.5  22  25  2.121320  81.5\n",
       "여   29.0  28  30  1.414214  91.0"
      ]
     },
     "execution_count": 62,
     "metadata": {},
     "output_type": "execute_result"
    }
   ],
   "source": [
    "gender_group = df1.groupby('성별')\n",
    "gender_group.agg(\n",
    "    {\n",
    "        '나이':['mean','min','max','std'],\n",
    "        '점수':['mean']\n",
    "    }\n",
    ")"
   ]
  },
  {
   "cell_type": "code",
   "execution_count": null,
   "id": "35a1d110",
   "metadata": {},
   "outputs": [],
   "source": [
    "import"
   ]
  },
  {
   "cell_type": "code",
   "execution_count": null,
   "id": "a66301ec",
   "metadata": {},
   "outputs": [
    {
     "name": "stdout",
     "output_type": "stream",
     "text": [
      "          나이         점수\n",
      "count   4.00   4.000000\n",
      "mean   26.25  86.250000\n",
      "std     3.50   6.238322\n",
      "min    22.00  78.000000\n",
      "25%    24.25  83.250000\n",
      "50%    26.50  87.500000\n",
      "75%    28.50  90.500000\n",
      "max    30.00  92.000000\n",
      "[['김철수' 25 '남' 85]\n",
      " ['이영희' 28 '여' 92]\n",
      " ['박민수' 22 '남' 78]\n",
      " ['정지영' 30 '여' 90]]\n",
      "이름    object\n",
      "나이     int64\n",
      "성별    object\n",
      "점수     int64\n",
      "dtype: object\n"
     ]
    }
   ],
   "source": [
    "print(df1.describe()\n",
    "print(df1.values)\n",
    "print(df1.dtypes)"
   ]
  }
 ],
 "metadata": {
  "kernelspec": {
   "display_name": "Python 3",
   "language": "python",
   "name": "python3"
  },
  "language_info": {
   "codemirror_mode": {
    "name": "ipython",
    "version": 3
   },
   "file_extension": ".py",
   "mimetype": "text/x-python",
   "name": "python",
   "nbconvert_exporter": "python",
   "pygments_lexer": "ipython3",
   "version": "3.13.2"
  }
 },
 "nbformat": 4,
 "nbformat_minor": 5
}
