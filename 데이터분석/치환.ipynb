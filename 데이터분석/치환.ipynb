{
 "cells": [
  {
   "cell_type": "code",
   "execution_count": 1,
   "id": "3a772132",
   "metadata": {},
   "outputs": [
    {
     "name": "stdout",
     "output_type": "stream",
     "text": [
      "완료: scada_yeongduk_3.csv (416016, 4)\n"
     ]
    }
   ],
   "source": [
    "import pandas as pd\n",
    "\n",
    "in_path  = r\"scada_yeongduk (3).parquet\"   # 입력 Parquet\n",
    "out_path = r\"scada_yeongduk_3.csv\"         # 출력 CSV\n",
    "\n",
    "df = pd.read_parquet(in_path)               # pyarrow 필요\n",
    "df.to_csv(out_path, index=False, encoding=\"utf-8-sig\")  # 엑셀 호환 BOM\n",
    "print(\"완료:\", out_path, df.shape)\n"
   ]
  },
  {
   "cell_type": "code",
   "execution_count": 2,
   "id": "8d4c46d2",
   "metadata": {},
   "outputs": [
    {
     "name": "stdout",
     "output_type": "stream",
     "text": [
      "완료: scada_yangyang (4).csv (604993, 4)\n"
     ]
    }
   ],
   "source": [
    "import pandas as pd\n",
    "\n",
    "in_path  = r\"scada_yangyang (4).parquet\"   # 입력 Parquet\n",
    "out_path = r\"scada_yangyang (4).csv\"         # 출력 CSV\n",
    "\n",
    "df = pd.read_parquet(in_path)               # pyarrow 필요\n",
    "df.to_csv(out_path, index=False, encoding=\"utf-8-sig\")  # 엑셀 호환 BOM\n",
    "print(\"완료:\", out_path, df.shape)\n"
   ]
  }
 ],
 "metadata": {
  "kernelspec": {
   "display_name": "Python 3",
   "language": "python",
   "name": "python3"
  },
  "language_info": {
   "codemirror_mode": {
    "name": "ipython",
    "version": 3
   },
   "file_extension": ".py",
   "mimetype": "text/x-python",
   "name": "python",
   "nbconvert_exporter": "python",
   "pygments_lexer": "ipython3",
   "version": "3.13.2"
  }
 },
 "nbformat": 4,
 "nbformat_minor": 5
}
