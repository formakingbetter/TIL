{
 "cells": [
  {
   "cell_type": "code",
   "execution_count": 3,
   "id": "6cd6fff2",
   "metadata": {},
   "outputs": [],
   "source": [
    "# 실습: 매출 데이터 그룹별 분석\n",
    "import pandas as pd\n",
    "import numpy as np\n",
    "import matplotlib.pyplot as plt\n",
    "import seaborn as sns\n",
    "\n",
    "# 매출 데이터 생성\n",
    "np.random.seed(42)\n",
    "\n",
    "# 날짜 생성 (2023년 전체)\n",
    "dates = pd.date_range('2023-01-01', '2023-12-31')\n",
    "n_records = 500\n",
    "\n",
    "data = {\n",
    "    '주문ID': np.arange(1001, 1001 + n_records),\n",
    "    '주문일자': np.random.choice(dates, n_records),\n",
    "    '고객ID': np.random.choice([f'CUST{i:03d}' for i in range(1, 101)], n_records),\n",
    "    '상품ID': np.random.choice([f'PROD{i:03d}' for i in range(1, 51)], n_records),\n",
    "    '카테고리': np.random.choice(['전자제품', '의류', '가구', '식품', '화장품', '도서', '스포츠'], n_records),\n",
    "    '매출액': np.random.randint(10000, 500000, n_records),\n",
    "    '수량': np.random.randint(1, 10, n_records),\n",
    "    '지역': np.random.choice(['서울', '부산', '인천', '대구', '광주', '대전', '울산', '경기', '강원'], n_records),\n",
    "    '결제방법': np.random.choice(['신용카드', '현금', '체크카드', '휴대폰', '계좌이체'], n_records),\n",
    "    '고객등급': np.random.choice(['일반', '실버', '골드', 'VIP'], n_records)\n",
    "}\n",
    "\n",
    "df = pd.DataFrame(data)"
   ]
  },
  {
   "cell_type": "code",
   "execution_count": 12,
   "id": "a77cc5fc",
   "metadata": {},
   "outputs": [
    {
     "name": "stdout",
     "output_type": "stream",
     "text": [
      "Index(['주문ID', '주문일자', '고객ID', '상품ID', '카테고리', '매출액', '수량', '지역', '결제방법',\n",
      "       '고객등급'],\n",
      "      dtype='object')\n"
     ]
    },
    {
     "ename": "TypeError",
     "evalue": "'DataFrame' object is not callable",
     "output_type": "error",
     "traceback": [
      "\u001b[31m---------------------------------------------------------------------------\u001b[39m",
      "\u001b[31mTypeError\u001b[39m                                 Traceback (most recent call last)",
      "\u001b[36mCell\u001b[39m\u001b[36m \u001b[39m\u001b[32mIn[12]\u001b[39m\u001b[32m, line 4\u001b[39m\n\u001b[32m      2\u001b[39m df.groupby(\u001b[33m'\u001b[39m\u001b[33m고객등급\u001b[39m\u001b[33m'\u001b[39m)[\u001b[33m'\u001b[39m\u001b[33m수량\u001b[39m\u001b[33m'\u001b[39m].mean()\n\u001b[32m      3\u001b[39m \u001b[38;5;28mprint\u001b[39m(df.columns)\n\u001b[32m----> \u001b[39m\u001b[32m4\u001b[39m \u001b[38;5;28mprint\u001b[39m(\u001b[43mdf\u001b[49m\u001b[43m(\u001b[49m\u001b[33;43m'\u001b[39;49m\u001b[33;43m주문일자\u001b[39;49m\u001b[33;43m'\u001b[39;49m\u001b[43m)\u001b[49m.agg([\u001b[33m'\u001b[39m\u001b[33mmean\u001b[39m\u001b[33m'\u001b[39m,\u001b[33m'\u001b[39m\u001b[33msum\u001b[39m\u001b[33m'\u001b[39m]))\n\u001b[32m      6\u001b[39m \u001b[38;5;66;03m# 날짜 정보 추출 -> 컴럼 추가 ['주문년도별',]\u001b[39;00m\n",
      "\u001b[31mTypeError\u001b[39m: 'DataFrame' object is not callable"
     ]
    }
   ],
   "source": [
    "# 검색후 하기\n",
    "df.groupby('고객등급')['수량'].mean()\n",
    "print(df.columns)\n",
    "print(df('주문일자').agg(['mean','sum']))\n",
    "\n",
    "# 날짜 정보 추출 -> 컴럼 추가 ['주문년도별',]\n"
   ]
  },
  {
   "cell_type": "code",
   "execution_count": null,
   "id": "8425bf3f",
   "metadata": {},
   "outputs": [],
   "source": [
    "#단가 계산\n",
    "#단가 컬럼 추가\n"
   ]
  }
 ],
 "metadata": {
  "kernelspec": {
   "display_name": "Python 3",
   "language": "python",
   "name": "python3"
  },
  "language_info": {
   "codemirror_mode": {
    "name": "ipython",
    "version": 3
   },
   "file_extension": ".py",
   "mimetype": "text/x-python",
   "name": "python",
   "nbconvert_exporter": "python",
   "pygments_lexer": "ipython3",
   "version": "3.13.2"
  }
 },
 "nbformat": 4,
 "nbformat_minor": 5
}
