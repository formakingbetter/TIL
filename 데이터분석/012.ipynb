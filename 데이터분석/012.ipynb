{
 "cells": [
  {
   "cell_type": "code",
   "execution_count": 1,
   "id": "edacdca4",
   "metadata": {},
   "outputs": [],
   "source": [
    "import numpy as np\n",
    "import pandas as pd\n",
    "import matplotlib.pyplot as plt\n",
    "import seaborn as sns\n",
    "\n",
    "from IPython.display import display\n",
    "import warnings\n",
    "\n",
    "warnings.filterwarnings('ignore', category=UserWarning)\n",
    "plt.rcParams['font.family'] = 'Malgun Gothic'\n",
    "plt.rcParams['axes.unicode_minus'] = False\n",
    "\n",
    "\n",
    "df = pd.read_csv('./OnlineRetail.csv', encoding='ISO-8859-1')"
   ]
  },
  {
   "cell_type": "code",
   "execution_count": 2,
   "id": "6d99906c",
   "metadata": {},
   "outputs": [],
   "source": [
    "from da_utils import profile"
   ]
  },
  {
   "cell_type": "code",
   "execution_count": 3,
   "id": "7e6c5b07",
   "metadata": {},
   "outputs": [
    {
     "name": "stdout",
     "output_type": "stream",
     "text": [
      "==================================================\n",
      "종합 데이터 품질 리포트\n",
      "==================================================\n",
      "\n",
      "1. 기본정보\n",
      "- 데이터 크기: 541909행 x 8열\n",
      "- 메모리 사용량: 173.12mb\n",
      "- 수치형 변수: 3개\n",
      "- 범주형 변수: 5개\n",
      "\n",
      "2. 결측값 분석\n",
      "⚠️\n"
     ]
    },
    {
     "data": {
      "text/html": [
       "<div>\n",
       "<style scoped>\n",
       "    .dataframe tbody tr th:only-of-type {\n",
       "        vertical-align: middle;\n",
       "    }\n",
       "\n",
       "    .dataframe tbody tr th {\n",
       "        vertical-align: top;\n",
       "    }\n",
       "\n",
       "    .dataframe thead th {\n",
       "        text-align: right;\n",
       "    }\n",
       "</style>\n",
       "<table border=\"1\" class=\"dataframe\">\n",
       "  <thead>\n",
       "    <tr style=\"text-align: right;\">\n",
       "      <th></th>\n",
       "      <th>결측수</th>\n",
       "      <th>결측율(%)</th>\n",
       "    </tr>\n",
       "  </thead>\n",
       "  <tbody>\n",
       "    <tr>\n",
       "      <th>Description</th>\n",
       "      <td>1454</td>\n",
       "      <td>0.27</td>\n",
       "    </tr>\n",
       "    <tr>\n",
       "      <th>CustomerID</th>\n",
       "      <td>135080</td>\n",
       "      <td>24.93</td>\n",
       "    </tr>\n",
       "  </tbody>\n",
       "</table>\n",
       "</div>"
      ],
      "text/plain": [
       "                결측수  결측율(%)\n",
       "Description    1454    0.27\n",
       "CustomerID   135080   24.93"
      ]
     },
     "metadata": {},
     "output_type": "display_data"
    },
    {
     "name": "stdout",
     "output_type": "stream",
     "text": [
      "\n",
      "3. 수치형 변수 품질 분석\n"
     ]
    },
    {
     "data": {
      "text/html": [
       "<div>\n",
       "<style scoped>\n",
       "    .dataframe tbody tr th:only-of-type {\n",
       "        vertical-align: middle;\n",
       "    }\n",
       "\n",
       "    .dataframe tbody tr th {\n",
       "        vertical-align: top;\n",
       "    }\n",
       "\n",
       "    .dataframe thead th {\n",
       "        text-align: right;\n",
       "    }\n",
       "</style>\n",
       "<table border=\"1\" class=\"dataframe\">\n",
       "  <thead>\n",
       "    <tr style=\"text-align: right;\">\n",
       "      <th></th>\n",
       "      <th>변수명</th>\n",
       "      <th>평균</th>\n",
       "      <th>표준편차</th>\n",
       "      <th>최솟값</th>\n",
       "      <th>최댓값</th>\n",
       "      <th>왜도</th>\n",
       "      <th>첨도</th>\n",
       "      <th>이상값비율(%)</th>\n",
       "      <th>유일값비율(%)</th>\n",
       "    </tr>\n",
       "  </thead>\n",
       "  <tbody>\n",
       "    <tr>\n",
       "      <th>0</th>\n",
       "      <td>Quantity</td>\n",
       "      <td>9.552</td>\n",
       "      <td>218.081</td>\n",
       "      <td>-80995.00</td>\n",
       "      <td>80995.0</td>\n",
       "      <td>-0.264</td>\n",
       "      <td>119769.160</td>\n",
       "      <td>10.817</td>\n",
       "      <td>0.133</td>\n",
       "    </tr>\n",
       "    <tr>\n",
       "      <th>1</th>\n",
       "      <td>UnitPrice</td>\n",
       "      <td>4.611</td>\n",
       "      <td>96.760</td>\n",
       "      <td>-11062.06</td>\n",
       "      <td>38970.0</td>\n",
       "      <td>186.507</td>\n",
       "      <td>59005.719</td>\n",
       "      <td>7.312</td>\n",
       "      <td>0.301</td>\n",
       "    </tr>\n",
       "    <tr>\n",
       "      <th>2</th>\n",
       "      <td>CustomerID</td>\n",
       "      <td>15287.691</td>\n",
       "      <td>1713.600</td>\n",
       "      <td>12346.00</td>\n",
       "      <td>18287.0</td>\n",
       "      <td>0.030</td>\n",
       "      <td>-1.180</td>\n",
       "      <td>0.000</td>\n",
       "      <td>1.075</td>\n",
       "    </tr>\n",
       "  </tbody>\n",
       "</table>\n",
       "</div>"
      ],
      "text/plain": [
       "          변수명         평균      표준편차       최솟값      최댓값       왜도          첨도  \\\n",
       "0    Quantity      9.552   218.081 -80995.00  80995.0   -0.264  119769.160   \n",
       "1   UnitPrice      4.611    96.760 -11062.06  38970.0  186.507   59005.719   \n",
       "2  CustomerID  15287.691  1713.600  12346.00  18287.0    0.030      -1.180   \n",
       "\n",
       "   이상값비율(%)  유일값비율(%)  \n",
       "0    10.817     0.133  \n",
       "1     7.312     0.301  \n",
       "2     0.000     1.075  "
      ]
     },
     "metadata": {},
     "output_type": "display_data"
    },
    {
     "name": "stdout",
     "output_type": "stream",
     "text": [
      "\n",
      "4. 분포 이상 감지\n",
      "\n",
      "- 극심한 왜도 (|skewness|>2)\n",
      "⚠️\n",
      "-- UnitPrice: 왜도 = 186.507\n",
      "\n",
      "- 높은 이상값 비율(>5%)\n",
      "⚠️\n",
      "-- Quantity: 이상값 10.8%\n",
      "-- UnitPrice: 이상값 7.3%\n"
     ]
    },
    {
     "data": {
      "text/html": [
       "<div>\n",
       "<style scoped>\n",
       "    .dataframe tbody tr th:only-of-type {\n",
       "        vertical-align: middle;\n",
       "    }\n",
       "\n",
       "    .dataframe tbody tr th {\n",
       "        vertical-align: top;\n",
       "    }\n",
       "\n",
       "    .dataframe thead th {\n",
       "        text-align: right;\n",
       "    }\n",
       "</style>\n",
       "<table border=\"1\" class=\"dataframe\">\n",
       "  <thead>\n",
       "    <tr style=\"text-align: right;\">\n",
       "      <th></th>\n",
       "      <th>변수명</th>\n",
       "      <th>평균</th>\n",
       "      <th>표준편차</th>\n",
       "      <th>최솟값</th>\n",
       "      <th>최댓값</th>\n",
       "      <th>왜도</th>\n",
       "      <th>첨도</th>\n",
       "      <th>이상값비율(%)</th>\n",
       "      <th>유일값비율(%)</th>\n",
       "    </tr>\n",
       "  </thead>\n",
       "  <tbody>\n",
       "    <tr>\n",
       "      <th>0</th>\n",
       "      <td>Quantity</td>\n",
       "      <td>9.552</td>\n",
       "      <td>218.081</td>\n",
       "      <td>-80995.00</td>\n",
       "      <td>80995.0</td>\n",
       "      <td>-0.264</td>\n",
       "      <td>119769.160</td>\n",
       "      <td>10.817</td>\n",
       "      <td>0.133</td>\n",
       "    </tr>\n",
       "    <tr>\n",
       "      <th>1</th>\n",
       "      <td>UnitPrice</td>\n",
       "      <td>4.611</td>\n",
       "      <td>96.760</td>\n",
       "      <td>-11062.06</td>\n",
       "      <td>38970.0</td>\n",
       "      <td>186.507</td>\n",
       "      <td>59005.719</td>\n",
       "      <td>7.312</td>\n",
       "      <td>0.301</td>\n",
       "    </tr>\n",
       "    <tr>\n",
       "      <th>2</th>\n",
       "      <td>CustomerID</td>\n",
       "      <td>15287.691</td>\n",
       "      <td>1713.600</td>\n",
       "      <td>12346.00</td>\n",
       "      <td>18287.0</td>\n",
       "      <td>0.030</td>\n",
       "      <td>-1.180</td>\n",
       "      <td>0.000</td>\n",
       "      <td>1.075</td>\n",
       "    </tr>\n",
       "  </tbody>\n",
       "</table>\n",
       "</div>"
      ],
      "text/plain": [
       "          변수명         평균      표준편차       최솟값      최댓값       왜도          첨도  \\\n",
       "0    Quantity      9.552   218.081 -80995.00  80995.0   -0.264  119769.160   \n",
       "1   UnitPrice      4.611    96.760 -11062.06  38970.0  186.507   59005.719   \n",
       "2  CustomerID  15287.691  1713.600  12346.00  18287.0    0.030      -1.180   \n",
       "\n",
       "   이상값비율(%)  유일값비율(%)  \n",
       "0    10.817     0.133  \n",
       "1     7.312     0.301  \n",
       "2     0.000     1.075  "
      ]
     },
     "execution_count": 3,
     "metadata": {},
     "output_type": "execute_result"
    }
   ],
   "source": [
    "profile.get_data_profile(df)"
   ]
  },
  {
   "cell_type": "code",
   "execution_count": 4,
   "id": "5a0df082",
   "metadata": {},
   "outputs": [
    {
     "name": "stdout",
     "output_type": "stream",
     "text": [
      "CustomerID 결측값 제거: 135080건\n"
     ]
    }
   ],
   "source": [
    "df_clean = df.copy()\n",
    "missing_customers = df_clean['CustomerID'].isnull().sum()\n",
    "print(f'CustomerID 결측값 제거: {missing_customers}건')\n",
    "df_clean = df_clean.dropna(subset=['CustomerID'])"
   ]
  }
 ],
 "metadata": {
  "kernelspec": {
   "display_name": "Python 3",
   "language": "python",
   "name": "python3"
  },
  "language_info": {
   "codemirror_mode": {
    "name": "ipython",
    "version": 3
   },
   "file_extension": ".py",
   "mimetype": "text/x-python",
   "name": "python",
   "nbconvert_exporter": "python",
   "pygments_lexer": "ipython3",
   "version": "3.13.2"
  }
 },
 "nbformat": 4,
 "nbformat_minor": 5
}
