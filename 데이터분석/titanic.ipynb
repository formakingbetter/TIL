{
 "cells": [
  {
   "cell_type": "markdown",
   "id": "c78d4b7b",
   "metadata": {},
   "source": [
    "# `titanic.ipynb`\n",
    "타이타닉 생존자 데이터 셋"
   ]
  },
  {
   "cell_type": "code",
   "execution_count": 1,
   "id": "d0cf7448",
   "metadata": {},
   "outputs": [
    {
     "name": "stdout",
     "output_type": "stream",
     "text": [
      "Note: you may need to restart the kernel to use updated packages.\n"
     ]
    },
    {
     "name": "stderr",
     "output_type": "stream",
     "text": [
      "\n",
      "[notice] A new release of pip is available: 25.1.1 -> 25.2\n",
      "[notice] To update, run: python.exe -m pip install --upgrade pip\n"
     ]
    }
   ],
   "source": [
    "# -q (quiet) 옵션은 설치 로그를 안보여줌(조용히함)\n",
    "%pip install -q seaborn"
   ]
  },
  {
   "cell_type": "code",
   "execution_count": 2,
   "id": "dfa60459",
   "metadata": {},
   "outputs": [
    {
     "name": "stdout",
     "output_type": "stream",
     "text": [
      "타이타닉 데이터 미리보기:\n",
      "   survived  pclass     sex   age  sibsp  parch     fare embarked  class  \\\n",
      "0         0       3    male  22.0      1      0   7.2500        S  Third   \n",
      "1         1       1  female  38.0      1      0  71.2833        C  First   \n",
      "2         1       3  female  26.0      0      0   7.9250        S  Third   \n",
      "3         1       1  female  35.0      1      0  53.1000        S  First   \n",
      "4         0       3    male  35.0      0      0   8.0500        S  Third   \n",
      "\n",
      "     who  adult_male deck  embark_town alive  alone  \n",
      "0    man        True  NaN  Southampton    no  False  \n",
      "1  woman       False    C    Cherbourg   yes  False  \n",
      "2  woman       False  NaN  Southampton   yes   True  \n",
      "3  woman       False    C  Southampton   yes  False  \n",
      "4    man        True  NaN  Southampton    no   True  \n",
      "\n",
      "데이터셋 정보:\n",
      "<class 'pandas.core.frame.DataFrame'>\n",
      "RangeIndex: 891 entries, 0 to 890\n",
      "Data columns (total 15 columns):\n",
      " #   Column       Non-Null Count  Dtype   \n",
      "---  ------       --------------  -----   \n",
      " 0   survived     891 non-null    int64   \n",
      " 1   pclass       891 non-null    int64   \n",
      " 2   sex          891 non-null    object  \n",
      " 3   age          714 non-null    float64 \n",
      " 4   sibsp        891 non-null    int64   \n",
      " 5   parch        891 non-null    int64   \n",
      " 6   fare         891 non-null    float64 \n",
      " 7   embarked     889 non-null    object  \n",
      " 8   class        891 non-null    category\n",
      " 9   who          891 non-null    object  \n",
      " 10  adult_male   891 non-null    bool    \n",
      " 11  deck         203 non-null    category\n",
      " 12  embark_town  889 non-null    object  \n",
      " 13  alive        891 non-null    object  \n",
      " 14  alone        891 non-null    bool    \n",
      "dtypes: bool(2), category(2), float64(2), int64(4), object(5)\n",
      "memory usage: 80.7+ KB\n",
      "None\n",
      "\n",
      "데이터 요약 통계:\n",
      "         survived      pclass         age       sibsp       parch        fare\n",
      "count  891.000000  891.000000  714.000000  891.000000  891.000000  891.000000\n",
      "mean     0.383838    2.308642   29.699118    0.523008    0.381594   32.204208\n",
      "std      0.486592    0.836071   14.526497    1.102743    0.806057   49.693429\n",
      "min      0.000000    1.000000    0.420000    0.000000    0.000000    0.000000\n",
      "25%      0.000000    2.000000   20.125000    0.000000    0.000000    7.910400\n",
      "50%      0.000000    3.000000   28.000000    0.000000    0.000000   14.454200\n",
      "75%      1.000000    3.000000   38.000000    1.000000    0.000000   31.000000\n",
      "max      1.000000    3.000000   80.000000    8.000000    6.000000  512.329200\n"
     ]
    }
   ],
   "source": [
    "# 타이타닉 데이터셋 불러오기\n",
    "# (seaborn 기본 내장된 예제 데이터셋)\n",
    "import seaborn as sns\n",
    "import pandas as pd\n",
    "\n",
    "# titanic 데이터 DataFrame\n",
    "titanic = sns.load_dataset('titanic')\n",
    "\n",
    "# 처음 5개 행 보기\n",
    "print(\"타이타닉 데이터 미리보기:\")\n",
    "print(titanic.head())\n",
    "\n",
    "# 데이터셋 정보 확인\n",
    "print(\"\\n데이터셋 정보:\")\n",
    "print(titanic.info())\n",
    "\n",
    "# 데이터 요약 통계\n",
    "print(\"\\n데이터 요약 통계:\")\n",
    "print(titanic.describe())"
   ]
  },
  {
   "cell_type": "code",
   "execution_count": 3,
   "id": "4cd46741",
   "metadata": {},
   "outputs": [
    {
     "data": {
      "text/plain": [
       "survived\n",
       "0    549\n",
       "1    342\n",
       "Name: count, dtype: int64"
      ]
     },
     "execution_count": 3,
     "metadata": {},
     "output_type": "execute_result"
    }
   ],
   "source": [
    "# Col별 결측치 함계\n",
    "titanic.isna().sum()\n",
    "# 승객 등급 등장 빈도 (1, 2, 3 등석)\n",
    "titanic['pclass'].value_counts()\n",
    "# 성별 빈도 (남/녀)\n",
    "titanic['sex'].value_counts()\n",
    "# 생존 여부 빈도 (생존자/사망자)\n",
    "titanic['survived'].value_counts()"
   ]
  },
  {
   "cell_type": "code",
   "execution_count": 4,
   "id": "a2686c57",
   "metadata": {},
   "outputs": [
    {
     "data": {
      "text/plain": [
       "pclass\n",
       "1    0.629630\n",
       "2    0.472826\n",
       "3    0.242363\n",
       "Name: survived, dtype: float64"
      ]
     },
     "execution_count": 4,
     "metadata": {},
     "output_type": "execute_result"
    }
   ],
   "source": [
    "# 성별에 따른 생존율\n",
    "titanic.groupby('sex')['survived'].mean()\n",
    "# 더 복잡한 통계 가능\n",
    "titanic.groupby('sex').agg({'survived': ['mean']})\n",
    "\n",
    "# 승객 등급에 따른 생존율\n",
    "titanic.groupby('pclass')['survived'].mean()"
   ]
  },
  {
   "cell_type": "code",
   "execution_count": 5,
   "id": "50824d18",
   "metadata": {},
   "outputs": [
    {
     "name": "stderr",
     "output_type": "stream",
     "text": [
      "C:\\Users\\mingyu\\AppData\\Local\\Temp\\ipykernel_28012\\2419760893.py:24: FutureWarning: The default of observed=False is deprecated and will be changed to True in a future version of pandas. Pass observed=False to retain current behavior or observed=True to adopt the future default and silence this warning.\n",
      "  titanic.groupby(['sex', 'age_group'])['survived'].mean()\n",
      "C:\\Users\\mingyu\\AppData\\Local\\Temp\\ipykernel_28012\\2419760893.py:26: FutureWarning: The default value of observed=False is deprecated and will change to observed=True in a future version of pandas. Specify observed=False to silence this warning and retain the current behavior\n",
      "  titanic.pivot_table(\n"
     ]
    },
    {
     "data": {
      "text/html": [
       "<div>\n",
       "<style scoped>\n",
       "    .dataframe tbody tr th:only-of-type {\n",
       "        vertical-align: middle;\n",
       "    }\n",
       "\n",
       "    .dataframe tbody tr th {\n",
       "        vertical-align: top;\n",
       "    }\n",
       "\n",
       "    .dataframe thead th {\n",
       "        text-align: right;\n",
       "    }\n",
       "</style>\n",
       "<table border=\"1\" class=\"dataframe\">\n",
       "  <thead>\n",
       "    <tr style=\"text-align: right;\">\n",
       "      <th>age_group</th>\n",
       "      <th>아동</th>\n",
       "      <th>청소년</th>\n",
       "      <th>청년</th>\n",
       "      <th>중장년</th>\n",
       "      <th>노년</th>\n",
       "    </tr>\n",
       "    <tr>\n",
       "      <th>sex</th>\n",
       "      <th></th>\n",
       "      <th></th>\n",
       "      <th></th>\n",
       "      <th></th>\n",
       "      <th></th>\n",
       "    </tr>\n",
       "  </thead>\n",
       "  <tbody>\n",
       "    <tr>\n",
       "      <th>female</th>\n",
       "      <td>0.593750</td>\n",
       "      <td>0.750000</td>\n",
       "      <td>0.783333</td>\n",
       "      <td>0.771429</td>\n",
       "      <td>1.000000</td>\n",
       "    </tr>\n",
       "    <tr>\n",
       "      <th>male</th>\n",
       "      <td>0.567568</td>\n",
       "      <td>0.088235</td>\n",
       "      <td>0.180672</td>\n",
       "      <td>0.192000</td>\n",
       "      <td>0.105263</td>\n",
       "    </tr>\n",
       "  </tbody>\n",
       "</table>\n",
       "</div>"
      ],
      "text/plain": [
       "age_group        아동       청소년        청년       중장년        노년\n",
       "sex                                                        \n",
       "female     0.593750  0.750000  0.783333  0.771429  1.000000\n",
       "male       0.567568  0.088235  0.180672  0.192000  0.105263"
      ]
     },
     "execution_count": 5,
     "metadata": {},
     "output_type": "execute_result"
    }
   ],
   "source": [
    "# 성별 & 승객 등급에 따른 생존\n",
    "titanic.groupby(['sex', 'pclass'])['survived'].mean()\n",
    "# 피벗테이블\n",
    "titanic.pivot_table(\n",
    "    values='survived',\n",
    "    index='sex',\n",
    "    columns='pclass',\n",
    "    aggfunc='mean'\n",
    ")\n",
    "\n",
    "# 나이 그룹별 생존율\n",
    "titanic['age_group'] = pd.cut(\n",
    "    titanic['age'],\n",
    "    bins=[0, 12, 18, 35, 60, 100, 200],  # 초과 ~ 이하\n",
    "    labels=['아동', '청소년', '청년', '중장년', '노년', '불사']\n",
    ")\n",
    "\n",
    "titanic.head()\n",
    "\n",
    "#  obeserved 옵션 == 카테고리는 있는데, 해당되는 데이터가 없을 때 표시한다 / 안한다. \n",
    "titanic.groupby('age_group', observed=False)['survived'].mean()\n",
    "\n",
    "# 성별 + 나이그룹으로 생존율 확인\n",
    "titanic.groupby(['sex', 'age_group'])['survived'].mean()\n",
    "# 피벗테이블\n",
    "titanic.pivot_table(\n",
    "    values='survived',\n",
    "    index='sex',\n",
    "    columns='age_group',\n",
    "    aggfunc='mean'\n",
    ")"
   ]
  },
  {
   "cell_type": "code",
   "execution_count": 6,
   "id": "661a3cd0",
   "metadata": {},
   "outputs": [
    {
     "data": {
      "text/plain": [
       "age            19.865320\n",
       "embarked        0.224467\n",
       "deck           77.216611\n",
       "embark_town     0.224467\n",
       "dtype: float64"
      ]
     },
     "execution_count": 6,
     "metadata": {},
     "output_type": "execute_result"
    }
   ],
   "source": [
    "titanic = sns.load_dataset('titanic')\n",
    "# 결측치 확인\n",
    "missing = titanic.isna().sum()\n",
    "# 결측 있는 항목만 확인\n",
    "missing[missing > 0]\n",
    "\n",
    "# 결측 비율\n",
    "missing_p = titanic.isna().mean() * 100\n",
    "missing_p[missing_p > 0]"
   ]
  },
  {
   "cell_type": "code",
   "execution_count": 7,
   "id": "8bb5e83c",
   "metadata": {},
   "outputs": [
    {
     "data": {
      "text/html": [
       "<div>\n",
       "<style scoped>\n",
       "    .dataframe tbody tr th:only-of-type {\n",
       "        vertical-align: middle;\n",
       "    }\n",
       "\n",
       "    .dataframe tbody tr th {\n",
       "        vertical-align: top;\n",
       "    }\n",
       "\n",
       "    .dataframe thead th {\n",
       "        text-align: right;\n",
       "    }\n",
       "</style>\n",
       "<table border=\"1\" class=\"dataframe\">\n",
       "  <thead>\n",
       "    <tr style=\"text-align: right;\">\n",
       "      <th></th>\n",
       "      <th>survived</th>\n",
       "      <th>pclass</th>\n",
       "      <th>sex</th>\n",
       "      <th>age</th>\n",
       "      <th>sibsp</th>\n",
       "      <th>parch</th>\n",
       "      <th>fare</th>\n",
       "      <th>embarked</th>\n",
       "      <th>class</th>\n",
       "      <th>who</th>\n",
       "      <th>adult_male</th>\n",
       "      <th>deck</th>\n",
       "      <th>embark_town</th>\n",
       "      <th>alive</th>\n",
       "      <th>alone</th>\n",
       "    </tr>\n",
       "  </thead>\n",
       "  <tbody>\n",
       "    <tr>\n",
       "      <th>5</th>\n",
       "      <td>0</td>\n",
       "      <td>3</td>\n",
       "      <td>male</td>\n",
       "      <td>29.699118</td>\n",
       "      <td>0</td>\n",
       "      <td>0</td>\n",
       "      <td>8.4583</td>\n",
       "      <td>Q</td>\n",
       "      <td>Third</td>\n",
       "      <td>man</td>\n",
       "      <td>True</td>\n",
       "      <td>NaN</td>\n",
       "      <td>Queenstown</td>\n",
       "      <td>no</td>\n",
       "      <td>True</td>\n",
       "    </tr>\n",
       "    <tr>\n",
       "      <th>17</th>\n",
       "      <td>1</td>\n",
       "      <td>2</td>\n",
       "      <td>male</td>\n",
       "      <td>29.699118</td>\n",
       "      <td>0</td>\n",
       "      <td>0</td>\n",
       "      <td>13.0000</td>\n",
       "      <td>S</td>\n",
       "      <td>Second</td>\n",
       "      <td>man</td>\n",
       "      <td>True</td>\n",
       "      <td>NaN</td>\n",
       "      <td>Southampton</td>\n",
       "      <td>yes</td>\n",
       "      <td>True</td>\n",
       "    </tr>\n",
       "    <tr>\n",
       "      <th>19</th>\n",
       "      <td>1</td>\n",
       "      <td>3</td>\n",
       "      <td>female</td>\n",
       "      <td>29.699118</td>\n",
       "      <td>0</td>\n",
       "      <td>0</td>\n",
       "      <td>7.2250</td>\n",
       "      <td>C</td>\n",
       "      <td>Third</td>\n",
       "      <td>woman</td>\n",
       "      <td>False</td>\n",
       "      <td>NaN</td>\n",
       "      <td>Cherbourg</td>\n",
       "      <td>yes</td>\n",
       "      <td>True</td>\n",
       "    </tr>\n",
       "    <tr>\n",
       "      <th>26</th>\n",
       "      <td>0</td>\n",
       "      <td>3</td>\n",
       "      <td>male</td>\n",
       "      <td>29.699118</td>\n",
       "      <td>0</td>\n",
       "      <td>0</td>\n",
       "      <td>7.2250</td>\n",
       "      <td>C</td>\n",
       "      <td>Third</td>\n",
       "      <td>man</td>\n",
       "      <td>True</td>\n",
       "      <td>NaN</td>\n",
       "      <td>Cherbourg</td>\n",
       "      <td>no</td>\n",
       "      <td>True</td>\n",
       "    </tr>\n",
       "    <tr>\n",
       "      <th>28</th>\n",
       "      <td>1</td>\n",
       "      <td>3</td>\n",
       "      <td>female</td>\n",
       "      <td>29.699118</td>\n",
       "      <td>0</td>\n",
       "      <td>0</td>\n",
       "      <td>7.8792</td>\n",
       "      <td>Q</td>\n",
       "      <td>Third</td>\n",
       "      <td>woman</td>\n",
       "      <td>False</td>\n",
       "      <td>NaN</td>\n",
       "      <td>Queenstown</td>\n",
       "      <td>yes</td>\n",
       "      <td>True</td>\n",
       "    </tr>\n",
       "    <tr>\n",
       "      <th>...</th>\n",
       "      <td>...</td>\n",
       "      <td>...</td>\n",
       "      <td>...</td>\n",
       "      <td>...</td>\n",
       "      <td>...</td>\n",
       "      <td>...</td>\n",
       "      <td>...</td>\n",
       "      <td>...</td>\n",
       "      <td>...</td>\n",
       "      <td>...</td>\n",
       "      <td>...</td>\n",
       "      <td>...</td>\n",
       "      <td>...</td>\n",
       "      <td>...</td>\n",
       "      <td>...</td>\n",
       "    </tr>\n",
       "    <tr>\n",
       "      <th>859</th>\n",
       "      <td>0</td>\n",
       "      <td>3</td>\n",
       "      <td>male</td>\n",
       "      <td>29.699118</td>\n",
       "      <td>0</td>\n",
       "      <td>0</td>\n",
       "      <td>7.2292</td>\n",
       "      <td>C</td>\n",
       "      <td>Third</td>\n",
       "      <td>man</td>\n",
       "      <td>True</td>\n",
       "      <td>NaN</td>\n",
       "      <td>Cherbourg</td>\n",
       "      <td>no</td>\n",
       "      <td>True</td>\n",
       "    </tr>\n",
       "    <tr>\n",
       "      <th>863</th>\n",
       "      <td>0</td>\n",
       "      <td>3</td>\n",
       "      <td>female</td>\n",
       "      <td>29.699118</td>\n",
       "      <td>8</td>\n",
       "      <td>2</td>\n",
       "      <td>69.5500</td>\n",
       "      <td>S</td>\n",
       "      <td>Third</td>\n",
       "      <td>woman</td>\n",
       "      <td>False</td>\n",
       "      <td>NaN</td>\n",
       "      <td>Southampton</td>\n",
       "      <td>no</td>\n",
       "      <td>False</td>\n",
       "    </tr>\n",
       "    <tr>\n",
       "      <th>868</th>\n",
       "      <td>0</td>\n",
       "      <td>3</td>\n",
       "      <td>male</td>\n",
       "      <td>29.699118</td>\n",
       "      <td>0</td>\n",
       "      <td>0</td>\n",
       "      <td>9.5000</td>\n",
       "      <td>S</td>\n",
       "      <td>Third</td>\n",
       "      <td>man</td>\n",
       "      <td>True</td>\n",
       "      <td>NaN</td>\n",
       "      <td>Southampton</td>\n",
       "      <td>no</td>\n",
       "      <td>True</td>\n",
       "    </tr>\n",
       "    <tr>\n",
       "      <th>878</th>\n",
       "      <td>0</td>\n",
       "      <td>3</td>\n",
       "      <td>male</td>\n",
       "      <td>29.699118</td>\n",
       "      <td>0</td>\n",
       "      <td>0</td>\n",
       "      <td>7.8958</td>\n",
       "      <td>S</td>\n",
       "      <td>Third</td>\n",
       "      <td>man</td>\n",
       "      <td>True</td>\n",
       "      <td>NaN</td>\n",
       "      <td>Southampton</td>\n",
       "      <td>no</td>\n",
       "      <td>True</td>\n",
       "    </tr>\n",
       "    <tr>\n",
       "      <th>888</th>\n",
       "      <td>0</td>\n",
       "      <td>3</td>\n",
       "      <td>female</td>\n",
       "      <td>29.699118</td>\n",
       "      <td>1</td>\n",
       "      <td>2</td>\n",
       "      <td>23.4500</td>\n",
       "      <td>S</td>\n",
       "      <td>Third</td>\n",
       "      <td>woman</td>\n",
       "      <td>False</td>\n",
       "      <td>NaN</td>\n",
       "      <td>Southampton</td>\n",
       "      <td>no</td>\n",
       "      <td>False</td>\n",
       "    </tr>\n",
       "  </tbody>\n",
       "</table>\n",
       "<p>177 rows × 15 columns</p>\n",
       "</div>"
      ],
      "text/plain": [
       "     survived  pclass     sex        age  sibsp  parch     fare embarked  \\\n",
       "5           0       3    male  29.699118      0      0   8.4583        Q   \n",
       "17          1       2    male  29.699118      0      0  13.0000        S   \n",
       "19          1       3  female  29.699118      0      0   7.2250        C   \n",
       "26          0       3    male  29.699118      0      0   7.2250        C   \n",
       "28          1       3  female  29.699118      0      0   7.8792        Q   \n",
       "..        ...     ...     ...        ...    ...    ...      ...      ...   \n",
       "859         0       3    male  29.699118      0      0   7.2292        C   \n",
       "863         0       3  female  29.699118      8      2  69.5500        S   \n",
       "868         0       3    male  29.699118      0      0   9.5000        S   \n",
       "878         0       3    male  29.699118      0      0   7.8958        S   \n",
       "888         0       3  female  29.699118      1      2  23.4500        S   \n",
       "\n",
       "      class    who  adult_male deck  embark_town alive  alone  \n",
       "5     Third    man        True  NaN   Queenstown    no   True  \n",
       "17   Second    man        True  NaN  Southampton   yes   True  \n",
       "19    Third  woman       False  NaN    Cherbourg   yes   True  \n",
       "26    Third    man        True  NaN    Cherbourg    no   True  \n",
       "28    Third  woman       False  NaN   Queenstown   yes   True  \n",
       "..      ...    ...         ...  ...          ...   ...    ...  \n",
       "859   Third    man        True  NaN    Cherbourg    no   True  \n",
       "863   Third  woman       False  NaN  Southampton    no  False  \n",
       "868   Third    man        True  NaN  Southampton    no   True  \n",
       "878   Third    man        True  NaN  Southampton    no   True  \n",
       "888   Third  woman       False  NaN  Southampton    no  False  \n",
       "\n",
       "[177 rows x 15 columns]"
      ]
     },
     "execution_count": 7,
     "metadata": {},
     "output_type": "execute_result"
    }
   ],
   "source": [
    "# 결측치 채우기\n",
    "# age: 중요한 정보 : 평균/중앙값 대체\n",
    "# embarked: 가장 많은 사람들이 탄 곳으로 대체\n",
    "# deck: 추측 불가능(의믹 없음) -> 삭제\n",
    "\n",
    "# 필요하다면, 카피떠서 진행\n",
    "titanic_processed = titanic.copy()\n",
    "\n",
    "# 비어있던 행 마스킹\n",
    "age_mask = titanic['age'].isna()\n",
    "\n",
    "# 나이 결측치 채우기 (남녀상관없이 전체평균으로 채움)\n",
    "mean_age = titanic['age'].mean()\n",
    "titanic_processed['age'] = titanic['age'].fillna(mean_age)\n",
    "\n",
    "# 결측치 있는지 재확인\n",
    "titanic_processed.isna().sum()\n",
    "\n",
    "# 평균으로 채워진 값들만 확인\n",
    "titanic_processed.loc[age_mask]\n"
   ]
  },
  {
   "cell_type": "code",
   "execution_count": 8,
   "id": "9f5c3418",
   "metadata": {},
   "outputs": [
    {
     "name": "stdout",
     "output_type": "stream",
     "text": [
      "sex     pclass\n",
      "female  1         34.611765\n",
      "        2         28.722973\n",
      "        3         21.750000\n",
      "male    1         41.281386\n",
      "        2         30.740707\n",
      "        3         26.507589\n",
      "Name: age, dtype: float64\n"
     ]
    },
    {
     "data": {
      "text/html": [
       "<div>\n",
       "<style scoped>\n",
       "    .dataframe tbody tr th:only-of-type {\n",
       "        vertical-align: middle;\n",
       "    }\n",
       "\n",
       "    .dataframe tbody tr th {\n",
       "        vertical-align: top;\n",
       "    }\n",
       "\n",
       "    .dataframe thead th {\n",
       "        text-align: right;\n",
       "    }\n",
       "</style>\n",
       "<table border=\"1\" class=\"dataframe\">\n",
       "  <thead>\n",
       "    <tr style=\"text-align: right;\">\n",
       "      <th></th>\n",
       "      <th>survived</th>\n",
       "      <th>pclass</th>\n",
       "      <th>sex</th>\n",
       "      <th>age</th>\n",
       "      <th>sibsp</th>\n",
       "      <th>parch</th>\n",
       "      <th>fare</th>\n",
       "      <th>embarked</th>\n",
       "      <th>class</th>\n",
       "      <th>who</th>\n",
       "      <th>adult_male</th>\n",
       "      <th>deck</th>\n",
       "      <th>embark_town</th>\n",
       "      <th>alive</th>\n",
       "      <th>alone</th>\n",
       "    </tr>\n",
       "  </thead>\n",
       "  <tbody>\n",
       "    <tr>\n",
       "      <th>5</th>\n",
       "      <td>0</td>\n",
       "      <td>3</td>\n",
       "      <td>male</td>\n",
       "      <td>26.507589</td>\n",
       "      <td>0</td>\n",
       "      <td>0</td>\n",
       "      <td>8.4583</td>\n",
       "      <td>Q</td>\n",
       "      <td>Third</td>\n",
       "      <td>man</td>\n",
       "      <td>True</td>\n",
       "      <td>NaN</td>\n",
       "      <td>Queenstown</td>\n",
       "      <td>no</td>\n",
       "      <td>True</td>\n",
       "    </tr>\n",
       "    <tr>\n",
       "      <th>17</th>\n",
       "      <td>1</td>\n",
       "      <td>2</td>\n",
       "      <td>male</td>\n",
       "      <td>30.740707</td>\n",
       "      <td>0</td>\n",
       "      <td>0</td>\n",
       "      <td>13.0000</td>\n",
       "      <td>S</td>\n",
       "      <td>Second</td>\n",
       "      <td>man</td>\n",
       "      <td>True</td>\n",
       "      <td>NaN</td>\n",
       "      <td>Southampton</td>\n",
       "      <td>yes</td>\n",
       "      <td>True</td>\n",
       "    </tr>\n",
       "    <tr>\n",
       "      <th>19</th>\n",
       "      <td>1</td>\n",
       "      <td>3</td>\n",
       "      <td>female</td>\n",
       "      <td>21.750000</td>\n",
       "      <td>0</td>\n",
       "      <td>0</td>\n",
       "      <td>7.2250</td>\n",
       "      <td>C</td>\n",
       "      <td>Third</td>\n",
       "      <td>woman</td>\n",
       "      <td>False</td>\n",
       "      <td>NaN</td>\n",
       "      <td>Cherbourg</td>\n",
       "      <td>yes</td>\n",
       "      <td>True</td>\n",
       "    </tr>\n",
       "    <tr>\n",
       "      <th>26</th>\n",
       "      <td>0</td>\n",
       "      <td>3</td>\n",
       "      <td>male</td>\n",
       "      <td>26.507589</td>\n",
       "      <td>0</td>\n",
       "      <td>0</td>\n",
       "      <td>7.2250</td>\n",
       "      <td>C</td>\n",
       "      <td>Third</td>\n",
       "      <td>man</td>\n",
       "      <td>True</td>\n",
       "      <td>NaN</td>\n",
       "      <td>Cherbourg</td>\n",
       "      <td>no</td>\n",
       "      <td>True</td>\n",
       "    </tr>\n",
       "    <tr>\n",
       "      <th>28</th>\n",
       "      <td>1</td>\n",
       "      <td>3</td>\n",
       "      <td>female</td>\n",
       "      <td>21.750000</td>\n",
       "      <td>0</td>\n",
       "      <td>0</td>\n",
       "      <td>7.8792</td>\n",
       "      <td>Q</td>\n",
       "      <td>Third</td>\n",
       "      <td>woman</td>\n",
       "      <td>False</td>\n",
       "      <td>NaN</td>\n",
       "      <td>Queenstown</td>\n",
       "      <td>yes</td>\n",
       "      <td>True</td>\n",
       "    </tr>\n",
       "    <tr>\n",
       "      <th>...</th>\n",
       "      <td>...</td>\n",
       "      <td>...</td>\n",
       "      <td>...</td>\n",
       "      <td>...</td>\n",
       "      <td>...</td>\n",
       "      <td>...</td>\n",
       "      <td>...</td>\n",
       "      <td>...</td>\n",
       "      <td>...</td>\n",
       "      <td>...</td>\n",
       "      <td>...</td>\n",
       "      <td>...</td>\n",
       "      <td>...</td>\n",
       "      <td>...</td>\n",
       "      <td>...</td>\n",
       "    </tr>\n",
       "    <tr>\n",
       "      <th>859</th>\n",
       "      <td>0</td>\n",
       "      <td>3</td>\n",
       "      <td>male</td>\n",
       "      <td>26.507589</td>\n",
       "      <td>0</td>\n",
       "      <td>0</td>\n",
       "      <td>7.2292</td>\n",
       "      <td>C</td>\n",
       "      <td>Third</td>\n",
       "      <td>man</td>\n",
       "      <td>True</td>\n",
       "      <td>NaN</td>\n",
       "      <td>Cherbourg</td>\n",
       "      <td>no</td>\n",
       "      <td>True</td>\n",
       "    </tr>\n",
       "    <tr>\n",
       "      <th>863</th>\n",
       "      <td>0</td>\n",
       "      <td>3</td>\n",
       "      <td>female</td>\n",
       "      <td>21.750000</td>\n",
       "      <td>8</td>\n",
       "      <td>2</td>\n",
       "      <td>69.5500</td>\n",
       "      <td>S</td>\n",
       "      <td>Third</td>\n",
       "      <td>woman</td>\n",
       "      <td>False</td>\n",
       "      <td>NaN</td>\n",
       "      <td>Southampton</td>\n",
       "      <td>no</td>\n",
       "      <td>False</td>\n",
       "    </tr>\n",
       "    <tr>\n",
       "      <th>868</th>\n",
       "      <td>0</td>\n",
       "      <td>3</td>\n",
       "      <td>male</td>\n",
       "      <td>26.507589</td>\n",
       "      <td>0</td>\n",
       "      <td>0</td>\n",
       "      <td>9.5000</td>\n",
       "      <td>S</td>\n",
       "      <td>Third</td>\n",
       "      <td>man</td>\n",
       "      <td>True</td>\n",
       "      <td>NaN</td>\n",
       "      <td>Southampton</td>\n",
       "      <td>no</td>\n",
       "      <td>True</td>\n",
       "    </tr>\n",
       "    <tr>\n",
       "      <th>878</th>\n",
       "      <td>0</td>\n",
       "      <td>3</td>\n",
       "      <td>male</td>\n",
       "      <td>26.507589</td>\n",
       "      <td>0</td>\n",
       "      <td>0</td>\n",
       "      <td>7.8958</td>\n",
       "      <td>S</td>\n",
       "      <td>Third</td>\n",
       "      <td>man</td>\n",
       "      <td>True</td>\n",
       "      <td>NaN</td>\n",
       "      <td>Southampton</td>\n",
       "      <td>no</td>\n",
       "      <td>True</td>\n",
       "    </tr>\n",
       "    <tr>\n",
       "      <th>888</th>\n",
       "      <td>0</td>\n",
       "      <td>3</td>\n",
       "      <td>female</td>\n",
       "      <td>21.750000</td>\n",
       "      <td>1</td>\n",
       "      <td>2</td>\n",
       "      <td>23.4500</td>\n",
       "      <td>S</td>\n",
       "      <td>Third</td>\n",
       "      <td>woman</td>\n",
       "      <td>False</td>\n",
       "      <td>NaN</td>\n",
       "      <td>Southampton</td>\n",
       "      <td>no</td>\n",
       "      <td>False</td>\n",
       "    </tr>\n",
       "  </tbody>\n",
       "</table>\n",
       "<p>177 rows × 15 columns</p>\n",
       "</div>"
      ],
      "text/plain": [
       "     survived  pclass     sex        age  sibsp  parch     fare embarked  \\\n",
       "5           0       3    male  26.507589      0      0   8.4583        Q   \n",
       "17          1       2    male  30.740707      0      0  13.0000        S   \n",
       "19          1       3  female  21.750000      0      0   7.2250        C   \n",
       "26          0       3    male  26.507589      0      0   7.2250        C   \n",
       "28          1       3  female  21.750000      0      0   7.8792        Q   \n",
       "..        ...     ...     ...        ...    ...    ...      ...      ...   \n",
       "859         0       3    male  26.507589      0      0   7.2292        C   \n",
       "863         0       3  female  21.750000      8      2  69.5500        S   \n",
       "868         0       3    male  26.507589      0      0   9.5000        S   \n",
       "878         0       3    male  26.507589      0      0   7.8958        S   \n",
       "888         0       3  female  21.750000      1      2  23.4500        S   \n",
       "\n",
       "      class    who  adult_male deck  embark_town alive  alone  \n",
       "5     Third    man        True  NaN   Queenstown    no   True  \n",
       "17   Second    man        True  NaN  Southampton   yes   True  \n",
       "19    Third  woman       False  NaN    Cherbourg   yes   True  \n",
       "26    Third    man        True  NaN    Cherbourg    no   True  \n",
       "28    Third  woman       False  NaN   Queenstown   yes   True  \n",
       "..      ...    ...         ...  ...          ...   ...    ...  \n",
       "859   Third    man        True  NaN    Cherbourg    no   True  \n",
       "863   Third  woman       False  NaN  Southampton    no  False  \n",
       "868   Third    man        True  NaN  Southampton    no   True  \n",
       "878   Third    man        True  NaN  Southampton    no   True  \n",
       "888   Third  woman       False  NaN  Southampton    no  False  \n",
       "\n",
       "[177 rows x 15 columns]"
      ]
     },
     "execution_count": 8,
     "metadata": {},
     "output_type": "execute_result"
    }
   ],
   "source": [
    "# 전체평균으로 대체하는게 옳을까..?\n",
    "# 성별/객실별로 평균을 추정하는건?\n",
    "\n",
    "# 모든 사람들을 성별/객실 그룹의 평균 나이로 바꾼 Series\n",
    "print(titanic.groupby(['sex', 'pclass'])['age'].mean())\n",
    "mean_ages = titanic.groupby(['sex', 'pclass'])['age'].transform('mean')\n",
    "\n",
    "# titanic 의 age col 중 빈 값만, mean_ages로 채움.\n",
    "titanic_processed['age'] = titanic['age'].fillna(mean_ages)\n",
    "\n",
    "# 원래 비어있던 애들만 확인 \n",
    "titanic_processed.loc[ titanic['age'].isna() ]"
   ]
  },
  {
   "cell_type": "code",
   "execution_count": 9,
   "id": "9c22b873",
   "metadata": {},
   "outputs": [
    {
     "data": {
      "text/plain": [
       "np.int64(0)"
      ]
     },
     "execution_count": 9,
     "metadata": {},
     "output_type": "execute_result"
    }
   ],
   "source": [
    "# embarked (탑승 도시) -> 최빈값(가장 많이 탄 곳)\n",
    "\n",
    "# 비어있는 항구 개수\n",
    "titanic['embarked'].isna().sum()\n",
    "\n",
    "# 최빈값 (Series - 벡터)\n",
    "mode_embarked = titanic['embarked'].mode()[0]  # Series 에서 1개 뽑기\n",
    "# 빈 값은 최빈값으로 교체\n",
    "titanic_processed['embarked'] = titanic['embarked'].fillna(mode_embarked)\n",
    "\n",
    "# 처리 완료 확인 (빈값 0개)\n",
    "titanic_processed['embarked'].isna().sum()"
   ]
  },
  {
   "cell_type": "code",
   "execution_count": 10,
   "id": "76ed66f9",
   "metadata": {},
   "outputs": [],
   "source": [
    "# deck 은 77%가 비어있음 -> 삭제\n",
    "titanic['deck'].isna().mean() * 100  # 빈값 비율\n",
    "\n",
    "# 'deck' 컬럼은 삭제  - inplace 는 실행하면, 2번째 실행 불가능\n",
    "titanic_processed.drop('deck', axis=1, inplace=True)"
   ]
  },
  {
   "cell_type": "code",
   "execution_count": 11,
   "id": "d3115327",
   "metadata": {},
   "outputs": [
    {
     "name": "stdout",
     "output_type": "stream",
     "text": [
      "<class 'pandas.core.frame.DataFrame'>\n",
      "RangeIndex: 891 entries, 0 to 890\n",
      "Data columns (total 14 columns):\n",
      " #   Column       Non-Null Count  Dtype   \n",
      "---  ------       --------------  -----   \n",
      " 0   survived     891 non-null    int64   \n",
      " 1   pclass       891 non-null    int64   \n",
      " 2   sex          891 non-null    object  \n",
      " 3   age          891 non-null    float64 \n",
      " 4   sibsp        891 non-null    int64   \n",
      " 5   parch        891 non-null    int64   \n",
      " 6   fare         891 non-null    float64 \n",
      " 7   embarked     891 non-null    object  \n",
      " 8   class        891 non-null    category\n",
      " 9   who          891 non-null    object  \n",
      " 10  adult_male   891 non-null    bool    \n",
      " 11  embark_town  889 non-null    object  \n",
      " 12  alive        891 non-null    object  \n",
      " 13  alone        891 non-null    bool    \n",
      "dtypes: bool(2), category(1), float64(2), int64(4), object(5)\n",
      "memory usage: 79.4+ KB\n"
     ]
    }
   ],
   "source": [
    "titanic_processed.info()"
   ]
  },
  {
   "cell_type": "markdown",
   "id": "1183957c",
   "metadata": {},
   "source": [
    "## 타이타닉 이상치 처리 (~15:35)"
   ]
  },
  {
   "cell_type": "code",
   "execution_count": 12,
   "id": "501426d6",
   "metadata": {},
   "outputs": [
    {
     "name": "stdout",
     "output_type": "stream",
     "text": [
      "타이타닉 데이터셋 기본 정보:\n",
      "              age        fare\n",
      "count  714.000000  891.000000\n",
      "mean    29.699118   32.204208\n",
      "std     14.526497   49.693429\n",
      "min      0.420000    0.000000\n",
      "25%     20.125000    7.910400\n",
      "50%     28.000000   14.454200\n",
      "75%     38.000000   31.000000\n",
      "max     80.000000  512.329200\n"
     ]
    }
   ],
   "source": [
    "# 타이타닉 데이터셋 불러오기\n",
    "# (seaborn 기본 내장된 예제 데이터셋)\n",
    "import seaborn as sns\n",
    "import numpy as np\n",
    "import pandas as pd\n",
    "import matplotlib.pyplot as plt\n",
    "import warnings\n",
    "\n",
    "warnings.filterwarnings('ignore', category=UserWarning)\n",
    "\n",
    "plt.rcParams['font.family'] = 'Malgun Gothic'\n",
    "plt.rcParams['axes.unicode_minus'] = False\n",
    "\n",
    "# titanic 데이터 DataFrame\n",
    "titanic = sns.load_dataset('titanic')\n",
    "\n",
    "# 수치 데이터에만 집중\n",
    "numeric_cols = ['age', 'fare']\n",
    "print(\"타이타닉 데이터셋 기본 정보:\")\n",
    "print(titanic[numeric_cols].describe())"
   ]
  },
  {
   "cell_type": "code",
   "execution_count": 13,
   "id": "a53b1985",
   "metadata": {},
   "outputs": [
    {
     "name": "stdout",
     "output_type": "stream",
     "text": [
      "sex     pclass\n",
      "female  1         34.611765\n",
      "        2         28.722973\n",
      "        3         21.750000\n",
      "male    1         41.281386\n",
      "        2         30.740707\n",
      "        3         26.507589\n",
      "Name: age, dtype: float64\n"
     ]
    }
   ],
   "source": [
    "# 결측치(Missing Value) 처리 (이전에 배운 내용 활용)\n",
    "# 모든 사람들을 성별/객실 그룹의 평균 나이로 바꾼 Series\n",
    "tp = titanic.copy()\n",
    "\n",
    "print(titanic.groupby(['sex', 'pclass'])['age'].mean())\n",
    "\n",
    "# 각 승객의 그룹에 맞춰서(성별 + 객실등급) 해당 그룹의 평균으로 일괄 변경\n",
    "mean_ages = titanic.groupby(['sex', 'pclass'])['age'].transform('mean')\n",
    "mean_ages\n",
    "# titanic 의 'age' col 중 빈 값만, mean_ages로 채움.\n",
    "tp['age'] = titanic['age'].fillna(mean_ages)\n"
   ]
  },
  {
   "cell_type": "code",
   "execution_count": 14,
   "id": "85909c3f",
   "metadata": {},
   "outputs": [
    {
     "data": {
      "image/png": "[encoded data removed]",
      "text/plain": [
       "<Figure size 1500x1000 with 8 Axes>"
      ]
     },
     "metadata": {},
     "output_type": "display_data"
    }
   ],
   "source": [
    "# 결측치 처리 안하면 제대로 시각화 제대로 안나옴\n",
    "\n",
    "# 1. 이상치 탐지 및 시각화\n",
    "plt.figure(figsize=(15, 10))\n",
    "\n",
    "# 나이 분포\n",
    "plt.subplot(2, 4, 1)\n",
    "plt.hist(tp['age'], bins=30, alpha=0.7)\n",
    "plt.title('나이 분포')\n",
    "plt.xlabel('나이')\n",
    "\n",
    "plt.subplot(2, 4, 2)\n",
    "plt.boxplot(tp['age'])\n",
    "plt.title('나이 박스플롯')\n",
    "\n",
    "# 요금 분포\n",
    "plt.subplot(2, 4, 3)\n",
    "plt.hist(tp['fare'], bins=50, alpha=0.7)\n",
    "plt.title('요금 분포')\n",
    "plt.xlabel('요금')\n",
    "\n",
    "plt.subplot(2, 4, 4)\n",
    "plt.boxplot(tp['fare'])\n",
    "plt.title('요금 박스플롯')\n",
    "\n",
    "# 산점도\n",
    "plt.subplot(2, 4, 5)\n",
    "plt.scatter(tp['age'], tp['fare'], alpha=0.6)\n",
    "plt.xlabel('나이')\n",
    "plt.ylabel('요금')\n",
    "plt.title('나이 vs 요금')\n",
    "\n",
    "# 객실 등급별 요금 분포\n",
    "plt.subplot(2, 4, 6)\n",
    "sns.boxplot(x='pclass', y='fare', data=tp)\n",
    "plt.title('객실 등급별 요금')\n",
    "\n",
    "# 생존자별 나이 분포\n",
    "plt.subplot(2, 4, 7)\n",
    "sns.boxplot(x='survived', y='age', data=tp)\n",
    "plt.title('생존자별 나이')\n",
    "\n",
    "# 생존자별 요금 분포\n",
    "plt.subplot(2, 4, 8)\n",
    "sns.boxplot(x='survived', y='fare', data=tp)\n",
    "plt.title('생존자별 요금')\n",
    "\n",
    "plt.tight_layout()\n",
    "plt.show()"
   ]
  },
  {
   "cell_type": "code",
   "execution_count": 15,
   "id": "f3624263",
   "metadata": {},
   "outputs": [
    {
     "data": {
      "text/html": [
       "<div>\n",
       "<style scoped>\n",
       "    .dataframe tbody tr th:only-of-type {\n",
       "        vertical-align: middle;\n",
       "    }\n",
       "\n",
       "    .dataframe tbody tr th {\n",
       "        vertical-align: top;\n",
       "    }\n",
       "\n",
       "    .dataframe thead th {\n",
       "        text-align: right;\n",
       "    }\n",
       "</style>\n",
       "<table border=\"1\" class=\"dataframe\">\n",
       "  <thead>\n",
       "    <tr style=\"text-align: right;\">\n",
       "      <th></th>\n",
       "      <th>age</th>\n",
       "      <th>fare</th>\n",
       "    </tr>\n",
       "  </thead>\n",
       "  <tbody>\n",
       "    <tr>\n",
       "      <th>count</th>\n",
       "      <td>891.000000</td>\n",
       "      <td>891.000000</td>\n",
       "    </tr>\n",
       "    <tr>\n",
       "      <th>mean</th>\n",
       "      <td>29.318643</td>\n",
       "      <td>32.204208</td>\n",
       "    </tr>\n",
       "    <tr>\n",
       "      <th>std</th>\n",
       "      <td>13.281103</td>\n",
       "      <td>49.693429</td>\n",
       "    </tr>\n",
       "    <tr>\n",
       "      <th>min</th>\n",
       "      <td>0.420000</td>\n",
       "      <td>0.000000</td>\n",
       "    </tr>\n",
       "    <tr>\n",
       "      <th>25%</th>\n",
       "      <td>21.750000</td>\n",
       "      <td>7.910400</td>\n",
       "    </tr>\n",
       "    <tr>\n",
       "      <th>50%</th>\n",
       "      <td>26.507589</td>\n",
       "      <td>14.454200</td>\n",
       "    </tr>\n",
       "    <tr>\n",
       "      <th>75%</th>\n",
       "      <td>36.000000</td>\n",
       "      <td>31.000000</td>\n",
       "    </tr>\n",
       "    <tr>\n",
       "      <th>max</th>\n",
       "      <td>80.000000</td>\n",
       "      <td>512.329200</td>\n",
       "    </tr>\n",
       "  </tbody>\n",
       "</table>\n",
       "</div>"
      ],
      "text/plain": [
       "              age        fare\n",
       "count  891.000000  891.000000\n",
       "mean    29.318643   32.204208\n",
       "std     13.281103   49.693429\n",
       "min      0.420000    0.000000\n",
       "25%     21.750000    7.910400\n",
       "50%     26.507589   14.454200\n",
       "75%     36.000000   31.000000\n",
       "max     80.000000  512.329200"
      ]
     },
     "execution_count": 15,
     "metadata": {},
     "output_type": "execute_result"
    }
   ],
   "source": [
    "tp[numeric_cols].describe()"
   ]
  },
  {
   "cell_type": "code",
   "execution_count": 16,
   "id": "0497e3da",
   "metadata": {},
   "outputs": [
    {
     "data": {
      "text/plain": [
       "np.float64(13.019079685746352)"
      ]
     },
     "execution_count": 16,
     "metadata": {},
     "output_type": "execute_result"
    }
   ],
   "source": [
    "# 2. 요금 데이터의 이상치 분석\n",
    "# IQR 방법으로 이상치 탐지\n",
    "Q1 = tp['fare'].quantile(0.25)\n",
    "Q3 = tp['fare'].quantile(0.75)\n",
    "IQR = Q3 - Q1\n",
    "lower = Q1 - 1.5 * IQR\n",
    "upper = Q3 + 1.5 * IQR\n",
    "\n",
    "fare_outliers = (tp['fare'] < lower) | (tp['fare'] > upper)\n",
    "# 전체 IQR 기준 이상치 개수 / 전체 개수 (%)\n",
    "fare_outliers.sum() / fare_outliers.count() * 100"
   ]
  },
  {
   "cell_type": "code",
   "execution_count": 17,
   "id": "316fe9b4",
   "metadata": {},
   "outputs": [
    {
     "name": "stdout",
     "output_type": "stream",
     "text": [
      "pclass\n",
      "1    104\n",
      "3      7\n",
      "2      5\n",
      "Name: count, dtype: int64\n",
      "sex\n",
      "female    70\n",
      "male      46\n",
      "Name: count, dtype: int64\n",
      "survived\n",
      "1    79\n",
      "0    37\n",
      "Name: count, dtype: int64\n"
     ]
    }
   ],
   "source": [
    "# 이상치에 해당하는 승객들 특성 분석\n",
    "outliers_passengers = tp[fare_outliers]\n",
    "# 객실 등급 분포\n",
    "print(outliers_passengers['pclass'].value_counts())\n",
    "# 성별 분포\n",
    "print(outliers_passengers['sex'].value_counts())\n",
    "# 생존 여부\n",
    "print(outliers_passengers['survived'].value_counts())\n",
    "\n",
    "# 추가로 Grouping 해서 분석도 가능"
   ]
  },
  {
   "cell_type": "code",
   "execution_count": 18,
   "id": "9a5ec50d",
   "metadata": {},
   "outputs": [],
   "source": [
    "# 3. 객실 등급을 고려한 이상치 분석\n",
    "# 객실 등급별로 요금 이상치 탐지 (전체 기준 이상치가 객실별로는 이상치 아닐 수 있음)\n",
    "\n",
    "def detect_outliers_by_group(data: pd.DataFrame, group_col: str, value_col: str):\n",
    "    \"\"\"그룹별 이상치 탐지\"\"\"\n",
    "    # 우선 전원 모두 이상치 아님(False)\n",
    "    outliers = pd.Series(False, data.index)\n",
    "    # 현재 group_col 기준 유니크한 데이터 (pclass -> 1, 2, 3)\n",
    "    for group in data[group_col].unique():\n",
    "        # df[df['pclass'] == 3]['fare'] /  df[df['pclass'] == 1]['fare'] / \n",
    "        group_data = data[data[group_col] == group][value_col]\n",
    "        Q1 = group_data.quantile(0.25)        \n",
    "        Q3 = group_data.quantile(0.75)\n",
    "        IQR = Q3 - Q1\n",
    "        lower = Q1 - 1.5 * IQR\n",
    "        upper = Q3 + 1.5 * IQR\n",
    "        group_outliers = (group_data < lower) | (group_data > upper)\n",
    "        outliers[group_data.index] = group_outliers\n",
    "\n",
    "    return outliers\n"
   ]
  },
  {
   "cell_type": "code",
   "execution_count": 19,
   "id": "ca140f2f",
   "metadata": {},
   "outputs": [
    {
     "data": {
      "text/plain": [
       "np.int64(79)"
      ]
     },
     "execution_count": 19,
     "metadata": {},
     "output_type": "execute_result"
    }
   ],
   "source": [
    "# 객실 등급별 이상한 사람들 (T/F mask series)\n",
    "fare_outliers_by_pclass = detect_outliers_by_group(tp, 'pclass', 'fare')\n",
    "# 각 등급별로 따로 선별한 이상치 개수\n",
    "fare_outliers_by_pclass.sum()"
   ]
  },
  {
   "cell_type": "code",
   "execution_count": 20,
   "id": "e2cf5804",
   "metadata": {},
   "outputs": [],
   "source": [
    "# 4. 이상치 처리 방법 적용 및 비교\n",
    "# 방법 1: 제거\n",
    "titanic_removed = titanic[~fare_outliers_by_pclass].copy()"
   ]
  },
  {
   "cell_type": "code",
   "execution_count": 21,
   "id": "6b84c6b0",
   "metadata": {},
   "outputs": [],
   "source": [
    "# 방법 2: 윈저화 (95% 백분위수로 제한) [전체]\n",
    "titanic_winsorized = titanic.copy()\n",
    "upper_limit = titanic['fare'].quantile(0.95)\n",
    "titanic_winsorized['fare'] = titanic_winsorized['fare'].clip(upper=upper_limit)"
   ]
  },
  {
   "cell_type": "code",
   "execution_count": 22,
   "id": "2743b4bd",
   "metadata": {},
   "outputs": [],
   "source": [
    "# 방법 3: 객실 등급별 중앙값으로 대체\n",
    "titanic_replaced = titanic.copy()\n",
    "for pclass in titanic['pclass'].unique():\n",
    "    class_data = titanic[titanic['pclass'] == pclass]\n",
    "    class_median = class_data['fare'].median()\n",
    "    \n",
    "    # 해당 등급의 이상치를 중앙값으로 대체\n",
    "    class_outliers = fare_outliers_by_pclass & (titanic['pclass'] == pclass)\n",
    "    titanic_replaced.loc[class_outliers, 'fare'] = class_median"
   ]
  },
  {
   "cell_type": "code",
   "execution_count": 23,
   "id": "c377c85a",
   "metadata": {},
   "outputs": [
    {
     "name": "stdout",
     "output_type": "stream",
     "text": [
      "\n",
      "이상치 처리 결과 비교:\n",
      "==================================================\n",
      "          원본      제거     윈저화      대체\n",
      "데이터수  891.00  812.00  891.00  891.00\n",
      "평균     32.20   25.14   27.72   24.85\n",
      "중앙값    14.45   13.00   14.45   13.00\n",
      "표준편차   49.69   29.60   29.23   29.05\n",
      "최대값   512.33  164.87  112.08  164.87\n"
     ]
    }
   ],
   "source": [
    "# 5. 처리 결과 비교\n",
    "print(\"\\n이상치 처리 결과 비교:\")\n",
    "print(\"=\" * 50)\n",
    "\n",
    "methods = {\n",
    "    '원본': titanic['fare'],\n",
    "    '제거': titanic_removed['fare'],\n",
    "    '윈저화': titanic_winsorized['fare'],\n",
    "    '대체': titanic_replaced['fare']\n",
    "}\n",
    "\n",
    "comparison_stats = pd.DataFrame()\n",
    "for method, data in methods.items():\n",
    "    stats_dict = {\n",
    "        '데이터수': len(data),\n",
    "        '평균': data.mean(),\n",
    "        '중앙값': data.median(),\n",
    "        '표준편차': data.std(),\n",
    "        '최대값': data.max()\n",
    "    }\n",
    "    comparison_stats[method] = stats_dict\n",
    "\n",
    "print(comparison_stats.round(2))"
   ]
  },
  {
   "cell_type": "code",
   "execution_count": 24,
   "id": "a2095c0d",
   "metadata": {},
   "outputs": [
    {
     "name": "stderr",
     "output_type": "stream",
     "text": [
      "C:\\Users\\mingyu\\AppData\\Local\\Temp\\ipykernel_28012\\1909697452.py:32: MatplotlibDeprecationWarning: The 'labels' parameter of boxplot() has been renamed 'tick_labels' since Matplotlib 3.9; support for the old name will be dropped in 3.11.\n",
      "  plt.boxplot(box_data, labels=['원본', '제거', '윈저화', '대체'])\n"
     ]
    },
    {
     "data": {
      "image/png": "[encoded data removed]",
      "text/plain": [
       "<Figure size 1500x1000 with 5 Axes>"
      ]
     },
     "metadata": {},
     "output_type": "display_data"
    }
   ],
   "source": [
    "# 6. 시각화: 처리 방법별 분포 비교\n",
    "plt.figure(figsize=(15, 10))\n",
    "\n",
    "plt.subplot(2, 3, 1)\n",
    "plt.hist(titanic['fare'], bins=50, alpha=0.7, color='blue')\n",
    "plt.title('원본 요금 분포')\n",
    "plt.xlabel('요금')\n",
    "\n",
    "plt.subplot(2, 3, 2)\n",
    "plt.hist(titanic_removed['fare'], bins=50, alpha=0.7, color='green')\n",
    "plt.title('이상치 제거 후')\n",
    "plt.xlabel('요금')\n",
    "\n",
    "plt.subplot(2, 3, 3)\n",
    "plt.hist(titanic_winsorized['fare'], bins=50, alpha=0.7, color='orange')\n",
    "plt.title('윈저화 후')\n",
    "plt.xlabel('요금')\n",
    "\n",
    "plt.subplot(2, 3, 5)\n",
    "plt.hist(titanic_replaced['fare'], bins=50, alpha=0.7, color='purple')\n",
    "plt.title('이상치 대체 후')\n",
    "plt.xlabel('요금')\n",
    "\n",
    "plt.subplot(2, 3, 6)\n",
    "# 박스플롯으로 비교\n",
    "box_data = [\n",
    "    titanic['fare'].values,\n",
    "    titanic_removed['fare'].values,\n",
    "    titanic_winsorized['fare'].values,\n",
    "    titanic_replaced['fare'].values\n",
    "]\n",
    "plt.boxplot(box_data, labels=['원본', '제거', '윈저화', '대체'])\n",
    "plt.title('처리 방법별 박스플롯 비교')\n",
    "plt.ylabel('요금')\n",
    "plt.xticks(rotation=45)\n",
    "\n",
    "plt.tight_layout()\n",
    "plt.show()"
   ]
  },
  {
   "cell_type": "code",
   "execution_count": 25,
   "id": "e551b4ba",
   "metadata": {},
   "outputs": [
    {
     "name": "stdout",
     "output_type": "stream",
     "text": [
      "\n",
      "이상치 처리가 상관관계에 미치는 영향:\n",
      "                 원본      제거     윈저화      대체\n",
      "요금-생존율 상관계수  0.2573  0.3325  0.3147  0.3443\n"
     ]
    }
   ],
   "source": [
    "# 7. 이상치 처리가 분석에 미치는 영향 확인\n",
    "correlation_comparison = pd.DataFrame({\n",
    "    '원본': [titanic['fare'].corr(titanic['survived'])],\n",
    "    '제거': [titanic_removed['fare'].corr(titanic_removed['survived'])],\n",
    "    '윈저화': [titanic_winsorized['fare'].corr(titanic_winsorized['survived'])],\n",
    "    '대체': [titanic_replaced['fare'].corr(titanic_replaced['survived'])]\n",
    "}, index=['요금-생존율 상관계수'])\n",
    "\n",
    "print(\"\\n이상치 처리가 상관관계에 미치는 영향:\")\n",
    "print(correlation_comparison.round(4))"
   ]
  },
  {
   "cell_type": "code",
   "execution_count": 33,
   "id": "49728447",
   "metadata": {},
   "outputs": [
    {
     "name": "stdout",
     "output_type": "stream",
     "text": [
      "타이타닉 데이터 미리보기:\n",
      "   survived  pclass     sex   age  sibsp  parch     fare embarked  class  \\\n",
      "0         0       3    male  22.0      1      0   7.2500        S  Third   \n",
      "1         1       1  female  38.0      1      0  71.2833        C  First   \n",
      "2         1       3  female  26.0      0      0   7.9250        S  Third   \n",
      "3         1       1  female  35.0      1      0  53.1000        S  First   \n",
      "4         0       3    male  35.0      0      0   8.0500        S  Third   \n",
      "\n",
      "     who  adult_male deck  embark_town alive  alone  \n",
      "0    man        True  NaN  Southampton    no  False  \n",
      "1  woman       False    C    Cherbourg   yes  False  \n",
      "2  woman       False  NaN  Southampton   yes   True  \n",
      "3  woman       False    C  Southampton   yes  False  \n",
      "4    man        True  NaN  Southampton    no   True  \n",
      "\n",
      "데이터셋 정보:\n",
      "<class 'pandas.core.frame.DataFrame'>\n",
      "RangeIndex: 891 entries, 0 to 890\n",
      "Data columns (total 15 columns):\n",
      " #   Column       Non-Null Count  Dtype   \n",
      "---  ------       --------------  -----   \n",
      " 0   survived     891 non-null    int64   \n",
      " 1   pclass       891 non-null    int64   \n",
      " 2   sex          891 non-null    object  \n",
      " 3   age          714 non-null    float64 \n",
      " 4   sibsp        891 non-null    int64   \n",
      " 5   parch        891 non-null    int64   \n",
      " 6   fare         891 non-null    float64 \n",
      " 7   embarked     889 non-null    object  \n",
      " 8   class        891 non-null    category\n",
      " 9   who          891 non-null    object  \n",
      " 10  adult_male   891 non-null    bool    \n",
      " 11  deck         203 non-null    category\n",
      " 12  embark_town  889 non-null    object  \n",
      " 13  alive        891 non-null    object  \n",
      " 14  alone        891 non-null    bool    \n",
      "dtypes: bool(2), category(2), float64(2), int64(4), object(5)\n",
      "memory usage: 80.7+ KB\n",
      "None\n",
      "\n",
      "데이터 요약 통계:\n",
      "         survived      pclass         age       sibsp       parch        fare\n",
      "count  891.000000  891.000000  714.000000  891.000000  891.000000  891.000000\n",
      "mean     0.383838    2.308642   29.699118    0.523008    0.381594   32.204208\n",
      "std      0.486592    0.836071   14.526497    1.102743    0.806057   49.693429\n",
      "min      0.000000    1.000000    0.420000    0.000000    0.000000    0.000000\n",
      "25%      0.000000    2.000000   20.125000    0.000000    0.000000    7.910400\n",
      "50%      0.000000    3.000000   28.000000    0.000000    0.000000   14.454200\n",
      "75%      1.000000    3.000000   38.000000    1.000000    0.000000   31.000000\n",
      "max      1.000000    3.000000   80.000000    8.000000    6.000000  512.329200\n",
      "\n",
      "메모리 사용량: \n",
      "278.87109375 mb\n"
     ]
    }
   ],
   "source": [
    "# 타이타닉 데이터셋 불러오기\n",
    "# (seaborn 기본 내장된 예제 데이터셋)\n",
    "import seaborn as sns\n",
    "import pandas as pd\n",
    "import matplotlib.pyplot as plt\n",
    "import warnings\n",
    "warnings.filterwarnings('ignore')\n",
    "\n",
    "# 한글 폰트 설정 (선택사항)\n",
    "plt.rcParams['font.family'] = 'DejaVu Sans'\n",
    "plt.style.use('default')\n",
    "\n",
    "# titanic 데이터 DataFrame\n",
    "titanic = sns.load_dataset('titanic')\n",
    "\n",
    "# 처음 5개 행 보기\n",
    "print(\"타이타닉 데이터 미리보기:\")\n",
    "print(titanic.head())\n",
    "\n",
    "# 데이터셋 정보 확인\n",
    "print(\"\\n데이터셋 정보:\")\n",
    "print(titanic.info())\n",
    "\n",
    "# 데이터 요약 통계\n",
    "print(\"\\n데이터 요약 통계:\")\n",
    "print(titanic.describe())\n",
    "\n",
    "# 메모리 사용량\n",
    "print('\\n메모리 사용량: ')\n",
    "print(titanic.memory_usage(deep= True).sum() / 1024,'mb')"
   ]
  },
  {
   "cell_type": "markdown",
   "id": "c1255fa6",
   "metadata": {},
   "source": [
    "## 분석 목표\n",
    "- 타이타닉 승객의 생존에 영향을 준 주요 요인 파악\n",
    "- 생존율 개선을 위한 안전 정책 수립 근거 마련\n",
    "- 위험 그룹 식별 및 우선 구조 대상 결정\n",
    "\n",
    "### 핵심 질문\n",
    "1. 어떤 승객 특성이 생존에 가장 큰 영향을 미쳤는가?\n",
    "1. 사회 경제적 지위가 생존에 영향을 미쳤는가?\n",
    "1. 나이/성별에 따른 생존 패턴은 어떠한가?"
   ]
  },
  {
   "cell_type": "code",
   "execution_count": 38,
   "id": "056184d7",
   "metadata": {},
   "outputs": [
    {
     "data": {
      "image/png": "[encoded data removed]",
      "text/plain": [
       "<Figure size 1200x400 with 2 Axes>"
      ]
     },
     "metadata": {},
     "output_type": "display_data"
    }
   ],
   "source": [
    "fig, axes = plt.subplots(1,2, figsize = (12, 4))\n",
    "a1, a2 = axes\n",
    "# 사망/생존자 파이그래프\n",
    "s_counts = titanic['survived'].value_counts()\n",
    "a1.pie(titanic['survived'].value_counts(),labels = ('사망자','생존자'), autopct = '%1.1f%%')\n",
    "# 생존자 막대그래프\n",
    "s_counts.plot(kind = 'bar', ax = a2, color = ['lightcoral','lightblue'])\n",
    "a2.set_title('생존자 수')\n",
    "a2.set_xlabel('생존여부(0: 사망, 1: 생존)')\n",
    "a2.set_ylabel('인원 수')\n",
    "a2.tick_params(axis = 'x', rotation = 0)\n",
    "\n",
    "plt.tight_layout()\n",
    "plt.show()"
   ]
  },
  {
   "cell_type": "code",
   "execution_count": 30,
   "id": "4036578b",
   "metadata": {},
   "outputs": [
    {
     "name": "stdout",
     "output_type": "stream",
     "text": [
      "----생존률 기본 분석----\n",
      "전체 생존률: 38.4%\n",
      "생존자: 342, 사망자: 549\n"
     ]
    }
   ],
   "source": [
    "# 2. 생존률 기본 분석\n",
    "print('----생존률 기본 분석----')\n",
    "survival_rate = titanic['survived'].mean()\n",
    "print(f'전체 생존률: {survival_rate:.1%}')\n",
    "\n",
    "# 생존자/사망자 분포\n",
    "dead, survivor = titanic['survived'].value_counts()\n",
    "print(f'생존자: {survivor}, 사망자: {dead}')"
   ]
  },
  {
   "cell_type": "code",
   "execution_count": null,
   "id": "954dedf9",
   "metadata": {},
   "outputs": [
    {
     "data": {
      "text/plain": [
       "Text(0.5, 1.0, '나이 박스플롯')"
      ]
     },
     "execution_count": 40,
     "metadata": {},
     "output_type": "execute_result"
    },
    {
     "data": {
      "image/png": "[encoded data removed]",
      "text/plain": [
       "<Figure size 1500x1000 with 2 Axes>"
      ]
     },
     "metadata": {},
     "output_type": "display_data"
    }
   ],
   "source": [
    "plt.figure(figsize = (15, 10))\n",
    "plt.subplot(2,4,1)\n",
    "plt.hist(tp['age'], bins = 30, alpha =0.7)\n",
    "plt.title('나이 분포')\n",
    "plt.xlabel('나이')\n",
    "\n",
    "plt.subplot(2,4,2)\n",
    "plt.boxplot(tp['age'])\n",
    "plt.title('나이 박스플롯')\n",
    "\n",
    "plt.subplot(2,4,3)\n",
    "plt.hist(tp['fare'],bins = 50, alpha = 0.7)\n",
    "plt.title('요금 분포')\n"
   ]
  },
  {
   "cell_type": "code",
   "execution_count": 138,
   "id": "7108ed35",
   "metadata": {},
   "outputs": [
    {
     "data": {
      "text/html": [
       "<div>\n",
       "<style scoped>\n",
       "    .dataframe tbody tr th:only-of-type {\n",
       "        vertical-align: middle;\n",
       "    }\n",
       "\n",
       "    .dataframe tbody tr th {\n",
       "        vertical-align: top;\n",
       "    }\n",
       "\n",
       "    .dataframe thead th {\n",
       "        text-align: right;\n",
       "    }\n",
       "</style>\n",
       "<table border=\"1\" class=\"dataframe\">\n",
       "  <thead>\n",
       "    <tr style=\"text-align: right;\">\n",
       "      <th>pclass</th>\n",
       "      <th>1</th>\n",
       "      <th>2</th>\n",
       "      <th>3</th>\n",
       "    </tr>\n",
       "    <tr>\n",
       "      <th>sex</th>\n",
       "      <th></th>\n",
       "      <th></th>\n",
       "      <th></th>\n",
       "    </tr>\n",
       "  </thead>\n",
       "  <tbody>\n",
       "    <tr>\n",
       "      <th>female</th>\n",
       "      <td>0.968085</td>\n",
       "      <td>0.921053</td>\n",
       "      <td>0.500000</td>\n",
       "    </tr>\n",
       "    <tr>\n",
       "      <th>male</th>\n",
       "      <td>0.368852</td>\n",
       "      <td>0.157407</td>\n",
       "      <td>0.135447</td>\n",
       "    </tr>\n",
       "  </tbody>\n",
       "</table>\n",
       "</div>"
      ],
      "text/plain": [
       "pclass         1         2         3\n",
       "sex                                 \n",
       "female  0.968085  0.921053  0.500000\n",
       "male    0.368852  0.157407  0.135447"
      ]
     },
     "execution_count": 138,
     "metadata": {},
     "output_type": "execute_result"
    }
   ],
   "source": [
    "titanic.pivot_table(\n",
    "    values = 'survived',\n",
    "    index = 'sex',\n",
    "    columns = 'pclass',\n",
    "    aggfunc ='mean'\n",
    ")"
   ]
  },
  {
   "cell_type": "code",
   "execution_count": 133,
   "id": "0d15bc1a",
   "metadata": {},
   "outputs": [
    {
     "data": {
      "text/html": [
       "<div>\n",
       "<style scoped>\n",
       "    .dataframe tbody tr th:only-of-type {\n",
       "        vertical-align: middle;\n",
       "    }\n",
       "\n",
       "    .dataframe tbody tr th {\n",
       "        vertical-align: top;\n",
       "    }\n",
       "\n",
       "    .dataframe thead tr th {\n",
       "        text-align: left;\n",
       "    }\n",
       "\n",
       "    .dataframe thead tr:last-of-type th {\n",
       "        text-align: right;\n",
       "    }\n",
       "</style>\n",
       "<table border=\"1\" class=\"dataframe\">\n",
       "  <thead>\n",
       "    <tr>\n",
       "      <th></th>\n",
       "      <th colspan=\"2\" halign=\"left\">survived</th>\n",
       "      <th colspan=\"2\" halign=\"left\">fare</th>\n",
       "    </tr>\n",
       "    <tr>\n",
       "      <th></th>\n",
       "      <th>mean</th>\n",
       "      <th>sum</th>\n",
       "      <th>mean</th>\n",
       "      <th>sum</th>\n",
       "    </tr>\n",
       "    <tr>\n",
       "      <th>pclass</th>\n",
       "      <th></th>\n",
       "      <th></th>\n",
       "      <th></th>\n",
       "      <th></th>\n",
       "    </tr>\n",
       "  </thead>\n",
       "  <tbody>\n",
       "    <tr>\n",
       "      <th>1</th>\n",
       "      <td>0.629630</td>\n",
       "      <td>136</td>\n",
       "      <td>84.154687</td>\n",
       "      <td>18177.4125</td>\n",
       "    </tr>\n",
       "    <tr>\n",
       "      <th>2</th>\n",
       "      <td>0.472826</td>\n",
       "      <td>87</td>\n",
       "      <td>20.662183</td>\n",
       "      <td>3801.8417</td>\n",
       "    </tr>\n",
       "    <tr>\n",
       "      <th>3</th>\n",
       "      <td>0.242363</td>\n",
       "      <td>119</td>\n",
       "      <td>13.675550</td>\n",
       "      <td>6714.6951</td>\n",
       "    </tr>\n",
       "  </tbody>\n",
       "</table>\n",
       "</div>"
      ],
      "text/plain": [
       "        survived            fare            \n",
       "            mean  sum       mean         sum\n",
       "pclass                                      \n",
       "1       0.629630  136  84.154687  18177.4125\n",
       "2       0.472826   87  20.662183   3801.8417\n",
       "3       0.242363  119  13.675550   6714.6951"
      ]
     },
     "execution_count": 133,
     "metadata": {},
     "output_type": "execute_result"
    }
   ],
   "source": [
    "titanic.groupby('pclass').agg({\n",
    "    'survived':['mean','sum'],\n",
    "    'fare':['mean','sum']\n",
    "})"
   ]
  },
  {
   "cell_type": "code",
   "execution_count": 137,
   "id": "b26378f8",
   "metadata": {},
   "outputs": [
    {
     "data": {
      "text/plain": [
       "<Axes: xlabel='pclass'>"
      ]
     },
     "execution_count": 137,
     "metadata": {},
     "output_type": "execute_result"
    },
    {
     "data": {
      "image/png": "[encoded data removed]",
      "text/plain": [
       "<Figure size 640x480 with 1 Axes>"
      ]
     },
     "metadata": {},
     "output_type": "display_data"
    }
   ],
   "source": [
    "titanic_pclass_survive = titanic.groupby('pclass')['survived'].mean()\n",
    "titanic_pclass_survive.plot(kind ='bar')"
   ]
  },
  {
   "cell_type": "code",
   "execution_count": 129,
   "id": "4406b5de",
   "metadata": {},
   "outputs": [
    {
     "data": {
      "text/plain": [
       "np.int64(79)"
      ]
     },
     "execution_count": 129,
     "metadata": {},
     "output_type": "execute_result"
    }
   ],
   "source": [
    "def detect_outliers_by_group(data: pd.DataFrame, group_col: str, value_col: str):\n",
    "    \"\"\"그룹별 이상치 탐지\"\"\"\n",
    "    # 우선 전원 모두 이상치 아님(False)\n",
    "    outliers = pd.Series(False, data.index)\n",
    "    # 현재 group_col 기준 유니크한 데이터 (pclass -> 1, 2, 3)\n",
    "    for group in data[group_col].unique():\n",
    "        # df[df['pclass'] == 3]['fare'] /  df[df['pclass'] == 1]['fare'] / \n",
    "        group_data = data[data[group_col] == group][value_col]\n",
    "        Q1 = group_data.quantile(0.25)        \n",
    "        Q3 = group_data.quantile(0.75)\n",
    "        IQR = Q3 - Q1\n",
    "        lower = Q1 - 1.5 * IQR\n",
    "        upper = Q3 + 1.5 * IQR\n",
    "        group_outliers = (group_data < lower) | (group_data > upper)\n",
    "        outliers[group_data.index] = group_outliers\n",
    "\n",
    "    return outliers\n",
    "detect_outliers_by_group(tp,'pclass','fare')\n",
    "fare_outliers_by_pclass.sum()"
   ]
  },
  {
   "cell_type": "code",
   "execution_count": 130,
   "id": "eec08ae2",
   "metadata": {},
   "outputs": [
    {
     "data": {
      "text/plain": [
       "(array([0, 1, 2]), [Text(0, 0, '1'), Text(1, 0, '2'), Text(2, 0, '3')])"
      ]
     },
     "execution_count": 130,
     "metadata": {},
     "output_type": "execute_result"
    },
    {
     "data": {
      "image/png": "[encoded data removed]",
      "text/plain": [
       "<Figure size 640x480 with 1 Axes>"
      ]
     },
     "metadata": {},
     "output_type": "display_data"
    }
   ],
   "source": [
    "# 필요하다면, 결측치/ 이상치를 처리한다. \n",
    "# titanic['fare'].max()\n",
    "class_survival = titanic.groupby('pclass')['survived'].mean().sort_index()\n",
    "class_survival.plot(kind = 'bar')\n",
    "plt.xticks(rotation = 45)"
   ]
  },
  {
   "cell_type": "code",
   "execution_count": 125,
   "id": "85e5b32a",
   "metadata": {},
   "outputs": [
    {
     "data": {
      "text/plain": [
       "(array([337., 182., 147.,  50.,  16.,  39.,  18.,  29.,  18.,   2.,   8.,\n",
       "          7.,   0.,   7.,   9.,   0.,   2.,   0.,   0.,   0.,   4.,   1.,\n",
       "          4.,   0.,   2.,   6.,   0.,   0.,   0.,   0.,   0.,   0.,   0.,\n",
       "          0.,   0.,   0.,   0.,   0.,   0.,   0.,   0.,   0.,   0.,   0.,\n",
       "          0.,   0.,   0.,   0.,   0.,   3.]),\n",
       " array([  0.      ,  10.246584,  20.493168,  30.739752,  40.986336,\n",
       "         51.23292 ,  61.479504,  71.726088,  81.972672,  92.219256,\n",
       "        102.46584 , 112.712424, 122.959008, 133.205592, 143.452176,\n",
       "        153.69876 , 163.945344, 174.191928, 184.438512, 194.685096,\n",
       "        204.93168 , 215.178264, 225.424848, 235.671432, 245.918016,\n",
       "        256.1646  , 266.411184, 276.657768, 286.904352, 297.150936,\n",
       "        307.39752 , 317.644104, 327.890688, 338.137272, 348.383856,\n",
       "        358.63044 , 368.877024, 379.123608, 389.370192, 399.616776,\n",
       "        409.86336 , 420.109944, 430.356528, 440.603112, 450.849696,\n",
       "        461.09628 , 471.342864, 481.589448, 491.836032, 502.082616,\n",
       "        512.3292  ]),\n",
       " <BarContainer object of 50 artists>)"
      ]
     },
     "execution_count": 125,
     "metadata": {},
     "output_type": "execute_result"
    },
    {
     "data": {
      "image/png": "[encoded data removed]",
      "text/plain": [
       "<Figure size 640x480 with 1 Axes>"
      ]
     },
     "metadata": {},
     "output_type": "display_data"
    }
   ],
   "source": [
    "plt.hist(titanic['fare'],bins = 50, alpha =0.7, color = 'blue')"
   ]
  },
  {
   "cell_type": "code",
   "execution_count": 107,
   "id": "de48e1b8",
   "metadata": {},
   "outputs": [
    {
     "name": "stdout",
     "output_type": "stream",
     "text": [
      "=== 객실 등급별 생존율 ===\n",
      "1 등급: 63.0% - 136 / 216.0명\n",
      "2 등급: 47.3% - 87 / 184.0명\n",
      "3 등급: 24.2% - 119 / 491.0명\n"
     ]
    },
    {
     "data": {
      "image/png": "[encoded data removed]",
      "text/plain": [
       "<Figure size 1500x1000 with 4 Axes>"
      ]
     },
     "metadata": {},
     "output_type": "display_data"
    }
   ],
   "source": [
    "fig, axes = plt.subplots(2,2, figsize= (15,10))\n",
    "a1,a2, a3, a4 = axes[0,0], axes[0,1], axes[1,0], axes[1,1]\n",
    "\n",
    "# 핵심 변수별 생존률 분석\n",
    "# 1. 객실 등급별 생존률 (총원, 생존, 평균)\n",
    "pclass_survival = titanic.groupby('pclass')['survived'].agg(['count','sum','mean'])\n",
    "a1.bar(pclass_survival.index, pclass_survival['mean'], color = ['gold','silver','brown'])\n",
    "a1.set_title('객실 등급별 생존율')\n",
    "a1.set_xlabel('객실 등급')\n",
    "a1.set_ylabel('생존율')\n",
    "a1.set_ylim(0,1)\n",
    "\n",
    "for idx,value in enumerate(pclass_survival['mean']):\n",
    "    a1.text(idx+1, value, f'{value:.1%}',ha = 'center',fontweight = 'bold')\n",
    "\n",
    "print('=== 객실 등급별 생존율 ===')\n",
    "for idx, row in pclass_survival.iterrows():\n",
    "    print(f'{idx} 등급: {row['mean']:.1%} - {row['sum'].astype(int)} / {row['count']}명')\n",
    "# 성별 생존률\n",
    "sex_survival = titanic.groupby('sex')['survived'].agg(['count','sum','mean'])\n",
    "a2.bar(range(len(sex_survival)),sex_survival['mean'],color = ['lightblue','pink'])\n",
    "a2.set_title('성별 생존율')\n",
    "a2.set_xlabel('성별')\n",
    "a2.set_xticklabels(['여성','남성'])\n",
    "a2.set_xticks(range(len(sex_survival)))\n",
    "a2.set_ylim(0,1)\n",
    "\n",
    "for idx, value in enumerate(sex_survival['mean']):\n",
    "    a2.text(idx, value + 0.02 ,f'{value:.1%} - {row['sum'].astype(int)}/ {row['count'].astype(int)}명')"
   ]
  },
  {
   "cell_type": "code",
   "execution_count": null,
   "id": "fd6f5489",
   "metadata": {},
   "outputs": [
    {
     "name": "stdout",
     "output_type": "stream",
     "text": [
      "=== 객실 등급별 생존율 ===\n",
      "1 등급: 63.0% - 136 / 216명\n",
      "2 등급: 47.3% - 87 / 184명\n",
      "3 등급: 24.2% - 119 / 491명\n",
      "=== 성별 생존율 ===\n",
      "female: 74.2% - 233 / 314명\n",
      "male: 18.9% - 109 / 577명\n"
     ]
    },
    {
     "data": {
      "text/plain": [
       "(0.0, 1.0)"
      ]
     },
     "execution_count": 111,
     "metadata": {},
     "output_type": "execute_result"
    }
   ],
   "source": [
    "# 핵심 변수별 생존률 분석\n",
    "# 1. 객실 등급별 생존률 (총원, 생존, 생존률)\n",
    "pclass_survival = titanic.groupby('pclass')['survived'].agg(['count', 'sum', 'mean'])\n",
    "\n",
    "a1.bar(pclass_survival.index, pclass_survival['mean'], color=['gold', 'silver', 'brown'])\n",
    "a1.set_title('객실 등급별 생존율')\n",
    "a1.set_xlabel('객실 등급')\n",
    "a1.set_ylabel('생존율')\n",
    "a1.set_ylim(0, 1)\n",
    "\n",
    "for idx, value in enumerate(pclass_survival['mean']):\n",
    "    #       x좌표,   y좌표\n",
    "    a1.text(idx+1, value + 0.02, f'{value:.1%}', ha='center', fontweight='bold')\n",
    "\n",
    "print('=== 객실 등급별 생존율 ===')\n",
    "for idx, row in pclass_survival.iterrows():\n",
    "    print(f'{idx} 등급: {row['mean']:.1%} - {row['sum'].astype(int)} / {row['count'].astype(int)}명')\n",
    "\n",
    "\n",
    "# 1-1. 요금으로 insight를 뽑을 수 있을까? (돈을 특히 많이 낸 사람들의 생존률..?)\n",
    "\n",
    "# 2. 성별 생존률\n",
    "sex_survival = titanic.groupby('sex')['survived'].agg(['count', 'sum', 'mean'])\n",
    "a2.bar(range(len(sex_survival)), sex_survival['mean'], color=['pink', 'lightblue'])\n",
    "a2.set_title('성별 생존율')\n",
    "a2.set_xlabel('성별')\n",
    "a2.set_xticklabels(['여성', '남성'])\n",
    "a2.set_xticks(range(len(sex_survival)))\n",
    "a2.set_ylim(0, 1)\n",
    "\n",
    "for idx, value in enumerate(sex_survival['mean']):\n",
    "    a2.text(idx, value + 0.02, f'{value:.1%}', ha='center', fontweight='bold')\n",
    "\n",
    "print('=== 성별 생존율 ===')\n",
    "for idx, row in sex_survival.iterrows():\n",
    "    print(f'{idx}: {row['mean']:.1%} - {row['sum'].astype(int)} / {row['count'].astype(int)}명')\n",
    "\n",
    "\n",
    "age_survival = titanic.groupby('age')['survived'].agg(['count','sum','mean']).dropna()\n",
    "a3.bar(range(len(sex_survival)), sex_survival['mean'], color=['lightgreen', 'yellow','orange','red','purple'])\n",
    "a3.set_title('성별 생존율')\n",
    "a3.set_xlabel('성별')\n",
    "a3.set_xticklabels(['여성', '남성'])\n",
    "a3.set_xticks(range(len(sex_survival)))\n",
    "a3.set_ylim(0, 1)\n",
    "\n",
    "print('=== 연령대별 생존율 === ')\n",
    "for idx, row in age_survival.iterrows():\n",
    "    print(f'{idx}:{row['mean']:.1%}-{row['sum'].astype(int)}')\n",
    "\n",
    "pd.crosstab(titanic['sex'],titanic['pclass'],titanic['survived'],aggfunc='mean')\n",
    "sns.heatmap(survival_ct,annot= True, fmt = '.2f',cmap ='RdYlBu_r',\n",
    "            ax = a4, cbar_kws = {'label':'생존율'})\n"
   ]
  },
  {
   "cell_type": "code",
   "execution_count": null,
   "id": "fb9a6121",
   "metadata": {},
   "outputs": [],
   "source": []
  },
  {
   "cell_type": "code",
   "execution_count": 120,
   "id": "8f6a5df2",
   "metadata": {},
   "outputs": [
    {
     "data": {
      "text/plain": [
       "Index(['survived', 'pclass', 'sex', 'age', 'sibsp', 'parch', 'fare',\n",
       "       'embarked', 'class', 'who', 'adult_male', 'deck', 'embark_town',\n",
       "       'alive', 'alone', 'fare_group', 'age_label'],\n",
       "      dtype='object')"
      ]
     },
     "execution_count": 120,
     "metadata": {},
     "output_type": "execute_result"
    }
   ],
   "source": [
    "titanic.columns"
   ]
  },
  {
   "cell_type": "code",
   "execution_count": 124,
   "id": "2495bb02",
   "metadata": {},
   "outputs": [
    {
     "name": "stdout",
     "output_type": "stream",
     "text": [
      "1.1647635739939964e-11\n",
      "성별-생존율은 관련 있음\n"
     ]
    }
   ],
   "source": [
    "from scipy.stats import chi2_contingency\n",
    "#카이제곱 독립성 검정\n",
    "\n",
    "sex_survival_ct = pd.crosstab(titanic['fare'],titanic['survived'])\n",
    "chi2, p_value, dof, expected = chi2_contingency(sex_survival_ct)\n",
    "print(p_value)\n",
    "'''\n",
    "chi2 = 카이제곱 통계량\n",
    "p_value = 유의 확률 (값이 작다. -> 관련이 있다)\n",
    "- 일반적으로 p_value가 5% (0.05) 보다 작으면 연관이 있다고 본다.\n",
    "\n",
    "\n",
    "dof = 자유도 (degree of freedom)\n",
    "expected = 기대빈도표 (성별 - 생존이 독립적일때 기대되는 값들)\n",
    "\n",
    "'''\n",
    "\n",
    "if p_value <0.05:\n",
    "    print('성별-생존율은 관련 있음')\n",
    "else:\n",
    "    print('성별-생존율 관련 없음')"
   ]
  },
  {
   "cell_type": "code",
   "execution_count": 67,
   "id": "fa71c6b5",
   "metadata": {},
   "outputs": [
    {
     "data": {
      "text/plain": [
       "[Text(0, 0, '-10'),\n",
       " Text(1, 0, '10-20'),\n",
       " Text(2, 0, '20-50'),\n",
       " Text(3, 0, '50-100'),\n",
       " Text(4, 0, '100-200'),\n",
       " Text(5, 0, '200-400'),\n",
       " Text(6, 0, '400-600')]"
      ]
     },
     "execution_count": 67,
     "metadata": {},
     "output_type": "execute_result"
    },
    {
     "data": {
      "image/png": "[encoded data removed]",
      "text/plain": [
       "<Figure size 640x480 with 1 Axes>"
      ]
     },
     "metadata": {},
     "output_type": "display_data"
    }
   ],
   "source": [
    "fare_bins = [0, 10, 20 ,50, 100, 200, 400, 600]\n",
    "fare_labels = ['-10','10-20','20-50','50-100','100-200','200-400','400-600']\n",
    "titanic['fare_group'] = pd.cut(titanic['fare'], bins= fare_bins, labels = fare_labels, right=False)\n",
    "fare_survival = titanic.groupby('fare_group')['survived'].mean()\n",
    "ax = fare_survival.plot(kind = 'bar')\n",
    "ax.set_xticklabels(fare_survival.index.astype(str), rotation = 30)"
   ]
  },
  {
   "cell_type": "code",
   "execution_count": null,
   "id": "b22c7cc5",
   "metadata": {},
   "outputs": [],
   "source": [
    "# 핵심 변수별 생존률 분석\n",
    "\n",
    "# 1. 객실 등급별 생존률\n",
    "\n",
    "# 1-1. 요금으로 insgiht를 뽑을 수 있을까? (돈을 특히 많이 낸 사람들의 생존률..?)"
   ]
  },
  {
   "cell_type": "code",
   "execution_count": null,
   "id": "705621e7",
   "metadata": {},
   "outputs": [
    {
     "data": {
      "text/plain": [
       "np.float64(80.0)"
      ]
     },
     "execution_count": 84,
     "metadata": {},
     "output_type": "execute_result"
    },
    {
     "data": {
      "image/png": "[encoded data removed]",
      "text/plain": [
       "<Figure size 640x480 with 1 Axes>"
      ]
     },
     "metadata": {},
     "output_type": "display_data"
    }
   ],
   "source": [
    "# 2. 성별 생존률\n",
    "titanic_sex[]\n",
    "titanic_sex = titanic.groupby('sex')['survived'].mean()\n",
    "ax = titanic_sex.plot(kind = 'bar', color = ['skyblue','lightpink'])\n",
    "ax.set_xticklabels(titanic_sex.index.astype(str), rotation = 30)\n",
    "\n",
    "# 4. 조합 분석: 성별 x 객실등급"
   ]
  },
  {
   "cell_type": "code",
   "execution_count": null,
   "id": "5749d949",
   "metadata": {},
   "outputs": [
    {
     "data": {
      "text/plain": [
       "<Axes: xlabel='age_label'>"
      ]
     },
     "execution_count": 97,
     "metadata": {},
     "output_type": "execute_result"
    },
    {
     "data": {
      "image/png": "[encoded data removed]",
      "text/plain": [
       "<Figure size 640x480 with 1 Axes>"
      ]
     },
     "metadata": {},
     "output_type": "display_data"
    }
   ],
   "source": [
    "# 3. 나이 생존률(연령대 별)\n",
    "# 결측치 제거 (age 또는 survived가 NaN인 행 삭제)\n",
    "titanic_clean = titanic.dropna(subset=['age','survived'])\n",
    "# 나이 기준 2.5% ~97.5% 구간만 남김(95% 데이터 유지)\n",
    "lower = titanic_clean['age'].quantile(0.025)\n",
    "upper = titanic_clean['age'].quantile(0.975)\n",
    "titanic_clean = titanic_clean[(titanic_clean['age']>= lower)& (titanic_clean['age']<= upper)]\n",
    "\n",
    "age_bin = [0,10, 20, 30, 40, 50 ,60 ,70,100]\n",
    "age_label = ['-10','10-20','20-30','30-40','40-50','50-60','60-70','70-']\n",
    "titanic['age_label'] = pd.cut(titanic_clean['age'], bins = age_bin, labels=age_label, right = False)\n",
    "titanic_age = titanic.groupby('age_label')['survived'].mean()\n",
    "titanic_age.plot(kind = 'bar')\n",
    "\n",
    "plt.tight_layout()\n",
    "plt.show()"
   ]
  }
 ],
 "metadata": {
  "kernelspec": {
   "display_name": "Python 3",
   "language": "python",
   "name": "python3"
  },
  "language_info": {
   "codemirror_mode": {
    "name": "ipython",
    "version": 3
   },
   "file_extension": ".py",
   "mimetype": "text/x-python",
   "name": "python",
   "nbconvert_exporter": "python",
   "pygments_lexer": "ipython3",
   "version": "3.13.2"
  }
 },
 "nbformat": 4,
 "nbformat_minor": 5
}
