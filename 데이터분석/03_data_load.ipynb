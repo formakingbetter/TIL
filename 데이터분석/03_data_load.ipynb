{
 "cells": [
  {
   "cell_type": "markdown",
   "id": "ee9f6dea",
   "metadata": {},
   "source": [
    "# `03_data_load.ipynb`\n"
   ]
  },
  {
   "cell_type": "code",
   "execution_count": 2,
   "id": "2b0c3d2a",
   "metadata": {},
   "outputs": [
    {
     "name": "stdout",
     "output_type": "stream",
     "text": [
      "번호,도서명,저자,출판사,발행년도,ISBN,세트 ISBN,부가기호,권,주제분류번호,도서권수,대출건수,등록일자,\n",
      "\n"
     ]
    }
   ],
   "source": [
    "# python 으로 파일 불러오기\n",
    "with open('./namsan.csv',encoding = 'EUC-KR') as f:\n",
    "    print(f.readline\n",
    "    ())"
   ]
  },
  {
   "cell_type": "code",
   "execution_count": null,
   "id": "6d0cdc31",
   "metadata": {},
   "outputs": [],
   "source": []
  },
  {
   "cell_type": "code",
   "execution_count": 6,
   "id": "f09de254",
   "metadata": {},
   "outputs": [],
   "source": [
    "# pandas로 csv -> DataFrame으로 불러오기\n",
    "import pandas as pd\n",
    "df = pd.read_csv('./namsan.csv',encoding='EUC-KR',low_memory  = False)\n"
   ]
  },
  {
   "cell_type": "code",
   "execution_count": 11,
   "id": "81b7e1c7",
   "metadata": {},
   "outputs": [],
   "source": [
    "df['등록일자'] = pd.to_datetime(df['등록일자'])\n"
   ]
  },
  {
   "cell_type": "code",
   "execution_count": 12,
   "id": "86cac75d",
   "metadata": {},
   "outputs": [
    {
     "data": {
      "text/plain": [
       "0         2025-06\n",
       "1         2025-06\n",
       "2         2025-06\n",
       "3         2025-06\n",
       "4         2025-06\n",
       "           ...   \n",
       "455551    1970-01\n",
       "455552    1970-01\n",
       "455553    1970-01\n",
       "455554    1970-01\n",
       "455555    1970-01\n",
       "Name: 등록일자, Length: 455556, dtype: period[M]"
      ]
     },
     "execution_count": 12,
     "metadata": {},
     "output_type": "execute_result"
    }
   ],
   "source": [
    "df['등록일자'].dt.to_period('M')"
   ]
  },
  {
   "cell_type": "code",
   "execution_count": null,
   "id": "d9cdc593",
   "metadata": {},
   "outputs": [
    {
     "data": {
      "text/plain": [
       "번호               int64\n",
       "도서명             object\n",
       "저자              object\n",
       "출판사             object\n",
       "발행년도            object\n",
       "ISBN            object\n",
       "세트 ISBN         object\n",
       "부가기호            object\n",
       "권               object\n",
       "주제분류번호          object\n",
       "도서권수             int64\n",
       "대출건수             int64\n",
       "등록일자            object\n",
       "Unnamed: 13    float64\n",
       "dtype: object"
      ]
     },
     "execution_count": 26,
     "metadata": {},
     "output_type": "execute_result"
    }
   ],
   "source": [
    "df.dtypes"
   ]
  },
  {
   "cell_type": "code",
   "execution_count": 36,
   "id": "43004b0f",
   "metadata": {},
   "outputs": [
    {
     "data": {
      "text/plain": [
       "번호               int64\n",
       "도서명             object\n",
       "저자              object\n",
       "출판사             object\n",
       "발행년도            object\n",
       "ISBN            object\n",
       "세트 ISBN         object\n",
       "부가기호            object\n",
       "권               object\n",
       "주제분류번호          object\n",
       "도서권수             int64\n",
       "대출건수             int64\n",
       "등록일자            object\n",
       "Unnamed: 13    float64\n",
       "dtype: object"
      ]
     },
     "execution_count": 36,
     "metadata": {},
     "output_type": "execute_result"
    }
   ],
   "source": [
    "# 저장도 가능\n",
    "df.to_csv('./test.csv',encoding = 'UTF-8', index = False)\n",
    "df.dtypes"
   ]
  },
  {
   "cell_type": "markdown",
   "id": "e448263f",
   "metadata": {},
   "source": [
    "## Web API Load"
   ]
  },
  {
   "cell_type": "code",
   "execution_count": 42,
   "id": "026ae8d6",
   "metadata": {},
   "outputs": [
    {
     "name": "stdout",
     "output_type": "stream",
     "text": [
      "<class 'str'> <class 'dict'>\n"
     ]
    }
   ],
   "source": [
    "# Data Parsing (해석, 분석)\n",
    "json_data = '{\"a\" : 1, \"b\" : 2}'\n",
    "# json_data 는 아직 dict로 해석이 되지 않았다! => 파싱되지 않음\n",
    "# json_data['a'] # Error\n",
    "import json\n",
    "dict_data = json.loads(json_data)\n",
    "\n",
    "print(type(json_data), type(dict_data))\n"
   ]
  },
  {
   "cell_type": "code",
   "execution_count": 45,
   "id": "7736eb31",
   "metadata": {},
   "outputs": [
    {
     "data": {
      "text/plain": [
       "'{\"a\": 1, \"b\": 2}'"
      ]
     },
     "execution_count": 45,
     "metadata": {},
     "output_type": "execute_result"
    }
   ],
   "source": [
    "# Data Serializing (직렬화) [dict -> json]\n",
    "dict_data = {'a':1, 'b':2}\n",
    "import json\n",
    "json.dumps(dict_data)"
   ]
  },
  {
   "cell_type": "code",
   "execution_count": null,
   "id": "90c74943",
   "metadata": {},
   "outputs": [],
   "source": [
    "# Data Serializing (직렬화)"
   ]
  },
  {
   "cell_type": "code",
   "execution_count": null,
   "id": "e39350c5",
   "metadata": {},
   "outputs": [],
   "source": [
    "\n"
   ]
  }
 ],
 "metadata": {
  "kernelspec": {
   "display_name": "Python 3",
   "language": "python",
   "name": "python3"
  },
  "language_info": {
   "codemirror_mode": {
    "name": "ipython",
    "version": 3
   },
   "file_extension": ".py",
   "mimetype": "text/x-python",
   "name": "python",
   "nbconvert_exporter": "python",
   "pygments_lexer": "ipython3",
   "version": "3.13.2"
  }
 },
 "nbformat": 4,
 "nbformat_minor": 5
}
