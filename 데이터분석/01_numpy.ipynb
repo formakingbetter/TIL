{
 "cells": [
  {
   "cell_type": "markdown",
   "id": "3665782d",
   "metadata": {},
   "source": [
    "# '01_numpy.ipynb'\n",
    "\n",
    "- 데이터분석 : 데이터를 분석하여 의사결정에 도움을 준다.\n",
    "- 통계 vs 데이터분석 vs 머신러닝\n",
    "    - 통계:데이터를 **요약, 해석하는 수학**(평균, 분산)\n",
    "    - 데이터분석: **문제를 정의하고 인사이트 도출** (고객 구매 패턴 분석 + 의사결정)\n",
    "    - 머신러닝: 데이터를 학습하여 **예측** (스팸함 분류, 추천)\n",
    "- 데이터분석\n",
    "    - 의사결정 데이터 기반의 근거\n",
    "    - 패턴 발견, 예측(머신러닝)\n",
    "\n",
    "- DA Flow (흐름)\n",
    "    1. 문제정의\n",
    "    1. 데이터 수집(결측치, 이상치 처리)\n",
    "    1. 데이터 정제\n",
    "    1. 탐색- 시각화 (평균, 분포, 상관관계, 막대그래프, 히스토그램)\n",
    "    1. 통계분석 및 해석 (수학 -> 가설 검정, 회귀분석, 분포)\n",
    "    1. 결론 도출\n",
    "- 시트 vs DB vs Python\n",
    "    - 시트는 편함\n",
    "    - DB는 대용량 처리 (억단위)\n",
    "    - 파이썬 시각화, 분석, 머신러닝\n",
    "\n",
    "- 라이브러리\n",
    "    - `Numpy`: 빠름(배열 연산)\n",
    "    - `pandas`: 표(DataFrame) -> `numpy` 기반으로 만들어 짐\n",
    "    - `matplotlib`: 시각화 자료 \n",
    "     "
   ]
  },
  {
   "cell_type": "code",
   "execution_count": 1,
   "id": "ff24f493",
   "metadata": {},
   "outputs": [
    {
     "data": {
      "text/plain": [
       "array([[0, 1, 2, 3, 4],\n",
       "       [5, 6, 7, 8, 9]])"
      ]
     },
     "execution_count": 1,
     "metadata": {},
     "output_type": "execute_result"
    }
   ],
   "source": [
    "import numpy as np\n",
    "np.arange(10).reshape(-1,5)"
   ]
  },
  {
   "cell_type": "code",
   "execution_count": 12,
   "id": "3259212e",
   "metadata": {},
   "outputs": [
    {
     "name": "stdout",
     "output_type": "stream",
     "text": [
      "hi\n",
      "hi 이민규, 25\n"
     ]
    }
   ],
   "source": [
    "class Person:\n",
    "    def __init__(self,name, age):\n",
    "        self.name = name\n",
    "        self.age = age\n",
    "    def talk(self):\n",
    "        print('hi')\n",
    "class Student(Person):\n",
    "    def __init__(self, name, age, weight):\n",
    "        super().__init__(name, age)\n",
    "        self.weight = weight\n",
    "    def talk(self):\n",
    "        print(f'hi {self.name}, {self.age}')\n",
    "p1 = Person('이민규',25)\n",
    "p1.talk()\n",
    "p2 = Student('이민규', 25, 76)\n",
    "p2.talk()"
   ]
  },
  {
   "cell_type": "code",
   "execution_count": 7,
   "id": "1fbefbbe",
   "metadata": {},
   "outputs": [],
   "source": [
    "class Person:\n",
    "    def __init__(self, name ,age, number, email):\n",
    "        self.name = name\n",
    "        self.age = age\n",
    "        self.number = number\n",
    "        self.email = email\n",
    "class Student(Person):\n",
    "    def __init__(self, name, age, number, email, height):\n",
    "        super().__init__(name, age, number, email)\n",
    "        self.height = height\n",
    "    def talk(self):\n",
    "        print(f'{self.height} & {self.name}')"
   ]
  },
  {
   "cell_type": "code",
   "execution_count": 10,
   "id": "40c7cbd6",
   "metadata": {},
   "outputs": [
    {
     "name": "stdout",
     "output_type": "stream",
     "text": [
      "키 & 이름\n"
     ]
    }
   ],
   "source": [
    "p2 = Student('이름','나이','숫자','이메일','키')\n",
    "p2.talk()"
   ]
  },
  {
   "cell_type": "code",
   "execution_count": null,
   "id": "0fabd57f",
   "metadata": {},
   "outputs": [
    {
     "name": "stdout",
     "output_type": "stream",
     "text": [
      "[100   2   3   4   5   6] [-100    2    3    4    5    6]\n"
     ]
    }
   ],
   "source": [
    "# 1차원 -> N차원\n",
    "# N차원 -> 1차원\n",
    "arr = np.array([[1,2,3],[4,5,6]])\n",
    "\n",
    "r = arr.ravel() # 뷰(원본 연결) -> 빨리 펼쳐서 보기\n",
    "f = arr.flatten() # 복사본      -> 안전하게 새로 만들어서 활용\n",
    "\n",
    "r[0] = 100\n",
    "f[0] = -100\n",
    "\n",
    "print(r, f)\n"
   ]
  },
  {
   "cell_type": "code",
   "execution_count": 125,
   "id": "7edaa9e1",
   "metadata": {},
   "outputs": [
    {
     "name": "stdout",
     "output_type": "stream",
     "text": [
      "10 30 20 50\n",
      "[100  20  30  40  50]\n",
      "[100  20  30  40  50]\n"
     ]
    }
   ],
   "source": [
    "arr = np.array([10, 20, 30, 40 ,50])\n",
    "print(arr[0], arr[2], arr[1], arr[-1])\n",
    "arr[0] = 100\n",
    "print(arr)\n",
    "\n",
    "# 변경\n",
    "arr[0] = 100\n",
    "print(arr)"
   ]
  },
  {
   "cell_type": "code",
   "execution_count": null,
   "id": "ba666513",
   "metadata": {},
   "outputs": [],
   "source": [
    "arr_2d = np.array(\n",
    "    [\n",
    "        [1, 2, 3],\n",
    "        [4, 5 ,6],\n",
    "    ]\n",
    ")"
   ]
  },
  {
   "cell_type": "code",
   "execution_count": 128,
   "id": "1c011e84",
   "metadata": {},
   "outputs": [
    {
     "data": {
      "text/plain": [
       "array([[100,   2,   3],\n",
       "       [  4,   5,   6],\n",
       "       [  7,   8,   9]])"
      ]
     },
     "execution_count": 128,
     "metadata": {},
     "output_type": "execute_result"
    }
   ],
   "source": [
    "# arr_2d = np.array(range(1,10)).reshape(3, 3)\n",
    "arr_2d = np.array(\n",
    "    [\n",
    "        [1,2,3],\n",
    "        [4,5,6],\n",
    "        [7,8,9]\n",
    "    ]\n",
    ")\n",
    "#numpy 에서만 지원\n",
    "arr_2d[0, 0] #arr_2d[0][0] -> r 0, c 0\n",
    "arr_2d[1, 1] \n",
    "\n",
    "arr_2d[1] # 행 접근\n",
    "\n",
    "#변경\n",
    "arr_2d[0,0] = 100\n",
    "arr_2d\n"
   ]
  },
  {
   "cell_type": "code",
   "execution_count": 134,
   "id": "68e7a67d",
   "metadata": {},
   "outputs": [
    {
     "name": "stdout",
     "output_type": "stream",
     "text": [
      "[2 3 4] [0 1 2 3 4] [5 6 7 8 9]\n",
      "[1 3 5 7] [0 2 4 6 8]\n",
      "[9 8 7 6 5 4 3 2 1 0] [7 6 5 4 3]\n"
     ]
    }
   ],
   "source": [
    "# 슬라이싱\n",
    "import numpy as np\n",
    "arr = np.arange(10)\n",
    "print(\n",
    "    arr[2:5],\n",
    "    arr[:5],\n",
    "    arr[5:]\n",
    ")\n",
    "print(\n",
    "    arr[1:8:2],\n",
    "    arr[::2]\n",
    ")\n",
    "\n",
    "print(\n",
    "    arr[::-1],\n",
    "    arr[7:2:-1]\n",
    ")"
   ]
  },
  {
   "cell_type": "code",
   "execution_count": 137,
   "id": "2c17db12",
   "metadata": {},
   "outputs": [
    {
     "name": "stdout",
     "output_type": "stream",
     "text": [
      "[  0   1   2 100 100 100   6   7   8   9]\n"
     ]
    }
   ],
   "source": [
    "l = [1, 2, 3, 4]\n",
    "l[1:3]\n",
    "\n",
    "#슬라이싱으로 일괄 변경 (Python  X)\n",
    "arr[3:6] = 100\n",
    "print(arr)"
   ]
  },
  {
   "cell_type": "code",
   "execution_count": 37,
   "id": "8f95374e",
   "metadata": {},
   "outputs": [
    {
     "name": "stdout",
     "output_type": "stream",
     "text": [
      "[11, 22, 33]\n"
     ]
    }
   ],
   "source": [
    "a = [1, 2, 3]\n",
    "b = [10, 20 ,30]\n",
    "result = map(lambda x,y: x+y,a,b)\n",
    "print(list(result))\n",
    " "
   ]
  },
  {
   "cell_type": "code",
   "execution_count": null,
   "id": "6628ffd7",
   "metadata": {},
   "outputs": [
    {
     "name": "stdout",
     "output_type": "stream",
     "text": [
      "[[ 1  2  3  4]\n",
      " [ 5  6  7  8]\n",
      " [ 9 10 11 12]]\n",
      "[[1 2 3 4]\n",
      " [5 6 7 8]]\n",
      "[[ 2  3]\n",
      " [ 6  7]\n",
      " [10 11]]\n",
      "[[ 5  6]\n",
      " [ 9 10]]\n"
     ]
    }
   ],
   "source": [
    "arr_2d = np.arange(1,13).reshape(3, -1)\n",
    "print(arr_2d)\n",
    "\n",
    "# row(행) 슬라이싱 -> 0, 1 idx 행\n",
    "print(arr_2d[:2])\n",
    "\n",
    "# col(열) 슬라이싱 -> 모든 행의 idx 1,2 열\n",
    "print(arr_2d[:,1:3])\n",
    "# row / col 동시 슬라이싱\n",
    "print(arr_2d[1:3,:2])\n",
    "# 간격지정 -> 행/열 모두 2간격\n",
    "print(arr_2d[::2, ::2])\n"
   ]
  },
  {
   "cell_type": "code",
   "execution_count": 147,
   "id": "f4adb5af",
   "metadata": {},
   "outputs": [
    {
     "name": "stdout",
     "output_type": "stream",
     "text": [
      "[[ 0  0  3  4]\n",
      " [ 0  0  7  8]\n",
      " [ 9 10 11 12]]\n",
      "[ 4  8 12]\n"
     ]
    }
   ],
   "source": [
    "# 다차원 배열 슬라이싱으로 변경\n",
    "print(arr_2d)\n",
    "\n",
    "# 부분 배열 일괄 변경\n",
    "arr_2d[0:2, 0:2] = 0\n",
    "arr_2d\n",
    "# 열 교체\n",
    "print(arr_2d[:,3])\n",
    "\n",
    "# 브로드캐스팅"
   ]
  },
  {
   "cell_type": "code",
   "execution_count": 154,
   "id": "ec94fa70",
   "metadata": {},
   "outputs": [
    {
     "name": "stdout",
     "output_type": "stream",
     "text": [
      "[False False False  True  True] [1 2 3 4 5]\n",
      "[4 5]\n",
      "[100   4   5]\n",
      "[3 4]\n",
      "[100   4   5]\n"
     ]
    }
   ],
   "source": [
    "# boolean 인덱싱\n",
    "# 조건에 따라 배열 요소 선택 - 필터링\n",
    "# 마스킹 -> T/F 로 바꿈\n",
    "arr = np.arange(1, 6) #[1, 2, 3, 4, 5]\n",
    "\n",
    "arr\n",
    "\n",
    "# 마스킹 -> T/F로 바꿈\n",
    "mask = arr >3\n",
    "print(mask, arr)\n",
    "\n",
    "\n",
    "arr[0] = 100\n",
    "mask\n",
    "\n",
    "# 마스킹 배열로 필터링\n",
    "print(arr[mask])\n",
    "\n",
    "# 직접 조건\n",
    "print(arr[arr >3])\n",
    "\n",
    "#다중 조건\n",
    "print(arr[(arr > 2 ) & (arr < 5)]) # and 연산\n",
    "print(arr[(arr == 1 ) | (arr > 3)]) # or 연산"
   ]
  },
  {
   "cell_type": "code",
   "execution_count": null,
   "id": "86260aeb",
   "metadata": {},
   "outputs": [
    {
     "name": "stdout",
     "output_type": "stream",
     "text": [
      "[1 2 3 4 5]\n",
      "[[1 2 3]\n",
      " [7 8 9]]\n"
     ]
    }
   ],
   "source": [
    "# 2 boolean indexing\n",
    "arr_2d = np.arange(1, 10).reshape(3,3)\n",
    "\n",
    "arr_2d > 5\n",
    "\n",
    "print(arr_2d[arr_2d < 6])\n",
    "# 조건에 맞는 행만 선택\n",
    "arr_2d[:,0:3:2]\n",
    "row_mask = np.array([True, False, True])\n",
    "print(arr_2d)\n",
    "print(arr_2d[row_mask]) # row T, F, T -> 0, 2row만 뽑음\n"
   ]
  },
  {
   "cell_type": "code",
   "execution_count": 46,
   "id": "65c4186d",
   "metadata": {},
   "outputs": [
    {
     "name": "stdout",
     "output_type": "stream",
     "text": [
      "[1 2 3 4 5] <class 'numpy.ndarray'>\n",
      "차원 1\n",
      "형태 (5,)\n",
      "크기 5\n"
     ]
    }
   ],
   "source": [
    "import numpy as np\n",
    "arr = np.array([1,2,3,4,5])\n",
    "print(arr,type(arr))\n",
    "print('차원', arr.ndim)\n",
    "print('형태', arr.shape)\n",
    "print('크기', arr.size)"
   ]
  },
  {
   "cell_type": "code",
   "execution_count": 165,
   "id": "924e9f40",
   "metadata": {},
   "outputs": [
    {
     "name": "stdout",
     "output_type": "stream",
     "text": [
      "[20 30]\n",
      "[10 30 40]\n",
      "\n"
     ]
    }
   ],
   "source": [
    "# fancy 인덱싱\n",
    "arr = np.arange(10, 60 ,10)\n",
    "print(arr[[1, 2]]) # -> arr[1], arr[2] 를 뽑아라\n",
    "print(arr[[0,2,3]]) # -> arr[0], arr[2], arr[3] 만 가져와라\n",
    "print()"
   ]
  },
  {
   "cell_type": "code",
   "execution_count": null,
   "id": "a23de73e",
   "metadata": {},
   "outputs": [
    {
     "data": {
      "text/plain": [
       "array([1, 2, 3, 4, 5])"
      ]
     },
     "execution_count": 43,
     "metadata": {},
     "output_type": "execute_result"
    }
   ],
   "source": [
    "arr1d = np.array([1,2,3,4,5])\n",
    "arr1d\n"
   ]
  },
  {
   "cell_type": "code",
   "execution_count": null,
   "id": "a93bf3c0",
   "metadata": {},
   "outputs": [],
   "source": [
    "arr = np.arange(10, 60 ,10)\n",
    "print(arr)\n",
    "print(arr[[1,2]])\n",
    "print(arr[[0, 2, 3]]) # -> arr[0], arr[2], arr[3] 만 가져와라"
   ]
  },
  {
   "cell_type": "code",
   "execution_count": 167,
   "id": "484a2f9c",
   "metadata": {},
   "outputs": [
    {
     "name": "stdout",
     "output_type": "stream",
     "text": [
      "[[1 2 3]\n",
      " [4 5 6]\n",
      " [7 8 9]]\n",
      "[[1 2 3]\n",
      " [7 8 9]]\n"
     ]
    }
   ],
   "source": [
    "arr_2d = np.arange(1,10).reshape(3,3)\n",
    "print(arr_2d)\n",
    "\n",
    "arr_2d[0] # row 0\n",
    "print(arr_2d[[0,2]]) # row 0, 2"
   ]
  },
  {
   "cell_type": "code",
   "execution_count": 173,
   "id": "6eeba706",
   "metadata": {},
   "outputs": [],
   "source": [
    "max_num = float('-inf')"
   ]
  },
  {
   "cell_type": "code",
   "execution_count": 180,
   "id": "b7c60e9f",
   "metadata": {},
   "outputs": [
    {
     "data": {
      "text/plain": [
       "3"
      ]
     },
     "execution_count": 180,
     "metadata": {},
     "output_type": "execute_result"
    }
   ],
   "source": [
    "numbers = [\n",
    "  [3, 8, 15],\n",
    "  [7, 1, 9],\n",
    "  [4, 12, 10],\n",
    "  [5, 6, 10]\n",
    "]\n",
    "len(numbers[0])"
   ]
  },
  {
   "cell_type": "code",
   "execution_count": null,
   "id": "cc492b34",
   "metadata": {},
   "outputs": [],
   "source": [
    "f_arr = np.array([1,2,3], dtype = np.float64)\n"
   ]
  },
  {
   "cell_type": "code",
   "execution_count": 198,
   "id": "96445bba",
   "metadata": {},
   "outputs": [
    {
     "data": {
      "text/plain": [
       "np.int64(1)"
      ]
     },
     "execution_count": 198,
     "metadata": {},
     "output_type": "execute_result"
    }
   ],
   "source": [
    "# arr_2d = np.array(range(1, 10)).reshape(3, 3)\n",
    "arr_2d = np.array(\n",
    "    [\n",
    "        [1, 2, 3],\n",
    "        [4, 5, 6],\n",
    "        [7, 8, 9]\n",
    "    ]\n",
    ")\n",
    "arr_2d[0,0]"
   ]
  },
  {
   "cell_type": "code",
   "execution_count": 201,
   "id": "8cb3345d",
   "metadata": {},
   "outputs": [
    {
     "name": "stdout",
     "output_type": "stream",
     "text": [
      "[[  1   2 100]\n",
      " [  4   5 200]\n",
      " [  7   8 300]]\n"
     ]
    }
   ],
   "source": [
    "arr_2d[:,2] = [100, 200, 300]\n",
    "print(arr_2d)"
   ]
  },
  {
   "cell_type": "code",
   "execution_count": 204,
   "id": "8c1223ff",
   "metadata": {},
   "outputs": [
    {
     "name": "stdout",
     "output_type": "stream",
     "text": [
      "[False False False False  True  True] [0 1 2 3 4 5]\n",
      "[4 5]\n"
     ]
    }
   ],
   "source": [
    "arr = np.arange(6)\n",
    "mask = arr > 3 \n",
    "print(mask, arr)\n",
    "print(arr[arr>3])"
   ]
  },
  {
   "cell_type": "code",
   "execution_count": 182,
   "id": "53c56e54",
   "metadata": {},
   "outputs": [],
   "source": [
    "l2d = [\n",
    "    [1, 2, 3],\n",
    "    [4, 5, 6]\n",
    "]\n",
    "arr2d = np.array(l2d)"
   ]
  },
  {
   "cell_type": "code",
   "execution_count": null,
   "id": "9da744d3",
   "metadata": {},
   "outputs": [
    {
     "name": "stdout",
     "output_type": "stream",
     "text": [
      "[1 6 8]\n"
     ]
    }
   ],
   "source": [
    "# 행과 열, 동시에 선택\n",
    "print(\n",
    "    arr_2d[\n",
    "        [0,1,2],\n",
    "        [0,2,1]\n",
    "    ]\n",
    ")\n",
    "\n",
    "# 행렬의 열을 순서 바꾸기\n",
    "print(\n",
    "    arr_d[\n",
    "        :, #모든 행\n",
    "        [2 0 1] # 열 idx를 이렇게 바꿔라\n",
    "    ]\n",
    ")"
   ]
  },
  {
   "cell_type": "code",
   "execution_count": 47,
   "id": "bc42acd6",
   "metadata": {},
   "outputs": [
    {
     "data": {
      "text/plain": [
       "(2, (2, 3), 6)"
      ]
     },
     "execution_count": 47,
     "metadata": {},
     "output_type": "execute_result"
    }
   ],
   "source": [
    "l2d = [\n",
    "    [1,2,3],\n",
    "    [4,5,6],\n",
    "]\n",
    "arr2d = np.array(l2d)\n",
    "arr2d.ndim, arr2d.shape, arr2d.size"
   ]
  },
  {
   "cell_type": "code",
   "execution_count": 48,
   "id": "434ede6a",
   "metadata": {},
   "outputs": [
    {
     "data": {
      "text/plain": [
       "array([1., 2., 3.])"
      ]
     },
     "execution_count": 48,
     "metadata": {},
     "output_type": "execute_result"
    }
   ],
   "source": [
    "np.array([1,2,3],dtype = float)"
   ]
  },
  {
   "cell_type": "code",
   "execution_count": 71,
   "id": "3d56b917",
   "metadata": {},
   "outputs": [
    {
     "name": "stdout",
     "output_type": "stream",
     "text": [
      "[0 2 4 6 8]\n",
      "[0.   0.25 0.5  0.75 1.  ]\n",
      "[  1.           3.16227766  10.          31.6227766  100.        ]\n"
     ]
    }
   ],
   "source": [
    "import numpy as np\n",
    "range_arr = np.arange(0,10, 2)\n",
    "print(range_arr)\n",
    "\n",
    "# 등간격 실수 배열\n",
    "lin_space = np.linspace(0,1,5)\n",
    "print(lin_space)\n",
    "np.array(range(0, 10 , 2))\n",
    "\n",
    "#로그스케일\n",
    "log_space = np.logspace(0,2,5) # 10^0부터 10^2까지의 범위에서 5개의 요소라는 뜻 \n",
    "print(log_space)"
   ]
  },
  {
   "cell_type": "code",
   "execution_count": 82,
   "id": "4d11a763",
   "metadata": {},
   "outputs": [
    {
     "name": "stdout",
     "output_type": "stream",
     "text": [
      "[[0.23834921 0.45165573 0.32817421]\n",
      " [0.93539729 0.10807426 0.04660758]\n",
      " [0.93922902 0.32451034 0.59623349]]\n",
      "[[-0.55317004 -0.77774466 -0.62805207]\n",
      " [-0.44724989 -0.43163991  1.14694177]\n",
      " [-1.13870285 -0.59448548  0.56161785]]\n"
     ]
    },
    {
     "ename": "AttributeError",
     "evalue": "module 'numpy.random' has no attribute 'randit'",
     "output_type": "error",
     "traceback": [
      "\u001b[31m---------------------------------------------------------------------------\u001b[39m",
      "\u001b[31mAttributeError\u001b[39m                            Traceback (most recent call last)",
      "\u001b[36mCell\u001b[39m\u001b[36m \u001b[39m\u001b[32mIn[82]\u001b[39m\u001b[32m, line 6\u001b[39m\n\u001b[32m      4\u001b[39m \u001b[38;5;28mprint\u001b[39m(normal)\n\u001b[32m      5\u001b[39m \u001b[38;5;66;03m# 정수 난수 (0~9, 3*3)\u001b[39;00m\n\u001b[32m----> \u001b[39m\u001b[32m6\u001b[39m int_random  = \u001b[43mnp\u001b[49m\u001b[43m.\u001b[49m\u001b[43mrandom\u001b[49m\u001b[43m.\u001b[49m\u001b[43mrandit\u001b[49m(\u001b[32m0\u001b[39m,\u001b[32m10\u001b[39m, (\u001b[32m3\u001b[39m,\u001b[32m3\u001b[39m))\n\u001b[32m      7\u001b[39m \u001b[38;5;28mprint\u001b[39m(int_random)\n\u001b[32m      9\u001b[39m \u001b[38;5;66;03m# 시드 설정(랜덤 재현 가능)\u001b[39;00m\n",
      "\u001b[31mAttributeError\u001b[39m: module 'numpy.random' has no attribute 'randit'"
     ]
    }
   ],
   "source": [
    "random = np.random.rand(3,3)\n",
    "print(random)\n",
    "normal = np.random.randn(3,3)\n",
    "print(normal)\n",
    "# 정수 난수 (0~9, 3*3)\n",
    "int_random  = np.random.randit(0,10, (3,3))\n",
    "print(int_random)\n",
    "\n",
    "# 시드 설정(랜덤 재현 가능)\n",
    "np.random.seed(42) # 랜덤 상황 42 고정\n",
    "np.random.rand(3)"
   ]
  },
  {
   "cell_type": "code",
   "execution_count": null,
   "id": "280b0be7",
   "metadata": {},
   "outputs": [
    {
     "name": "stdout",
     "output_type": "stream",
     "text": [
      "int64\n",
      "float64\n",
      "float64\n",
      "[[1.2 2.3 3.4]] float64\n"
     ]
    }
   ],
   "source": [
    "# 배열의 데이터 타입\n",
    "arr = np.array([1,2,3])\n",
    "print(arr.dtype)\n",
    "\n",
    "f_arr = np.array([1,2,3],dtype = np.float64)\n",
    "print(f_arr.dtype)\n",
    "\n",
    "#데이터 타입 변경 (int -> float)\n",
    "converted = arr.astype(np.float32) \n",
    "print(converted.dtype)\n",
    "\n",
    "str_arr = np.array([['1.2','2.3','3.4']])\n",
    "num_arr = str_arr.astype(float) # np.floatXX 라고 지정 안하고 float 쓰면 -> float64\n",
    "print(num_arr, num_arr.dtype)"
   ]
  },
  {
   "cell_type": "code",
   "execution_count": null,
   "id": "169904b5",
   "metadata": {},
   "outputs": [
    {
     "name": "stdout",
     "output_type": "stream",
     "text": [
      "[[0.36187727 0.43807325]\n",
      " [0.86111306 0.29646118]]\n"
     ]
    },
    {
     "ename": "AttributeError",
     "evalue": "module 'numpy.random' has no attribute 'randit'",
     "output_type": "error",
     "traceback": [
      "\u001b[31m---------------------------------------------------------------------------\u001b[39m",
      "\u001b[31mAttributeError\u001b[39m                            Traceback (most recent call last)",
      "\u001b[36mCell\u001b[39m\u001b[36m \u001b[39m\u001b[32mIn[118]\u001b[39m\u001b[32m, line 6\u001b[39m\n\u001b[32m      4\u001b[39m \u001b[38;5;66;03m# 3*4 사이즈의 1\u001b[39;00m\n\u001b[32m      5\u001b[39m np.ones((\u001b[32m3\u001b[39m,\u001b[32m4\u001b[39m),dtype = \u001b[38;5;28mint\u001b[39m)\n\u001b[32m----> \u001b[39m\u001b[32m6\u001b[39m arr_int = \u001b[43mnp\u001b[49m\u001b[43m.\u001b[49m\u001b[43mrandom\u001b[49m\u001b[43m.\u001b[49m\u001b[43mrandit\u001b[49m(\u001b[32m0\u001b[39m,\u001b[32m10\u001b[39m, size = (\u001b[32m2\u001b[39m,\u001b[32m3\u001b[39m,\u001b[32m4\u001b[39m))\n",
      "\u001b[31mAttributeError\u001b[39m: module 'numpy.random' has no attribute 'randit'"
     ]
    }
   ],
   "source": [
    "# 4 *4 단위행렬(identity matrix)\n",
    "np.eye(4)\n",
    "print(np.random.rand(2,2))\n",
    "# 3*4 사이즈의 1\n",
    "np.ones((3,4),dtype = int)\n",
    "arr_int = np.random.randit(0,10, size = (2,3,4))\n"
   ]
  },
  {
   "cell_type": "code",
   "execution_count": null,
   "id": "e6139370",
   "metadata": {},
   "outputs": [],
   "source": [
    "#1칸의 메모리 사용량\n",
    "print(arr.itemsize) # int64 -> 8byte\n",
    "print(converted.itemsize) # float32 -> 4byte\n",
    "print()\n",
    "# 총 메모리 사용량\n",
    "print(arr.nbytes) # 8byte * 3칸\n",
    "print(converted.nbytes) "
   ]
  },
  {
   "cell_type": "code",
   "execution_count": 77,
   "id": "5e863562",
   "metadata": {},
   "outputs": [
    {
     "name": "stdout",
     "output_type": "stream",
     "text": [
      "[ 0  1  2  3  4  5  6  7  8  9 10 11]\n",
      "[[ 0  1  2  3]\n",
      " [ 4  5  6  7]\n",
      " [ 8  9 10 11]]\n",
      "[[[ 0  1  2]\n",
      "  [ 3  4  5]]\n",
      "\n",
      " [[ 6  7  8]\n",
      "  [ 9 10 11]]]\n",
      "[[ 0  1  2  3]\n",
      " [ 4  5  6  7]\n",
      " [ 8  9 10 11]]\n",
      "[[ 0  1  2  3  4  5]\n",
      " [ 6  7  8  9 10 11]]\n"
     ]
    }
   ],
   "source": [
    "# 배열 재구성\n",
    "arr = np.arange(12)\n",
    "reshaped = arr.reshape(3, 4) # 3row * 4col\n",
    "print(arr)\n",
    "print(reshaped)\n",
    "\n",
    "reshaped3d = arr.reshape(2,2,3) # 2페이지, 2*3\n",
    "print(reshaped3d)\n",
    "\n",
    "#자동계산\n",
    "auto1 = arr.reshape(3, -1)\n",
    "auto2 = arr.reshape(-1, 6)\n",
    "print(auto1)\n",
    "print(auto2)\n"
   ]
  },
  {
   "cell_type": "code",
   "execution_count": null,
   "id": "705164cb",
   "metadata": {},
   "outputs": [
    {
     "name": "stdout",
     "output_type": "stream",
     "text": [
      "[[ 0  1  2  3]\n",
      " [ 4  5  6  7]\n",
      " [ 8  9 10 11]]\n",
      "[ 0  1  2  3  4  5  6  7  8  9 10 11]\n",
      "[[ 0  1  2  3]\n",
      " [ 4  5  6  7]\n",
      " [ 8  9 10 11]]\n"
     ]
    }
   ],
   "source": [
    "# reshape -> 원본 그대로, 새롱ㄴ 배열 만드\n",
    "# resize는 원본을 바꾼다.\n",
    "\n",
    "arr = np.arange(12)\n",
    "reshaped = arr.reshape(3, 4) # 새로운 배열 리턴\n",
    "print(reshaped)\n",
    "print(arr)\n",
    "\n",
    "arr.resize(3,4)\n",
    "\n",
    "print(arr)"
   ]
  },
  {
   "cell_type": "code",
   "execution_count": 81,
   "id": "0607ec74",
   "metadata": {},
   "outputs": [
    {
     "name": "stdout",
     "output_type": "stream",
     "text": [
      "[ 1  2  3  4  5  6  7  8  9 10 11 12 13 14 15] [ 1  2  3  4  5  6  7  8  9 10 11 12 13 14 15]\n",
      "[0 2 4 6 8]\n",
      "[0.  0.6 1.2 1.8 2.4 3. ]\n"
     ]
    }
   ],
   "source": [
    "#1~15 정수 배열 (arange vs array(range))\n",
    "print(np.arange(1,16),np.array(range(1,16)))\n",
    "print(np.arange(0,10, 2))\n",
    "\n",
    "# 0~3까지 균등 6등분 배열\n",
    "print(np.linspace(0,3,6))"
   ]
  },
  {
   "cell_type": "code",
   "execution_count": null,
   "id": "9bfedaad",
   "metadata": {},
   "outputs": [
    {
     "name": "stdout",
     "output_type": "stream",
     "text": [
      "[0. 0. 0. 0. 0.] [[0. 0. 0.]\n",
      " [0. 0. 0.]]\n",
      "[1. 1. 1. 1. 1.]\n",
      "[[1. 1. 1.]\n",
      " [1. 1. 1.]]\n",
      "[7. 7. 7. 7. 7.]\n",
      "<class 'int'>\n"
     ]
    }
   ],
   "source": [
    "z1d = np.zeros(5)\n",
    "z2d = np.zeros((2,3))\n",
    "print(z1d, z2d)\n",
    "o1d = np.ones(5)\n",
    "o2d = np.ones((2,3))\n",
    "print(o1d)\n",
    "print(o2d)\n",
    "# n으로 채움 -> 5칸 7로 채움\n",
    "n1d = np.full(5, 7,dtype =float)\n",
    "n1d\n",
    "print(n1d)\n",
    "#빈칸이지만 먼저 만듬\n",
    "empty = np.empty(3)\n",
    "empty1 = empty.dtype = int\n",
    "empty1\n",
    "print(empty1)\n"
   ]
  },
  {
   "cell_type": "code",
   "execution_count": 5,
   "id": "5f9fc2fe",
   "metadata": {},
   "outputs": [],
   "source": [
    "\n",
    "        \n",
    "class Person:\n",
    "    x = '클래스 변수'\n",
    "    y = 100\n",
    "    def __init__(self,x):\n",
    "        self.x = x\n",
    "    def talk(self):\n",
    "        print(self.x)\n",
    "        print(self.x, self.y)\n"
   ]
  },
  {
   "cell_type": "code",
   "execution_count": 6,
   "id": "b215ffef",
   "metadata": {},
   "outputs": [
    {
     "name": "stdout",
     "output_type": "stream",
     "text": [
      "인스턴스변수\n",
      "인스턴스변수 100\n"
     ]
    },
    {
     "data": {
      "text/plain": [
       "'클래스 변수'"
      ]
     },
     "execution_count": 6,
     "metadata": {},
     "output_type": "execute_result"
    }
   ],
   "source": [
    "p = Person('인스턴스변수')\n",
    "p.talk()\n",
    "Person.x\n"
   ]
  },
  {
   "cell_type": "code",
   "execution_count": 20,
   "id": "e7f9043b",
   "metadata": {},
   "outputs": [
    {
     "data": {
      "text/plain": [
       "[2, 4, 6, 8, 10]"
      ]
     },
     "execution_count": 20,
     "metadata": {},
     "output_type": "execute_result"
    }
   ],
   "source": [
    "python_list = [1, 2, 3, 4, 5]\n",
    "python1 = []\n",
    "for i in range(len(python_list)):\n",
    "    python1.append(python_list[i]*2)\n",
    "python1\n",
    "\n",
    "python1 = [x*2 for x in python_list]\n",
    "python1"
   ]
  },
  {
   "cell_type": "code",
   "execution_count": 208,
   "id": "5a845c7a",
   "metadata": {},
   "outputs": [
    {
     "name": "stdout",
     "output_type": "stream",
     "text": [
      "원본 [10 11 12 13 14 15 16 17 18 19 20]\n",
      "[10 12 20]\n",
      "[12 13 14 15]\n",
      "[10 12 14 16 18]\n",
      "[20 19 18 17 16 15 14 13 12 11 10]\n"
     ]
    }
   ],
   "source": [
    "# 10부터 20까지의 정수 배열 생성\n",
    "arr = np.arange(10, 21)\n",
    "print('원본', arr)\n",
    "\n",
    "# 문제1: 배열의 첫 번째, 세 번째, 마지막 요소 출력\n",
    "print(arr[[0, 2, -1]])\n",
    "\n",
    "# 문제2: 인덱스 2부터 5까지 요소 출력\n",
    "print(arr[2:6])\n",
    "# 문제3: 처음부터 5번째 요소까지 모든 짝수 인덱스 요소 출력\n",
    "print(arr[0:9:2])\n",
    "# 문제4: 배열의 요소를 역순으로 출력\n",
    "print(arr[::-1])"
   ]
  },
  {
   "cell_type": "code",
   "execution_count": 220,
   "id": "83b8fc39",
   "metadata": {},
   "outputs": [
    {
     "name": "stdout",
     "output_type": "stream",
     "text": [
      "원본 [[ 0  1  2  3]\n",
      " [ 4  5  6  7]\n",
      " [ 8  9 10 11]]\n",
      "6\n",
      "[ 8  9 10 11]\n",
      "[ 3  7 11]\n",
      "[[ 1  3]\n",
      " [ 9 11]]\n"
     ]
    }
   ],
   "source": [
    "# 3 * 4 matrix\n",
    "matrix = np.arange(12).reshape(3, 4)\n",
    "print('원본', matrix)\n",
    "\n",
    "# 문제1: (1,2) 위치의 요소 출력\n",
    "print(matrix[1,2])\n",
    "# 문제2: 두 번째 행 전체 출력\n",
    "print(matrix[2])\n",
    "# 문제3: 마지막 열 전체 출력\n",
    "print(matrix[:,-1])\n",
    "# 문제4: 첫 번print(째와 세 번째 행의 두 번째와 네 번째 열 요소만 추출\n",
    "print(matrix[\n",
    "    [0,2],:][:,[1,3]])"
   ]
  },
  {
   "cell_type": "code",
   "execution_count": null,
   "id": "5544cdd5",
   "metadata": {},
   "outputs": [
    {
     "name": "stdout",
     "output_type": "stream",
     "text": [
      "[5, 10, 15]\n"
     ]
    },
    {
     "data": {
      "text/plain": [
       "array([ 5, 10, 15, 20])"
      ]
     },
     "execution_count": 238,
     "metadata": {},
     "output_type": "execute_result"
    }
   ],
   "source": [
    "lst1 = [x for x in range(20) if x % 5 == 0 and x != 0]\n",
    "print(lst1)\n",
    "# 문제1: 5의 배수만 선택하여 출력\n",
    "arr[arr % 5 ==0]\n",
    "\n",
    "# 문제2: 3보다 크고 15보다 작은 요소 선택\n",
    "\n",
    "# 문제3: 7의 배수이거나 홀수인 요소 선택"
   ]
  },
  {
   "cell_type": "code",
   "execution_count": 241,
   "id": "780477c2",
   "metadata": {},
   "outputs": [
    {
     "data": {
      "text/plain": [
       "[5, 10, 15]"
      ]
     },
     "execution_count": 241,
     "metadata": {},
     "output_type": "execute_result"
    }
   ],
   "source": [
    "lst1 = [x for x in range(20) if x%5 == 0 and x != 0]\n",
    "lst1"
   ]
  },
  {
   "cell_type": "code",
   "execution_count": 4,
   "id": "0e5512a0",
   "metadata": {},
   "outputs": [
    {
     "name": "stdout",
     "output_type": "stream",
     "text": [
      "[[100 100 100]\n",
      " [  3   4   5]\n",
      " [  6   7   8]]\n",
      "[[100 100 100]]\n"
     ]
    }
   ],
   "source": [
    "import numpy as np\n",
    "r = np.arange(9).reshape(3,3)\n",
    "r[0] = 100\n",
    "print(r)\n",
    "print(r[::2][::2])\n"
   ]
  },
  {
   "cell_type": "code",
   "execution_count": 6,
   "id": "35322c25",
   "metadata": {},
   "outputs": [],
   "source": [
    "\n",
    "# 가상의 학생 시험 점수 데이터\n",
    "math_scores = np.array([85, 90, 75, 95, 70, 80, 65, 75, 90, 85])\n",
    "science_scores = np.array([90, 85, 80, 95, 70, 75, 65, 80, 85, 90])\n",
    "english_scores = np.array([80, 85, 90, 80, 75, 90, 70, 75, 85, 95])\n",
    "\n",
    "subjects = ['수학', '과학', '영어']\n",
    "scores = np.vstack((math_scores, science_scores, english_scores))\n",
    "# 기본 통계 (과목별 평균, 중앙값, *표준편차*, 최소, 최대)\n",
    "# 총점 기준 상위 3명 학생의 정보 표시\n",
    "# | 학생번호(idx) | 수학 | 과학 | 영어 | 총점 |"
   ]
  },
  {
   "cell_type": "code",
   "execution_count": null,
   "id": "250975a4",
   "metadata": {},
   "outputs": [
    {
     "name": "stdout",
     "output_type": "stream",
     "text": [
      "수학 평균: 81.0, 중앙값: 82.5\n",
      " 123\n",
      "과학 평균: 81.5, 중앙값: 82.5\n",
      " 123\n",
      "영어 평균: 82.5, 중앙값: 82.5\n",
      " 123\n"
     ]
    }
   ],
   "source": [
    "for idx, subject in enumerate(scores):\n",
    "    mean_score = np.mean(subject)\n",
    "    median_score = np.median(subject)\n",
    "    min_score = np.min(subject)\n",
    "    max_score = np.max(subject)\n",
    "    print(f'{subjects[idx]} 평균: {mean_score}, 중앙값: {median_score}\\n 123')"
   ]
  },
  {
   "cell_type": "code",
   "execution_count": 23,
   "id": "22b89a21",
   "metadata": {},
   "outputs": [
    {
     "name": "stdout",
     "output_type": "stream",
     "text": [
      "학생번호 \n",
      "  10   \n",
      "   4   \n",
      "   9   \n"
     ]
    }
   ],
   "source": [
    "# 과목 총점 배열\n",
    "total_scores = np.sum(scores,axis = 0)\n",
    "# 총점 desc 정렬 후 3명 잘라서 idx만 내놔\n",
    "sum_sort = np.argsort(total_scores)[::-1][:3]\n",
    "sum_sort\n",
    "print('학생번호 ')\n",
    "for idx in sum_sort:\n",
    "    print(f'{idx + 1:^7}')"
   ]
  },
  {
   "cell_type": "code",
   "execution_count": null,
   "id": "ebb5eed6",
   "metadata": {},
   "outputs": [],
   "source": [
    "# 과목별 상관관계\n",
    "correlation = np.corrcoef(scores)"
   ]
  },
  {
   "cell_type": "code",
   "execution_count": null,
   "id": "be08c729",
   "metadata": {},
   "outputs": [],
   "source": [
    "#"
   ]
  },
  {
   "cell_type": "markdown",
   "id": "d0822288",
   "metadata": {},
   "source": [
    "## 선형대수 연산\n"
   ]
  },
  {
   "cell_type": "code",
   "execution_count": 244,
   "id": "440e7a36",
   "metadata": {},
   "outputs": [
    {
     "name": "stdout",
     "output_type": "stream",
     "text": [
      "[ 6  8 10 12]\n",
      "[-4 -4 -4 -4]\n",
      "[ 5 12 21 32]\n",
      "[0.2        0.33333333 0.42857143 0.5       ]\n",
      "[    1    64  2187 65536]\n",
      "[ 1  4  9 16]\n"
     ]
    }
   ],
   "source": [
    "a = np.array([1, 2, 3, 4])\n",
    "b = np.array([5, 6, 7, 8])\n",
    "print(a+b)\n",
    "print(a-b)\n",
    "print(a*b)\n",
    "print(a/b)\n",
    "print(a**b)\n",
    "print(a **2)"
   ]
  },
  {
   "cell_type": "code",
   "execution_count": 245,
   "id": "82ef17fe",
   "metadata": {},
   "outputs": [
    {
     "name": "stdout",
     "output_type": "stream",
     "text": [
      "[False False  True False]\n",
      "[ True  True  True False]\n"
     ]
    }
   ],
   "source": [
    "a = np.array([True, False, True, False])\n",
    "b = np.array([False, True, True, False])\n",
    "print(a&b)\n",
    "print( a|b)\n"
   ]
  },
  {
   "cell_type": "code",
   "execution_count": 246,
   "id": "d215be98",
   "metadata": {},
   "outputs": [
    {
     "name": "stdout",
     "output_type": "stream",
     "text": [
      "[11 12 13 14 15]\n",
      "[0 1 2 3 4]\n",
      "[ 2  4  6  8 10]\n",
      "[0.5 1.  1.5 2.  2.5]\n",
      "[ 1  4  9 16 25]\n",
      "[False False False  True  True]\n",
      "[False  True False False False]\n"
     ]
    }
   ],
   "source": [
    "# 배열 생성\n",
    "arr = np.array([1, 2, 3, 4, 5])\n",
    "\n",
    "# 스칼라 덧셈\n",
    "print(arr + 10)     # [11 12 13 14 15]\n",
    "\n",
    "# 스칼라 뺄셈\n",
    "print(arr - 1)      # [0 1 2 3 4]\n",
    "\n",
    "# 스칼라 곱셈\n",
    "print(arr * 2)      # [2 4 6 8 10]\n",
    "\n",
    "# 스칼라 나눗셈\n",
    "print(arr / 2)      # [0.5 1.  1.5 2.  2.5]\n",
    "\n",
    "# 스칼라 거듭제곱\n",
    "print(arr ** 2)     # [ 1  4  9 16 25]\n",
    "\n",
    "# 스칼라 비교\n",
    "print(arr > 3)      # [False False False  True  True]\n",
    "print(arr == 2)     # [False  True False False False]"
   ]
  },
  {
   "cell_type": "markdown",
   "id": "572ee4bf",
   "metadata": {},
   "source": [
    "### 매트릭스(행렬) <-> 스칼라(단일값) 연산"
   ]
  },
  {
   "cell_type": "code",
   "execution_count": 247,
   "id": "a79ee91e",
   "metadata": {},
   "outputs": [
    {
     "name": "stdout",
     "output_type": "stream",
     "text": [
      "[[11 12 13]\n",
      " [14 15 16]]\n",
      "[[ 3  6  9]\n",
      " [12 15 18]]\n"
     ]
    }
   ],
   "source": [
    "# 2차원 배열\n",
    "arr_2d = np.array([[1, 2, 3], [4, 5, 6]])\n",
    "\n",
    "# 스칼라 연산\n",
    "print(arr_2d + 10)\n",
    "# [[11 12 13]\n",
    "#  [14 15 16]]\n",
    "\n",
    "print(arr_2d * 3)\n",
    "# [[ 3  6  9]\n",
    "#  [12 15 18]]"
   ]
  },
  {
   "cell_type": "code",
   "execution_count": 248,
   "id": "347a26b0",
   "metadata": {},
   "outputs": [
    {
     "name": "stdout",
     "output_type": "stream",
     "text": [
      "[[101 102 103]\n",
      " [204 205 206]]\n"
     ]
    }
   ],
   "source": [
    "matrix = np.array([[1,2,3],[4,5,6]])\n",
    "vector = np.array([10, 20, 30])\n",
    "#행렬 + 행벡터\n",
    "matrix + vector\n",
    "\n",
    "# 열 벡터 브로드캐스팅\n",
    "col_vec = np.array(\n",
    "    [\n",
    "        [100],\n",
    "        [200]\n",
    "    ]\n",
    ")\n",
    "print(matrix + col_vec)"
   ]
  },
  {
   "cell_type": "code",
   "execution_count": null,
   "id": "bb82f7a3",
   "metadata": {},
   "outputs": [
    {
     "name": "stdout",
     "output_type": "stream",
     "text": [
      "Matrix shape (2, 3)\n",
      "Vector shape (3,)\n",
      "[[11 22 33]\n",
      " [14 25 36]]\n"
     ]
    }
   ],
   "source": [
    "matrix = np.array([[1,2,3],[4,5,6]])\n",
    "vector = np.array([10, 20, 30])\n",
    "\n",
    "print('Matrix shape',matrix.shape)\n",
    "print('Vector shape',vector.shape)\n",
    "# 1. Vector (3, ) 가 앞에 1이 추가됨 -> Matrix (1,3) 으로 변함\n",
    "# 2. 더해야 하는 matrix (2,3)이랑 줄수가 같을 떄까지 row 복사함.\n",
    "\n",
    "#shape 확인을 하자\n",
    "; 점+점 -> 선 ->면\n",
    "print(matrix + vector)\n",
    "# 1,3이 추가되고 "
   ]
  },
  {
   "cell_type": "code",
   "execution_count": 239,
   "id": "23bb63cb",
   "metadata": {},
   "outputs": [
    {
     "name": "stdout",
     "output_type": "stream",
     "text": [
      "[[1 2 3]\n",
      " [4 5 6]]\n"
     ]
    },
    {
     "data": {
      "text/plain": [
       "(array([[1, 4],\n",
       "        [2, 5],\n",
       "        [3, 6]]),\n",
       " array([[1, 4],\n",
       "        [2, 5],\n",
       "        [3, 6]]))"
      ]
     },
     "execution_count": 239,
     "metadata": {},
     "output_type": "execute_result"
    }
   ],
   "source": [
    "arr_2d = np.array([[1,2,3],[4,5,6]])\n",
    "print(arr_2d)\n",
    "arr_2d.transpose(),arr_2d.T"
   ]
  },
  {
   "cell_type": "code",
   "execution_count": 255,
   "id": "b259932c",
   "metadata": {},
   "outputs": [
    {
     "name": "stdout",
     "output_type": "stream",
     "text": [
      "[1 2 3 4 5]\n",
      "[  1   2 100 100   5] [  2 100 100]\n",
      "[  1  20 100 100   5]\n",
      "[  1  20 100 100   5] [100  20 100 100   5]\n"
     ]
    }
   ],
   "source": [
    "# 뷰(원본 데이터와 링크)와 복사본(완전 별도) 차이\n",
    "arr = np.arange(1,6)\n",
    "print(arr)\n",
    "\n",
    "# view란 무엇인가?\n",
    "# 슬라이싱 -> 뷰 생성\n",
    "view = arr[1:4]\n",
    "arr[2:4] = 100\n",
    "print(arr,view)\n",
    "\n",
    "view[0] = 20\n",
    "print(arr)\n",
    "\n",
    "#복사본,,?\n",
    "copy = arr.copy()\n",
    "copy[0] = 100\n",
    "print(arr,copy)"
   ]
  },
  {
   "cell_type": "code",
   "execution_count": null,
   "id": "cfa08adb",
   "metadata": {},
   "outputs": [
    {
     "name": "stdout",
     "output_type": "stream",
     "text": [
      "[ 64 144  36 100]\n",
      "[2.82842712 3.46410162 2.44948974 3.16227766] [2.82842712 3.46410162 2.44948974 3.16227766]\n",
      "[ 8 12  6 20]\n"
     ]
    }
   ],
   "source": [
    "arr1 = np.array([8, 12, 6, 10])\n",
    "arr2 = np.array([3, 4, 1, 20])\n",
    "print(arr1 ** 2)\n",
    "print(arr1 ** (1/2), np.sqrt(arr1))\n",
    "\n",
    "# 각 자리마다 최대값만 모음\n",
    "print(np.maximum(arr1, arr2))\n",
    "\n",
    "#arr1 + arr2 의 모든 자리수를 더한 총합\n",
    "print(np.sum(arr1 + arr2))\n"
   ]
  },
  {
   "cell_type": "code",
   "execution_count": 262,
   "id": "bc8adad7",
   "metadata": {},
   "outputs": [
    {
     "name": "stdout",
     "output_type": "stream",
     "text": [
      "sin(x) = [0.00000000e+00 7.07106781e-01 1.00000000e+00 1.22464680e-16]\n",
      "cos(x) = [ 1.00000000e+00  7.07106781e-01  6.12323400e-17 -1.00000000e+00]\n",
      "tan(x) = [ 0.00000000e+00  1.00000000e+00  1.63312394e+16 -1.22464680e-16]\n",
      "arcsin(sin(x)) = [0.00000000e+00 7.85398163e-01 1.57079633e+00 1.22464680e-16]\n",
      "exp(y) = [ 2.71828183  7.3890561  20.08553692 54.59815003]\n",
      "log(y) = [0.         0.69314718 1.09861229 1.38629436]\n",
      "log10(y) = [0.         0.30103    0.47712125 0.60205999]\n",
      "log2(y) = [0.        1.        1.5849625 2.       ]\n",
      "sqrt(y) = [1.         1.41421356 1.73205081 2.        ]\n",
      "power(y, 2) = [ 1  4  9 16]\n",
      "abs(z) = [2 1 0 1 2]\n",
      "sign(z) = [-1 -1  0  1  1]\n",
      "floor(w) = [1. 2. 3. 4.]\n",
      "ceil(w) = [2. 3. 4. 5.]\n",
      "round(w) = [1. 3. 4. 5.]\n",
      "trunc(w) = [1. 2. 3. 4.]\n"
     ]
    }
   ],
   "source": [
    "# 테스트 배열\n",
    "x = np.array([0, np.pi/4, np.pi/2, np.pi])\n",
    "y = np.array([1, 2, 3, 4])\n",
    "\n",
    "# 삼각함수\n",
    "print(\"sin(x) =\", np.sin(x))  # [0., 0.70710678, 1., 0.]\n",
    "print(\"cos(x) =\", np.cos(x))  # [1., 0.70710678, 0., -1.]\n",
    "print(\"tan(x) =\", np.tan(x))  # [0., 1., 16331239353195370., 0.]\n",
    "\n",
    "# 역삼각함수\n",
    "print(\"arcsin(sin(x)) =\", np.arcsin(np.sin(x)))\n",
    "\n",
    "# 지수와 로그\n",
    "print(\"exp(y) =\", np.exp(y))  # [2.71828183, 7.3890561, 20.08553692, 54.59815003]\n",
    "print(\"log(y) =\", np.log(y))  # [0., 0.69314718, 1.09861229, 1.38629436]\n",
    "print(\"log10(y) =\", np.log10(y))  # [0., 0.30103, 0.47712125, 0.60205999]\n",
    "print(\"log2(y) =\", np.log2(y))  # [0., 1., 1.58496250, 2.]\n",
    "\n",
    "# 제곱근과 거듭제곱\n",
    "print(\"sqrt(y) =\", np.sqrt(y))  # [1., 1.41421356, 1.73205081, 2.]\n",
    "print(\"power(y, 2) =\", np.power(y, 2))  # [1, 4, 9, 16]\n",
    "\n",
    "# 절대값과 부호\n",
    "z = np.array([-2, -1, 0, 1, 2])\n",
    "print(\"abs(z) =\", np.abs(z))  # [2 1 0 1 2]\n",
    "print(\"sign(z) =\", np.sign(z))  # [-1 -1  0  1  1]\n",
    "\n",
    "# 소수점 처리\n",
    "w = np.array([1.2, 2.7, 3.5, 4.9])\n",
    "print(\"floor(w) =\", np.floor(w))  # [1. 2. 3. 4.] (내림)\n",
    "print(\"ceil(w) =\", np.ceil(w))   # [2. 3. 4. 5.] (올림)\n",
    "print(\"round(w) =\", np.round(w))  # [1. 3. 4. 5.] (반올림)\n",
    "print(\"trunc(w) =\", np.trunc(w))  # [1. 2. 3. 4.] (소수점 버림)"
   ]
  },
  {
   "cell_type": "code",
   "execution_count": 263,
   "id": "c70e1f52",
   "metadata": {},
   "outputs": [
    {
     "name": "stdout",
     "output_type": "stream",
     "text": [
      "합계: 45\n",
      "평균: 5.0\n",
      "최소값: 1\n",
      "최대값: 9\n",
      "표준편차: 2.581988897471611\n",
      "분산: 6.666666666666667\n"
     ]
    }
   ],
   "source": [
    "arr = np.array([[1, 2, 3], [4, 5, 6], [7, 8, 9]])\n",
    "\n",
    "# 기본 집계\n",
    "print(\"합계:\", np.sum(arr))          # 45\n",
    "print(\"평균:\", np.mean(arr))         # 5.0\n",
    "print(\"최소값:\", np.min(arr))        # 1\n",
    "print(\"최대값:\", np.max(arr))        # 9\n",
    "print(\"표준편차:\", np.std(arr))      # 2.581988897471611\n",
    "print(\"분산:\", np.var(arr))          # 6.666666666666667"
   ]
  },
  {
   "cell_type": "code",
   "execution_count": 265,
   "id": "5cde9fb0",
   "metadata": {},
   "outputs": [
    {
     "name": "stdout",
     "output_type": "stream",
     "text": [
      "3개로 균등 분할:\n",
      "[array([0, 1, 2, 3]), array([4, 5, 6, 7]), array([ 8,  9, 10, 11])]\n",
      "위치 지정 분할 (인덱스 3, 8 기준):\n",
      "[array([0, 1, 2]), array([3, 4, 5, 6, 7]), array([ 8,  9, 10, 11])]\n",
      "2차원 배열:\n",
      "[[ 0  1  2  3]\n",
      " [ 4  5  6  7]\n",
      " [ 8  9 10 11]\n",
      " [12 13 14 15]]\n",
      "행 방향 분할:\n",
      "[array([[0, 1, 2, 3],\n",
      "       [4, 5, 6, 7]]), array([[ 8,  9, 10, 11],\n",
      "       [12, 13, 14, 15]])]\n",
      "[array([[0, 1, 2, 3],\n",
      "       [4, 5, 6, 7]]), array([[ 8,  9, 10, 11],\n",
      "       [12, 13, 14, 15]])]\n",
      "열 방향 분할:\n",
      "[array([[ 0,  1],\n",
      "       [ 4,  5],\n",
      "       [ 8,  9],\n",
      "       [12, 13]]), array([[ 2,  3],\n",
      "       [ 6,  7],\n",
      "       [10, 11],\n",
      "       [14, 15]])]\n",
      "[array([[ 0,  1],\n",
      "       [ 4,  5],\n",
      "       [ 8,  9],\n",
      "       [12, 13]]), array([[ 2,  3],\n",
      "       [ 6,  7],\n",
      "       [10, 11],\n",
      "       [14, 15]])]\n"
     ]
    }
   ],
   "source": [
    "#샘플 배열\n",
    "arr = np.arange(12)  # [ 0  1  2  3  4  5  6  7  8  9 10 11]\n",
    "\n",
    "# 균등 분할\n",
    "print(\"3개로 균등 분할:\")\n",
    "print(np.split(arr, 3))  # [array([0, 1, 2, 3]), array([4, 5, 6, 7]), array([ 8,  9, 10, 11])]\n",
    "\n",
    "# 위치 지정 분할\n",
    "print(\"위치 지정 분할 (인덱스 3, 8 기준):\")\n",
    "print(np.split(arr, [3, 8]))  # [array([0, 1, 2]), array([3, 4, 5, 6, 7]), array([ 8,  9, 10, 11])]\n",
    "\n",
    "# 2차원 배열 분할\n",
    "arr_2d = np.arange(16).reshape(4, 4)\n",
    "print(\"2차원 배열:\")\n",
    "print(arr_2d)\n",
    "\n",
    "# 행 방향 분할\n",
    "print(\"행 방향 분할:\")\n",
    "print(np.split(arr_2d, 2, axis=0))  # 2개 배열로 (각 2x4)\n",
    "print(np.vsplit(arr_2d, 2))  # 동일한 결과\n",
    "\n",
    "# 열 방향 분할\n",
    "print(\"열 방향 분할:\")\n",
    "print(np.split(arr_2d, 2, axis=1))  # 2개 배열로 (각 4x2)\n",
    "print(np.hsplit(arr_2d, 2))  # 동일한 결과"
   ]
  },
  {
   "cell_type": "code",
   "execution_count": 264,
   "id": "06e2cc05",
   "metadata": {},
   "outputs": [
    {
     "name": "stdout",
     "output_type": "stream",
     "text": [
      "누적 곱 [     1      2      6     24    120    720   5040  40320 362880]\n"
     ]
    }
   ],
   "source": [
    "arr = np.array([\n",
    "    [1, 2, 3],\n",
    "    [4, 5, 6],\n",
    "    [7, 8, 9]\n",
    "])\n",
    "\n",
    "print(\"누적 곱\", np.cumprod(arr))"
   ]
  },
  {
   "cell_type": "code",
   "execution_count": 273,
   "id": "bcd272e8",
   "metadata": {},
   "outputs": [
    {
     "name": "stdout",
     "output_type": "stream",
     "text": [
      "[1 2 3 4]\n",
      "[[1 2 3 4]]\n",
      "[[1 2 3 4]]\n",
      "(1, 4)\n",
      "[[1]\n",
      " [2]\n",
      " [3]\n",
      " [4]]\n",
      "[[1]\n",
      " [2]\n",
      " [3]\n",
      " [4]]\n"
     ]
    }
   ],
   "source": [
    "# 벡터를 차원확장(행이냐 열이냐)\n",
    "arr = np.array([1,2,3,4])\n",
    "print(arr)\n",
    "\n",
    "row_vector = np.expand_dims(arr, axis = 0)\n",
    "print(row_vector)\n",
    "row_vector2= arr[np.newaxis,:]\n",
    "print(row_vector2)\n",
    "print(row_vector.shape)\n",
    "#col vector -> [[1] [2] [3] [4]]\n",
    "col_vector = np.expand_dims(arr, axis = 1)\n",
    "print(col_vector)\n",
    "col_vector2 = arr[:, np.newaxis]\n",
    "print(col_vector2)\n"
   ]
  },
  {
   "cell_type": "code",
   "execution_count": null,
   "id": "897f24ca",
   "metadata": {},
   "outputs": [
    {
     "name": "stdout",
     "output_type": "stream",
     "text": [
      "[1 2 3]\n",
      "[[[1 2 3]]] (1, 1, 3)\n",
      "[[1 2 3]]\n"
     ]
    }
   ],
   "source": [
    "# 차원 축소\n",
    "\n",
    "arr = np.array([ [[1],[2],[3]]])\n",
    "#모든 단일 차원(shape에서 1 나온 것들) 제거\n",
    "print(np.squeeze(arr))\n",
    "# 특정 축만 제거\n",
    "arr2 = np.array([[[1,2,3]]])\n",
    "print(arr2, arr2.shape)\n",
    "\n",
    "print(np.squeeze(arr2,axis= 1))\n",
    "#상하좌우로 해서 axis = 0, axis =1 로 외운다.\n",
    "[1,2,3,4]\n"
   ]
  },
  {
   "cell_type": "code",
   "execution_count": 282,
   "id": "6d9263ad",
   "metadata": {},
   "outputs": [
    {
     "name": "stdout",
     "output_type": "stream",
     "text": [
      "[1 2 3]\n"
     ]
    }
   ],
   "source": [
    "print(np.squeeze(arr))"
   ]
  }
 ],
 "metadata": {
  "kernelspec": {
   "display_name": "Python 3",
   "language": "python",
   "name": "python3"
  },
  "language_info": {
   "codemirror_mode": {
    "name": "ipython",
    "version": 3
   },
   "file_extension": ".py",
   "mimetype": "text/x-python",
   "name": "python",
   "nbconvert_exporter": "python",
   "pygments_lexer": "ipython3",
   "version": "3.13.2"
  }
 },
 "nbformat": 4,
 "nbformat_minor": 5
}
