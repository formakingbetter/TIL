{
 "cells": [
  {
   "cell_type": "markdown",
   "id": "2f137a2a",
   "metadata": {},
   "source": [
    "# telegram.ipynb"
   ]
  },
  {
   "cell_type": "code",
   "execution_count": null,
   "id": "ce4a1873",
   "metadata": {},
   "outputs": [],
   "source": [
    "# Bot의 주민번호. 이게 있어야 어떤 봇을 컨트롤 하는지 알 수 있다.\n",
    "bot_token = '8404158589:AAHig7FG__VO5bq_5AJYgxW5dMAeuBxiOFM'"
   ]
  },
  {
   "cell_type": "code",
   "execution_count": 12,
   "id": "43f39365",
   "metadata": {},
   "outputs": [
    {
     "name": "stdout",
     "output_type": "stream",
     "text": [
      "https://api.telegram.org/bot8404158589:AAHig7FG__VO5bq_5AJYgxW5dMAeuBxiOFM\n"
     ]
    }
   ],
   "source": [
    "#고정된 url\n",
    "URL = f'https://api.telegram.org/bot{bot_token}'\n",
    "print(URL)"
   ]
  },
  {
   "cell_type": "code",
   "execution_count": null,
   "id": "89d98092",
   "metadata": {},
   "outputs": [
    {
     "data": {
      "text/plain": [
       "{'ok': True,\n",
       " 'result': [{'update_id': 896394864,\n",
       "   'message': {'message_id': 1,\n",
       "    'from': {'id': 8330935186,\n",
       "     'is_bot': False,\n",
       "     'first_name': 'MinKyu',\n",
       "     'last_name': 'Lee',\n",
       "     'language_code': 'ko'},\n",
       "    'chat': {'id': 8330935186,\n",
       "     'first_name': 'MinKyu',\n",
       "     'last_name': 'Lee',\n",
       "     'type': 'private'},\n",
       "    'date': 1753323123,\n",
       "    'text': '/start',\n",
       "    'entities': [{'offset': 0, 'length': 6, 'type': 'bot_command'}]}},\n",
       "  {'update_id': 896394865,\n",
       "   'message': {'message_id': 2,\n",
       "    'from': {'id': 8330935186,\n",
       "     'is_bot': False,\n",
       "     'first_name': 'MinKyu',\n",
       "     'last_name': 'Lee',\n",
       "     'language_code': 'ko'},\n",
       "    'chat': {'id': 8330935186,\n",
       "     'first_name': 'MinKyu',\n",
       "     'last_name': 'Lee',\n",
       "     'type': 'private'},\n",
       "    'date': 1753323128,\n",
       "    'text': 'hi'}},\n",
       "  {'update_id': 896394866,\n",
       "   'message': {'message_id': 3,\n",
       "    'from': {'id': 8330935186,\n",
       "     'is_bot': False,\n",
       "     'first_name': 'MinKyu',\n",
       "     'last_name': 'Lee',\n",
       "     'language_code': 'ko'},\n",
       "    'chat': {'id': 8330935186,\n",
       "     'first_name': 'MinKyu',\n",
       "     'last_name': 'Lee',\n",
       "     'type': 'private'},\n",
       "    'date': 1753323741,\n",
       "    'text': 'hello'}},\n",
       "  {'update_id': 896394867,\n",
       "   'message': {'message_id': 15,\n",
       "    'from': {'id': 8330935186,\n",
       "     'is_bot': False,\n",
       "     'first_name': 'MinKyu',\n",
       "     'last_name': 'Lee',\n",
       "     'language_code': 'ko'},\n",
       "    'chat': {'id': 8330935186,\n",
       "     'first_name': 'MinKyu',\n",
       "     'last_name': 'Lee',\n",
       "     'type': 'private'},\n",
       "    'date': 1753330879,\n",
       "    'text': '로또'}},\n",
       "  {'update_id': 896394868,\n",
       "   'message': {'message_id': 16,\n",
       "    'from': {'id': 8330935186,\n",
       "     'is_bot': False,\n",
       "     'first_name': 'MinKyu',\n",
       "     'last_name': 'Lee',\n",
       "     'language_code': 'ko'},\n",
       "    'chat': {'id': 8330935186,\n",
       "     'first_name': 'MinKyu',\n",
       "     'last_name': 'Lee',\n",
       "     'type': 'private'},\n",
       "    'date': 1753333099,\n",
       "    'text': 'ㅄ'}},\n",
       "  {'update_id': 896394869,\n",
       "   'message': {'message_id': 21,\n",
       "    'from': {'id': 8330935186,\n",
       "     'is_bot': False,\n",
       "     'first_name': 'MinKyu',\n",
       "     'last_name': 'Lee',\n",
       "     'language_code': 'ko'},\n",
       "    'chat': {'id': 8330935186,\n",
       "     'first_name': 'MinKyu',\n",
       "     'last_name': 'Lee',\n",
       "     'type': 'private'},\n",
       "    'date': 1753335482,\n",
       "    'text': 'ㅋㅋㅋㅋㅋㅋㅋㅋ'}},\n",
       "  {'update_id': 896394870,\n",
       "   'message': {'message_id': 26,\n",
       "    'from': {'id': 8330935186,\n",
       "     'is_bot': False,\n",
       "     'first_name': 'MinKyu',\n",
       "     'last_name': 'Lee',\n",
       "     'language_code': 'ko'},\n",
       "    'chat': {'id': 8330935186,\n",
       "     'first_name': 'MinKyu',\n",
       "     'last_name': 'Lee',\n",
       "     'type': 'private'},\n",
       "    'date': 1753336077,\n",
       "    'text': '하이'}},\n",
       "  {'update_id': 896394871,\n",
       "   'message': {'message_id': 27,\n",
       "    'from': {'id': 8330935186,\n",
       "     'is_bot': False,\n",
       "     'first_name': 'MinKyu',\n",
       "     'last_name': 'Lee',\n",
       "     'language_code': 'ko'},\n",
       "    'chat': {'id': 8330935186,\n",
       "     'first_name': 'MinKyu',\n",
       "     'last_name': 'Lee',\n",
       "     'type': 'private'},\n",
       "    'date': 1753336079,\n",
       "    'text': '안녕'}},\n",
       "  {'update_id': 896394872,\n",
       "   'message': {'message_id': 30,\n",
       "    'from': {'id': 8330935186,\n",
       "     'is_bot': False,\n",
       "     'first_name': 'MinKyu',\n",
       "     'last_name': 'Lee',\n",
       "     'language_code': 'ko'},\n",
       "    'chat': {'id': 8330935186,\n",
       "     'first_name': 'MinKyu',\n",
       "     'last_name': 'Lee',\n",
       "     'type': 'private'},\n",
       "    'date': 1753336125,\n",
       "    'text': '로또'}}]}"
      ]
     },
     "execution_count": 142,
     "metadata": {},
     "output_type": "execute_result"
    }
   ],
   "source": [
    "import requests\n",
    "# /getUpdates 로 요청보내고 -> 응답JSON 받아서 저장\n",
    "requests.get(URL + '/getUpdates').json()"
   ]
  },
  {
   "cell_type": "code",
   "execution_count": 13,
   "id": "02bf681d",
   "metadata": {},
   "outputs": [
    {
     "name": "stdout",
     "output_type": "stream",
     "text": [
      "https://api.telegram.org/bot8404158589:AAHig7FG__VO5bq_5AJYgxW5dMAeuBxiOFM/getMe\n"
     ]
    }
   ],
   "source": [
    "#Bot 에 대한 정보\n",
    "print(URL + '/getMe')"
   ]
  },
  {
   "cell_type": "code",
   "execution_count": null,
   "id": "76b60c4b",
   "metadata": {},
   "outputs": [],
   "source": []
  },
  {
   "cell_type": "code",
   "execution_count": 15,
   "id": "4133672f",
   "metadata": {},
   "outputs": [
    {
     "name": "stdout",
     "output_type": "stream",
     "text": [
      "https://api.telegram.org/bot8404158589:AAHig7FG__VO5bq_5AJYgxW5dMAeuBxiOFM/getUpdates\n"
     ]
    }
   ],
   "source": [
    "# Bot의 모든 업데이트\n",
    "print(URL + '/getUpdates')"
   ]
  },
  {
   "cell_type": "code",
   "execution_count": 133,
   "id": "b6f87ecb",
   "metadata": {},
   "outputs": [],
   "source": [
    "data = {    \n",
    "    \"ok\": True,\n",
    "    \"result\": [\n",
    "        {\n",
    "            \"update_id\": 896394864,\n",
    "            \"message\": {\n",
    "                \"message_id\": 1,\n",
    "                \"from\": {\n",
    "                    \"id\": 8330935186,\n",
    "                    \"is_bot\": False,\n",
    "                    \"first_name\": \"MinKyu\",\n",
    "                    \"last_name\": \"Lee\",\n",
    "                    \"language_code\": \"ko\"\n",
    "                },\n",
    "                \"chat\": {\n",
    "                    \"id\": 8330935186,\n",
    "                    \"first_name\": \"MinKyu\",\n",
    "                    \"last_name\": \"Lee\",\n",
    "                    \"type\": \"private\"\n",
    "                },\n",
    "                \"date\": 1753323123,\n",
    "                \"text\": \"/start\",\n",
    "                \"entities\": [\n",
    "                    {\n",
    "                        \"offset\": 0,\n",
    "                        \"length\": 6,\n",
    "                        \"type\": \"bot_command\"\n",
    "                    }\n",
    "                ]\n",
    "            }\n",
    "        },\n",
    "        {\n",
    "            \"update_id\": 896394865,\n",
    "            \"message\": {\n",
    "                \"message_id\": 2,\n",
    "                \"from\": {\n",
    "                    \"id\": 8330935186,\n",
    "                    \"is_bot\": False,\n",
    "                    \"first_name\": \"MinKyu\",\n",
    "                    \"last_name\": \"Lee\",\n",
    "                    \"language_code\": \"ko\"\n",
    "                },\n",
    "                \"chat\": {\n",
    "                    \"id\": 8330935186,\n",
    "                    \"first_name\": \"MinKyu\",\n",
    "                    \"last_name\": \"Lee\",\n",
    "                    \"type\": \"private\"\n",
    "                },\n",
    "                \"date\": 1753323128,\n",
    "                \"text\": \"hi\"\n",
    "            }\n",
    "        },\n",
    "        {\n",
    "            \"update_id\": 896394866,\n",
    "            \"message\": {\n",
    "                \"message_id\": 3,\n",
    "                \"from\": {\n",
    "                    \"id\": 8330935186,\n",
    "                    \"is_bot\": False,\n",
    "                    \"first_name\": \"MinKyu\",\n",
    "                    \"last_name\": \"Lee\",\n",
    "                    \"language_code\": \"ko\"\n",
    "                },\n",
    "                \"chat\": {\n",
    "                    \"id\": 8330935186,\n",
    "                    \"first_name\": \"MinKyu\",\n",
    "                    \"last_name\": \"Lee\",\n",
    "                    \"type\": \"private\"\n",
    "                },\n",
    "                \"date\": 1753323741,\n",
    "                \"text\": \"hello\"\n",
    "            }\n",
    "        },\n",
    "        {\n",
    "            \"update_id\": 896394867,\n",
    "            \"message\": {\n",
    "                \"message_id\": 15,\n",
    "                \"from\": {\n",
    "                    \"id\": 8330935186,\n",
    "                    \"is_bot\": False,\n",
    "                    \"first_name\": \"MinKyu\",\n",
    "                    \"last_name\": \"Lee\",\n",
    "                    \"language_code\": \"ko\"\n",
    "                },\n",
    "                \"chat\": {\n",
    "                    \"id\": 8330935186,\n",
    "                    \"first_name\": \"MinKyu\",\n",
    "                    \"last_name\": \"Lee\",\n",
    "                    \"type\": \"private\"\n",
    "                },\n",
    "                \"date\": 1753330879,\n",
    "                \"text\": \"로또\"\n",
    "            }\n",
    "        }\n",
    "    ]\n",
    "}"
   ]
  },
  {
   "cell_type": "code",
   "execution_count": 136,
   "id": "9045fe1c",
   "metadata": {},
   "outputs": [
    {
     "name": "stdout",
     "output_type": "stream",
     "text": [
      "로또 8330935186\n"
     ]
    }
   ],
   "source": [
    "input_msg  = data['result'][-1]['message']['text']\n",
    "sender_id = data['result'][-1]['message']['from']['id']\n",
    "print(input_msg,sender_id)"
   ]
  },
  {
   "cell_type": "code",
   "execution_count": 140,
   "id": "ee7dac64",
   "metadata": {},
   "outputs": [],
   "source": [
    "import random\n",
    "if input_msg in ('로또', 'lotto', '가즈아'):\n",
    "    text = str(random.sample(range(1,46),6))\n",
    "elif input_msg == '안녕':\n",
    "    text = '오냐'\n",
    "else:\n",
    "    text = '아직은 그런건 몰루'\n"
   ]
  },
  {
   "cell_type": "code",
   "execution_count": null,
   "id": "a4060b6c",
   "metadata": {},
   "outputs": [
    {
     "data": {
      "text/plain": [
       "{'ok': True,\n",
       " 'result': {'message_id': 38,\n",
       "  'from': {'id': 8404158589,\n",
       "   'is_bot': True,\n",
       "   'first_name': 'gaida-1st',\n",
       "   'username': 'gaida_1st_Bot'},\n",
       "  'chat': {'id': 8330935186,\n",
       "   'first_name': 'MinKyu',\n",
       "   'last_name': 'Lee',\n",
       "   'type': 'private'},\n",
       "  'date': 1753338387,\n",
       "  'text': '[2, 37, 23, 18, 12, 16]'}}"
      ]
     },
     "execution_count": 141,
     "metadata": {},
     "output_type": "execute_result"
    }
   ],
   "source": [
    "import requests\n",
    "body = {\n",
    "    'chat_id': sender_id,\n",
    "    'text': text,\n",
    "}\n",
    "requests.get(URL + '/sendMessage',body).json()"
   ]
  }
 ],
 "metadata": {
  "kernelspec": {
   "display_name": "Python 3",
   "language": "python",
   "name": "python3"
  },
  "language_info": {
   "codemirror_mode": {
    "name": "ipython",
    "version": 3
   },
   "file_extension": ".py",
   "mimetype": "text/x-python",
   "name": "python",
   "nbconvert_exporter": "python",
   "pygments_lexer": "ipython3",
   "version": "3.13.2"
  }
 },
 "nbformat": 4,
 "nbformat_minor": 5
}
