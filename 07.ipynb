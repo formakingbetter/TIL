{
 "cells": [
  {
   "cell_type": "code",
   "execution_count": 100,
   "id": "09b72107",
   "metadata": {},
   "outputs": [
    {
     "ename": "IndentationError",
     "evalue": "unindent does not match any outer indentation level (<string>, line 37)",
     "output_type": "error",
     "traceback": [
      "  \u001b[36mFile \u001b[39m\u001b[32m<string>:37\u001b[39m\n\u001b[31m    \u001b[39m\u001b[31melif nr == lr:\u001b[39m\n                  ^\n\u001b[31mIndentationError\u001b[39m\u001b[31m:\u001b[39m unindent does not match any outer indentation level\n"
     ]
    }
   ],
   "source": [
    "numbers = [[5]]\t\n",
    "start=[0,0]\n",
    "end = [0,0]\n",
    "r = start[0]\n",
    "c = start[1]\n",
    "lr = end[0]\n",
    "lc = end[1]\n",
    "n = len(numbers)\n",
    "m = len(numbers[0])\n",
    "dr = 0\n",
    "dc = 0\n",
    "nr = r + dr\n",
    "nc = c + dc\n",
    "count = 0\n",
    "\n",
    "if 0 <= nc <= m and 0 <= nr <= n:\n",
    "  \n",
    "    if nr < lr:\n",
    "        while nc <= m-1:\n",
    "            count += numbers[nr][nc]\n",
    "            nc +=bool(nc<= m-1) \n",
    "            if nc == m:\n",
    "                nr += 1\n",
    "                if nr < lr:\n",
    "                    while nr < lr:\n",
    "                        for i in range(m):\n",
    "                            count += numbers[nr][i]\n",
    "                            if i == m-1:\n",
    "                                nr +=1\n",
    "                                while nr == lr:\n",
    "                                    for i in range(lc+1):\n",
    "                                        count += numbers[nr][i]\n",
    "                elif nr == lr:\n",
    "                    for i in range(lc+1):\n",
    "                        count += numbers[nr][i]\n",
    "                                    \n",
    "     elif nr == lr:\n",
    "        for i in range(lc+1):\n",
    "            count += number[nr][i]          \n",
    "                   \n",
    "           \n",
    "print(count)\n",
    "    #while문으로 계속하기\n",
    "#     #while문 끝나는 지점\n",
    "    \n",
    "#     while nc <= m-1: # case1 만약에 numbers[nr][nc]\n",
    "#         if nr < lr:\n",
    "#             count += numbers[nr][nc]\n",
    "#             nc += bool(nc <= m-1)\n",
    "\n",
    "#     while nr <= lr:\n",
    "#         if nr+1 < lr:\n",
    "#             for i in range(m):\n",
    "#                 count += numbers[nr+1][i]\n",
    "#                 nr += 1\n",
    "\n",
    "#         elif nr+1 == lr:\n",
    "#             for i in range(lc+1):\n",
    "#                 count += numbers[nr+1][i]\n",
    "#         break\n",
    "# print(count)"
   ]
  },
  {
   "cell_type": "code",
   "execution_count": 86,
   "id": "268a4ead",
   "metadata": {},
   "outputs": [
    {
     "name": "stdout",
     "output_type": "stream",
     "text": [
      "5\n",
      "14\n"
     ]
    }
   ],
   "source": [
    "numbers = [[1,2,3],[4,5,6],[7,8,9]]\n",
    "start=[1,1]\n",
    "end = [2,0]\n",
    "r = start[0]\n",
    "c = start[1]\n",
    "lr = end[0]\n",
    "lc = end[1]\n",
    "n = len(numbers)\n",
    "m = len(numbers[0])\n",
    "dr = 0\n",
    "dc = 0\n",
    "\n",
    "\n",
    "if 0 <= nc <= m and 0 <= nr <= n:\n",
    "    nr = r + dr\n",
    "    nc = c + dc\n",
    "    count = 0\n",
    "    if nr < lr:\n",
    "        while nc <= m-1:\n",
    "            count += numbers[nr][nc]\n",
    "            nc +=bool(nc<= m-1)\n",
    "            print(count) # 일단 그냥 끝까지 더하기\n",
    "            if nc == m-1:\n",
    "                nr += 1\n",
    "                if nr < lr:\n",
    "                    for i in range(m):\n",
    "                        \n",
    "                        count += numbers[nr][i]\n",
    "                        print(count)"
   ]
  },
  {
   "cell_type": "code",
   "execution_count": 87,
   "id": "c239e964",
   "metadata": {},
   "outputs": [
    {
     "name": "stdout",
     "output_type": "stream",
     "text": [
      "2\n"
     ]
    }
   ],
   "source": [
    "nc = 1 \n",
    "nc = 2\n",
    "while nc <=lc:\n",
    "        nc +=bool(nc<=lc)\n",
    "print(nc)"
   ]
  }
 ],
 "metadata": {
  "kernelspec": {
   "display_name": "Python 3",
   "language": "python",
   "name": "python3"
  },
  "language_info": {
   "codemirror_mode": {
    "name": "ipython",
    "version": 3
   },
   "file_extension": ".py",
   "mimetype": "text/x-python",
   "name": "python",
   "nbconvert_exporter": "python",
   "pygments_lexer": "ipython3",
   "version": "3.13.2"
  }
 },
 "nbformat": 4,
 "nbformat_minor": 5
}
