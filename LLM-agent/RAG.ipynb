{
 "cells": [
  {
   "cell_type": "code",
   "execution_count": 1,
   "id": "b6f21f9e",
   "metadata": {},
   "outputs": [
    {
     "data": {
      "text/plain": [
       "True"
      ]
     },
     "execution_count": 1,
     "metadata": {},
     "output_type": "execute_result"
    }
   ],
   "source": [
    "from dotenv import load_dotenv\n",
    "load_dotenv()"
   ]
  },
  {
   "cell_type": "code",
   "execution_count": 2,
   "id": "758e730a",
   "metadata": {},
   "outputs": [
    {
     "name": "stdout",
     "output_type": "stream",
     "text": [
      "Note: you may need to restart the kernel to use updated packages.\n"
     ]
    }
   ],
   "source": [
    "%pip install -q \"langchain_chroma>=0.1.2\" langchain_community faiss-cpu"
   ]
  },
  {
   "cell_type": "code",
   "execution_count": 4,
   "id": "26dac1f3",
   "metadata": {},
   "outputs": [
    {
     "ename": "NameError",
     "evalue": "name 'documents' is not defined",
     "output_type": "error",
     "traceback": [
      "\u001b[31m---------------------------------------------------------------------------\u001b[39m",
      "\u001b[31mNameError\u001b[39m                                 Traceback (most recent call last)",
      "\u001b[36mCell\u001b[39m\u001b[36m \u001b[39m\u001b[32mIn[4]\u001b[39m\u001b[32m, line 9\u001b[39m\n\u001b[32m      5\u001b[39m embedding = OpenAIEmbeddings(model = \u001b[33m'\u001b[39m\u001b[33mtext-embedding-3-small\u001b[39m\u001b[33m'\u001b[39m)\n\u001b[32m      7\u001b[39m \u001b[38;5;66;03m# x= embedding.embed_query('점심 배불리 먹었더니 졸리다...')\u001b[39;00m\n\u001b[32m      8\u001b[39m vectorstoe = Chroma.from_documents(\n\u001b[32m----> \u001b[39m\u001b[32m9\u001b[39m     \u001b[43mdocuments\u001b[49m,\n\u001b[32m     10\u001b[39m     embedding = embedding\n\u001b[32m     11\u001b[39m )\n",
      "\u001b[31mNameError\u001b[39m: name 'documents' is not defined"
     ]
    }
   ],
   "source": [
    "from langchain_openai import OpenAIEmbeddings\n",
    "from langchain_chroma import Chroma\n",
    "\n",
    "# OpenAI 임베딩 모델\n",
    "embedding = OpenAIEmbeddings(model = 'text-embedding-3-small')\n",
    "\n",
    "# x= embedding.embed_query('점심 배불리 먹었더니 졸리다...')\n",
    "vectorstoe = Chroma.from_documents(\n",
    "    documents,\n",
    "    embedding = embedding\n",
    ")\n"
   ]
  }
 ],
 "metadata": {
  "kernelspec": {
   "display_name": ".venv (3.13.2)",
   "language": "python",
   "name": "python3"
  },
  "language_info": {
   "codemirror_mode": {
    "name": "ipython",
    "version": 3
   },
   "file_extension": ".py",
   "mimetype": "text/x-python",
   "name": "python",
   "nbconvert_exporter": "python",
   "pygments_lexer": "ipython3",
   "version": "3.13.2"
  }
 },
 "nbformat": 4,
 "nbformat_minor": 5
}
