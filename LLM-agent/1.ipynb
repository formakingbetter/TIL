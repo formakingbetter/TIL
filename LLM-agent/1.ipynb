{
 "cells": [
  {
   "cell_type": "markdown",
   "id": "b6879a45",
   "metadata": {},
   "source": [
    "# 정수 X에 사용할 수 있는 연산은 다음과 같이 세 가지 이다.\n",
    "\n",
    "1.X가 3으로 나누어 떨어지면, 3으로 나눈다.\n",
    "2.X가 2로 나누어 떨어지면, 2로 나눈다.\n",
    "3.1을 뺀다.\n",
    "정수 N이 주어졌을 때, 위와 같은 연산 세 개를 적절히 사용해서 1을 만들려고 한다. 연산을 사용하는 횟수의 최솟값을 출력하시오."
   ]
  },
  {
   "cell_type": "code",
   "execution_count": null,
   "id": "2f6fb6ac",
   "metadata": {},
   "outputs": [
    {
     "ename": "_IncompleteInputError",
     "evalue": "incomplete input (964530236.py, line 3)",
     "output_type": "error",
     "traceback": [
      "  \u001b[36mCell\u001b[39m\u001b[36m \u001b[39m\u001b[32mIn[24]\u001b[39m\u001b[32m, line 3\u001b[39m\n\u001b[31m    \u001b[39m\u001b[31melif X%2 == 0:\u001b[39m\n                  ^\n\u001b[31m_IncompleteInputError\u001b[39m\u001b[31m:\u001b[39m incomplete input\n"
     ]
    }
   ],
   "source": [
    "x = 10 \n",
    "\n"
   ]
  },
  {
   "cell_type": "code",
   "execution_count": null,
   "id": "083a0ea2",
   "metadata": {},
   "outputs": [],
   "source": [
    "X = int(input())\n",
    "while X !=1:\n",
    "    if X / 3 == 0:\n",
    "        X / 3\n",
    "    elif X / 2 == 0:\n",
    "        X / 2\n",
    "    else:\n",
    "        X - 1\n"
   ]
  }
 ],
 "metadata": {
  "kernelspec": {
   "display_name": ".venv (3.13.2)",
   "language": "python",
   "name": "python3"
  },
  "language_info": {
   "codemirror_mode": {
    "name": "ipython",
    "version": 3
   },
   "file_extension": ".py",
   "mimetype": "text/x-python",
   "name": "python",
   "nbconvert_exporter": "python",
   "pygments_lexer": "ipython3",
   "version": "3.13.2"
  }
 },
 "nbformat": 4,
 "nbformat_minor": 5
}
