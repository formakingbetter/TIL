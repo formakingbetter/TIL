{
 "cells": [
  {
   "cell_type": "markdown",
   "id": "a2d6a671",
   "metadata": {},
   "source": [
    "# 출력 파서 (`OutputParser`)\n",
    "\n",
    "- LLM의 출력을 더 유용/구조화된 형태로 변환함\n",
    "- 구조화: LLM의 자유 형식 출력을 구조화된 데이터로 변환\n",
    "- 일관성: 항상 일관된 출력 형식 -> 후속 처리에 용이\n",
    "- 유연성: 다양한 출력 형식(JSON, list, dict)으로 변환 가능"
   ]
  },
  {
   "cell_type": "markdown",
   "id": "c7d7b522",
   "metadata": {},
   "source": [
    "# 출력 파서 (`OutputParser`)\n",
    "\n",
    "- LLM의 출력을 더 유용/구조화된 형태로 변환함\n",
    "- 구조화: LLM의 자유 형식 출력을 구조화된 데이터로 변환\n",
    "- 일관성: 항상 일관된 출력형식 -> 후속 처리에 용이\n",
    "- 유연성: 다양한 출력 형식(JSON, list, dict)으로 변환 가능"
   ]
  },
  {
   "cell_type": "markdown",
   "id": "db5a22e0",
   "metadata": {},
   "source": [
    "## `PydanticOutputParser`"
   ]
  },
  {
   "cell_type": "code",
   "execution_count": 3,
   "id": "b3cdf18b",
   "metadata": {},
   "outputs": [],
   "source": [
    "from dotenv import load_dotenv\n",
    "from langchain_openai import ChatOpenAI\n",
    "from langchain_core.output_parsers import PydanticOutputParser\n",
    "from pydantic import BaseModel, Field\n",
    "\n",
    "load_dotenv()\n",
    "\n",
    "llm = ChatOpenAI(model='gpt-4.1-nano')"
   ]
  },
  {
   "cell_type": "code",
   "execution_count": 4,
   "id": "946553f6",
   "metadata": {},
   "outputs": [],
   "source": [
    "email_conversation = \"\"\"From: 김철수 (chulsoo.kim@bikecorporation.me)\n",
    "To: 이은채 (eunchae@teddyinternational.me)\n",
    "Subject: \"ZENESIS\" 자전거 유통 협력 및 미팅 일정 제안\n",
    "\n",
    "안녕하세요, 이은채 대리님,\n",
    "\n",
    "저는 바이크코퍼레이션의 김철수 상무입니다. 최근 보도자료를 통해 귀사의 신규 자전거 \"ZENESIS\"에 대해 알게 되었습니다. 바이크코퍼레이션은 자전거 제조 및 유통 분야에서 혁신과 품질을 선도하는 기업으로, 이 분야에서의 장기적인 경험과 전문성을 가지고 있습니다.\n",
    "\n",
    "ZENESIS 모델에 대한 상세한 브로슈어를 요청드립니다. 특히 기술 사양, 배터리 성능, 그리고 디자인 측면에 대한 정보가 필요합니다. 이를 통해 저희가 제안할 유통 전략과 마케팅 계획을 보다 구체화할 수 있을 것입니다.\n",
    "\n",
    "또한, 협력 가능성을 더 깊이 논의하기 위해 다음 주 화요일(1월 15일) 오전 10시에 미팅을 제안합니다. 귀사 사무실에서 만나 이야기를 나눌 수 있을까요?\n",
    "\n",
    "감사합니다.\n",
    "\n",
    "김철수\n",
    "상무이사\n",
    "바이크코퍼레이션\n",
    "\"\"\""
   ]
  },
  {
   "cell_type": "code",
   "execution_count": 5,
   "id": "5b1a7768",
   "metadata": {},
   "outputs": [
    {
     "name": "stdout",
     "output_type": "stream",
     "text": [
      "---출력파서 없는 요약---\n",
      "아래는 이메일에서 중요한 내용입니다:\n",
      "\n",
      "1. 발신자: 김철수 상무 (바이크코퍼레이션)\n",
      "2. 수신자: 이은채 대리\n",
      "3. 목적:\n",
      "   - \"ZENESIS\" 자전거에 대한 상세 브로슈어 요청 (기술 사양, 배터리 성능, 디자인 정보 필요)\n",
      "   - 유통 전략 및 마케팅 계획 수립을 위한 자료 요청\n",
      "4. 미팅 제안:\n",
      "   - 일정: 1월 15일 화요일 오전 10시\n",
      "   - 장소: 귀사 사무실에서 미팅 희망\n"
     ]
    }
   ],
   "source": [
    "from langchain_core.prompts import PromptTemplate\n",
    "\n",
    "prompt = PromptTemplate.from_template(\n",
    "    '아래 이메일 내용중 중요한 것만 추출해.\\n\\n---\\n\\n{email_conversation}'\n",
    ")\n",
    "\n",
    "# print(prompt.format(email_conversation=email_conversation))\n",
    "chain = prompt | llm \n",
    "\n",
    "print('---출력파서 없는 요약---')\n",
    "print(chain.invoke({'email_conversation': email_conversation}).content)"
   ]
  },
  {
   "cell_type": "code",
   "execution_count": 6,
   "id": "416293c4",
   "metadata": {},
   "outputs": [
    {
     "name": "stdout",
     "output_type": "stream",
     "text": [
      "The output should be formatted as a JSON instance that conforms to the JSON schema below.\n",
      "\n",
      "As an example, for the schema {\"properties\": {\"foo\": {\"title\": \"Foo\", \"description\": \"a list of strings\", \"type\": \"array\", \"items\": {\"type\": \"string\"}}}, \"required\": [\"foo\"]}\n",
      "the object {\"foo\": [\"bar\", \"baz\"]} is a well-formatted instance of the schema. The object {\"properties\": {\"foo\": [\"bar\", \"baz\"]}} is not well-formatted.\n",
      "\n",
      "Here is the output schema:\n",
      "```\n",
      "{\"properties\": {\"person\": {\"description\": \"메일 보낸 사람\", \"title\": \"Person\", \"type\": \"string\"}, \"email\": {\"description\": \"보낸사람의 메일주소\", \"title\": \"Email\", \"type\": \"string\"}, \"subject\": {\"description\": \"메일 제목\", \"title\": \"Subject\", \"type\": \"string\"}, \"summary\": {\"description\": \"메일 본문 요약\", \"title\": \"Summary\", \"type\": \"string\"}, \"date\": {\"description\": \"메일에 언급된 미팅 날짜와 시간\", \"title\": \"Date\", \"type\": \"string\"}}, \"required\": [\"person\", \"email\", \"subject\", \"summary\", \"date\"]}\n",
      "```\n"
     ]
    }
   ],
   "source": [
    "class EmailSummary(BaseModel):\n",
    "    person: str = Field(description='메일 보낸 사람')\n",
    "    email: str = Field(description='보낸사람의 메일주소')\n",
    "    subject: str = Field(description='메일 제목')\n",
    "    summary: str = Field(description='메일 본문 요약')\n",
    "    date: str = Field(description='메일에 언급된 미팅 날짜와 시간')\n",
    "\n",
    "parser = PydanticOutputParser(pydantic_object=EmailSummary)\n",
    "print(parser.get_format_instructions())"
   ]
  },
  {
   "cell_type": "code",
   "execution_count": 7,
   "id": "b6f6cddc",
   "metadata": {},
   "outputs": [],
   "source": [
    "prompt = PromptTemplate.from_template(\n",
    "    \"\"\"\n",
    "너는 요약의 신 어시스턴트야. 아래 질문에 맞게 답변을 한국어로 만들어줘\n",
    "\n",
    "질문: {question}\n",
    "\n",
    "이메일 내용: {email_conversation}\n",
    "\n",
    "형식: {format}\n",
    "\n",
    "\"\"\"\n",
    ")\n",
    "\n",
    "# 프롬프트 변수들중 일부만 채우기\n",
    "prompt = prompt.partial(format=parser.get_format_instructions())"
   ]
  },
  {
   "cell_type": "code",
   "execution_count": 8,
   "id": "6894664b",
   "metadata": {},
   "outputs": [
    {
     "data": {
      "text/plain": [
       "EmailSummary(person='김철수 상무', email='chulsoo.kim@bikecorporation.me', subject='\"ZENESIS\" 자전거 유통 협력 및 미팅 일정 제안', summary='바이크코퍼레이션은 귀사의 \"ZENESIS\" 자전거에 대한 브로슈어 요청과 함께, 기술 사양, 배터리 성능, 디자인 정보를 요구하며, 다음 주 1월 15일 오전 10시에 사무실에서 협력 관련 미팅을 제안하고 있습니다.', date='2023년 1월 15일 오전 10시')"
      ]
     },
     "execution_count": 8,
     "metadata": {},
     "output_type": "execute_result"
    }
   ],
   "source": [
    "chain = prompt | llm | parser\n",
    "\n",
    "res = chain.invoke(\n",
    "    {\n",
    "        'question': '이메일 내용중 중요한 내용을 추출해 줘!',\n",
    "        'email_conversation': email_conversation\n",
    "    }\n",
    ")\n",
    "\n",
    "res"
   ]
  },
  {
   "cell_type": "markdown",
   "id": "0d982352",
   "metadata": {},
   "source": [
    "`PydanticOutputParser`"
   ]
  },
  {
   "cell_type": "code",
   "execution_count": 9,
   "id": "98b7954b",
   "metadata": {},
   "outputs": [
    {
     "ename": "ImportError",
     "evalue": "cannot import name 'Base' from 'pydantic' (c:\\Users\\mingyu\\TIL\\LLM-agent\\.venv\\Lib\\site-packages\\pydantic\\__init__.py)",
     "output_type": "error",
     "traceback": [
      "\u001b[31m---------------------------------------------------------------------------\u001b[39m",
      "\u001b[31mImportError\u001b[39m                               Traceback (most recent call last)",
      "\u001b[36mCell\u001b[39m\u001b[36m \u001b[39m\u001b[32mIn[9]\u001b[39m\u001b[32m, line 4\u001b[39m\n\u001b[32m      2\u001b[39m \u001b[38;5;28;01mfrom\u001b[39;00m\u001b[38;5;250m \u001b[39m\u001b[34;01mlangchain_openai\u001b[39;00m\u001b[38;5;250m \u001b[39m\u001b[38;5;28;01mimport\u001b[39;00m ChatOpenAI\n\u001b[32m      3\u001b[39m \u001b[38;5;28;01mfrom\u001b[39;00m\u001b[38;5;250m \u001b[39m\u001b[34;01mlangchain_core\u001b[39;00m\u001b[34;01m.\u001b[39;00m\u001b[34;01moutput_parsers\u001b[39;00m\u001b[38;5;250m \u001b[39m\u001b[38;5;28;01mimport\u001b[39;00m PydanticOutputParser\n\u001b[32m----> \u001b[39m\u001b[32m4\u001b[39m \u001b[38;5;28;01mfrom\u001b[39;00m\u001b[38;5;250m \u001b[39m\u001b[34;01mpydantic\u001b[39;00m\u001b[38;5;250m \u001b[39m\u001b[38;5;28;01mimport\u001b[39;00m Base\n",
      "\u001b[31mImportError\u001b[39m: cannot import name 'Base' from 'pydantic' (c:\\Users\\mingyu\\TIL\\LLM-agent\\.venv\\Lib\\site-packages\\pydantic\\__init__.py)"
     ]
    }
   ],
   "source": [
    "from dotenv import load_dotenv\n",
    "from langchain_openai import ChatOpenAI\n",
    "from langchain_core.output_parsers import PydanticOutputParser\n",
    "from pydantic import Base"
   ]
  },
  {
   "cell_type": "code",
   "execution_count": null,
   "id": "6cd7f8c8",
   "metadata": {},
   "outputs": [],
   "source": [
    "email_conversation = \"\"\"From: 김철수 (chulsoo.kim@bikecorporation.me)\n",
    "To: 이은채 (eunchae@teddyinternational.me)\n",
    "Subject: \"ZENESIS\" 자전거 유통 협력 및 미팅 일정 제안\n",
    "\n",
    "안녕하세요, 이은채 대리님,\n",
    "\n",
    "저는 바이크코퍼레이션의 김철수 상무입니다. 최근 보도자료를 통해 귀사의 신규 자전거 \"ZENESIS\"에 대해 알게 되었습니다. 바이크코퍼레이션은 자전거 제조 및 유통 분야에서 혁신과 품질을 선도하는 기업으로, 이 분야에서의 장기적인 경험과 전문성을 가지고 있습니다.\n",
    "\n",
    "ZENESIS 모델에 대한 상세한 브로슈어를 요청드립니다. 특히 기술 사양, 배터리 성능, 그리고 디자인 측면에 대한 정보가 필요합니다. 이를 통해 저희가 제안할 유통 전략과 마케팅 계획을 보다 구체화할 수 있을 것입니다.\n",
    "\n",
    "또한, 협력 가능성을 더 깊이 논의하기 위해 다음 주 화요일(1월 15일) 오전 10시에 미팅을 제안합니다. 귀사 사무실에서 만나 이야기를 나눌 수 있을까요?\n",
    "\n",
    "감사합니다.\n",
    "\n",
    "김철수\n",
    "상무이사\n",
    "바이크코퍼레이션\n",
    "\"\"\""
   ]
  },
  {
   "cell_type": "code",
   "execution_count": null,
   "id": "9e068d8f",
   "metadata": {},
   "outputs": [],
   "source": [
    "from langchain_core.prompts import PromptTemplate\n",
    "\n",
    "prompt = PromptTemplate.from_template(\n",
    "    '아래 이메일 내용중 중요한 것만 추출해.{email_conversation}'\n",
    ")\n",
    "\n",
    "# print(prompt.format(email_conversation = email_conversation))\n",
    "chain = prompt | llm \n",
    "\n",
    "print('---출력파서 없는 요약---')\n",
    "print(chain.invoke({'email_conversation': email_conversation}).content)"
   ]
  },
  {
   "cell_type": "code",
   "execution_count": null,
   "id": "501d5ddd",
   "metadata": {},
   "outputs": [],
   "source": [
    "class EmailSummary(BaseModel):\n",
    "    person: str\n",
    "    email: str\n",
    "    subject: str\n",
    "    summary: str\n",
    "    date: str\n",
    "\n",
    "parser = PydanticOutputParser(pydantic_object = EmailSummary)"
   ]
  },
  {
   "cell_type": "code",
   "execution_count": null,
   "id": "dd0a8fac",
   "metadata": {},
   "outputs": [],
   "source": [
    "chain = prompt | llm |parser\n",
    "print(chain.invoke({'email_conversation':email_}))"
   ]
  },
  {
   "cell_type": "code",
   "execution_count": null,
   "id": "953d80dd",
   "metadata": {},
   "outputs": [],
   "source": [
    "prompt = PromptTemplate.from_template(\n",
    "    \"\"\"\n",
    "너는 요약의 신 어시스턴트야. 아래 질문에 맞게 \n",
    "\n",
    "질문: {question}\n",
    "\n",
    "\n",
    "\"\"\"\n",
    ")\n",
    "\n",
    "# 프롬프트 변수들 중 일부만 채우기\n",
    "prompt.partial(format=parser.get_format_instructions())"
   ]
  },
  {
   "cell_type": "markdown",
   "id": "5138b3ed",
   "metadata": {},
   "source": [
    "# csv parser"
   ]
  },
  {
   "cell_type": "code",
   "execution_count": 10,
   "id": "f3ca0859",
   "metadata": {},
   "outputs": [
    {
     "name": "stdout",
     "output_type": "stream",
     "text": [
      "---\n",
      "List 5 중국집대표메뉴. \n",
      "Your response should be a list of comma separated values, eg: `foo, bar, baz` or `foo,bar,baz`\n"
     ]
    }
   ],
   "source": [
    "from langchain_core.output_parsers import CommaSeparatedListOutputParser\n",
    "\n",
    "output_parser = CommaSeparatedListOutputParser()\n",
    "\n",
    "output_parser.get_format_instructions()\n",
    "\n",
    "prompt = PromptTemplate(\n",
    "    template = 'List 5 {subject}. \\n{format_instructions}',\n",
    "    input_variables = ['subject'],\n",
    "    partial_variables = {'format_instructions':output_parser.get_format_instructions()}    \n",
    ")\n",
    "print('---')\n",
    "print(prompt.format(subject = '중국집대표메뉴'))\n",
    "\n",
    "chain1 = prompt | llm\n",
    "csv_res = chain1.invoke({'subject':'맥도날드 대표메뉴'}).content\n",
    "\n",
    "chain2 = prompt | llm | output_parser\n",
    "list_res = chain1.invoke({'subject': '국민주식'})"
   ]
  },
  {
   "cell_type": "code",
   "execution_count": 11,
   "id": "fdc44548",
   "metadata": {},
   "outputs": [
    {
     "name": "stdout",
     "output_type": "stream",
     "text": [
      "Big Mac, Quarter Pounder, McNuggets, Filet-O-Fish, Fries\n",
      "content='삼성전자, SK하이닉스, 현대차, LG화학, 네이버' additional_kwargs={'refusal': None} response_metadata={'token_usage': {'completion_tokens': 19, 'prompt_tokens': 43, 'total_tokens': 62, 'completion_tokens_details': {'accepted_prediction_tokens': 0, 'audio_tokens': 0, 'reasoning_tokens': 0, 'rejected_prediction_tokens': 0}, 'prompt_tokens_details': {'audio_tokens': 0, 'cached_tokens': 0}}, 'model_name': 'gpt-4.1-nano-2025-04-14', 'system_fingerprint': 'fp_c4c155951e', 'id': 'chatcmpl-CBCnzOUhOATcuQcYs3ASI2Y3yHbAj', 'service_tier': 'default', 'finish_reason': 'stop', 'logprobs': None} id='run--63c0433c-2652-4a54-ada2-9d5d200bf1a4-0' usage_metadata={'input_tokens': 43, 'output_tokens': 19, 'total_tokens': 62, 'input_token_details': {'audio': 0, 'cache_read': 0}, 'output_token_details': {'audio': 0, 'reasoning': 0}}\n"
     ]
    }
   ],
   "source": [
    "print(csv_res)\n",
    "print(list_res)"
   ]
  },
  {
   "cell_type": "markdown",
   "id": "0e58aaa4",
   "metadata": {},
   "source": [
    "# Structured Output Parser\n",
    "\n",
    "- dict 형식 -> 멍청한 모델에도 적용 가능"
   ]
  },
  {
   "cell_type": "code",
   "execution_count": null,
   "id": "fffdeecd",
   "metadata": {},
   "outputs": [],
   "source": [
    "from langchain.output_parsers import ResponseSchema, StructuredOutputParser "
   ]
  },
  {
   "cell_type": "code",
   "execution_count": null,
   "id": "6813329a",
   "metadata": {},
   "outputs": [],
   "source": [
    "response_schema = [\n",
    "    ResponseSchema(name = 'answer',type = 'str', description='사용자의 질문에 대한 답변'),\n",
    "    ResponseSchema(name = 'source',description='질문에 답하기 위해 사용된 \"출처\",\"웹사이트 주소\"')\n",
    "]\n",
    "\n",
    "output_parser = StructuredOutputParser.from_response_schemas(response_schema)\n"
   ]
  },
  {
   "cell_type": "code",
   "execution_count": null,
   "id": "eb8cc960",
   "metadata": {},
   "outputs": [
    {
     "name": "stdout",
     "output_type": "stream",
     "text": [
      "Your response should be a list of comma separated values, eg: `foo, bar, baz` or `foo,bar,baz`\n"
     ]
    }
   ],
   "source": [
    "print(output_parser.get_format_instructions())\n",
    "\n",
    "prompt = PromptTemplate(\n",
    "    template = '사용자 질문에 최선을 다해 답변한다.\\n{format_instructions}\\n{question}',\n",
    "    input_variables=['question'],\n",
    "    partial_variables={'format_instructions'}\n",
    ")"
   ]
  },
  {
   "cell_type": "code",
   "execution_count": 14,
   "id": "96058004",
   "metadata": {},
   "outputs": [
    {
     "name": "stdout",
     "output_type": "stream",
     "text": [
      "Note: you may need to restart the kernel to use updated packages.\n"
     ]
    }
   ],
   "source": [
    "%pip install -q seaborn"
   ]
  },
  {
   "cell_type": "code",
   "execution_count": 13,
   "id": "1c6ec0cd",
   "metadata": {},
   "outputs": [
    {
     "ename": "ModuleNotFoundError",
     "evalue": "No module named 'seaborn'",
     "output_type": "error",
     "traceback": [
      "\u001b[31m---------------------------------------------------------------------------\u001b[39m",
      "\u001b[31mModuleNotFoundError\u001b[39m                       Traceback (most recent call last)",
      "\u001b[36mCell\u001b[39m\u001b[36m \u001b[39m\u001b[32mIn[13]\u001b[39m\u001b[32m, line 3\u001b[39m\n\u001b[32m      1\u001b[39m \u001b[38;5;28;01mfrom\u001b[39;00m\u001b[38;5;250m \u001b[39m\u001b[34;01mlangchain\u001b[39;00m\u001b[34;01m.\u001b[39;00m\u001b[34;01moutput_parsers\u001b[39;00m\u001b[38;5;250m \u001b[39m\u001b[38;5;28;01mimport\u001b[39;00m PandasDataFrameOutputParser\n\u001b[32m----> \u001b[39m\u001b[32m3\u001b[39m \u001b[38;5;28;01mimport\u001b[39;00m\u001b[38;5;250m \u001b[39m\u001b[34;01mseaborn\u001b[39;00m\u001b[38;5;250m \u001b[39m\u001b[38;5;28;01mas\u001b[39;00m\u001b[38;5;250m \u001b[39m\u001b[34;01msns\u001b[39;00m\n\u001b[32m      5\u001b[39m titanic_df = sns.load_dataset(\u001b[33m'\u001b[39m\u001b[33mtitanic\u001b[39m\u001b[33m'\u001b[39m)\n",
      "\u001b[31mModuleNotFoundError\u001b[39m: No module named 'seaborn'"
     ]
    }
   ],
   "source": [
    "from langchain.output_parsers import PandasDataFrameOutputParser\n",
    "\n",
    "import seaborn as sns\n",
    "\n",
    "titanic_df = sns.load_dataset('titanic')"
   ]
  },
  {
   "cell_type": "code",
   "execution_count": 17,
   "id": "e9db20f2",
   "metadata": {},
   "outputs": [
    {
     "name": "stdout",
     "output_type": "stream",
     "text": [
      "Answer the user query.\n",
      "The output should be formatted as a JSON instance that conforms to the JSON schema below.\n",
      "\n",
      "As an example, for the schema {\"properties\": {\"foo\": {\"title\": \"Foo\", \"description\": \"a list of strings\", \"type\": \"array\", \"items\": {\"type\": \"string\"}}}, \"required\": [\"foo\"]}\n",
      "the object {\"foo\": [\"bar\", \"baz\"]} is a well-formatted instance of the schema. The object {\"properties\": {\"foo\": [\"bar\", \"baz\"]}} is not well-formatted.\n",
      "\n",
      "Here is the output schema:\n",
      "```\n",
      "{\"properties\": {\"person\": {\"description\": \"메일 보낸 사람\", \"title\": \"Person\", \"type\": \"string\"}, \"email\": {\"description\": \"보낸사람의 메일주소\", \"title\": \"Email\", \"type\": \"string\"}, \"subject\": {\"description\": \"메일 제목\", \"title\": \"Subject\", \"type\": \"string\"}, \"summary\": {\"description\": \"메일 본문 요약\", \"title\": \"Summary\", \"type\": \"string\"}, \"date\": {\"description\": \"메일에 언급된 미팅 날짜와 시간\", \"title\": \"Date\", \"type\": \"string\"}}, \"required\": [\"person\", \"email\", \"subject\", \"summary\", \"date\"]}\n",
      "```\n",
      "Age 컬럼의 평균은 얼마냐?\n"
     ]
    }
   ],
   "source": [
    "prompt = PromptTemplate(\n",
    "    template = 'Answer the user query.\\n{format_instructions}\\n{query}',\n",
    "    input_variables=['query'],\n",
    "    partial_variables={'format_instructions': parser.get_format_instructions()},\n",
    ")\n",
    "res = prompt.format(query= 'Age 컬럼의 평균은 얼마냐?')\n",
    "print(res)"
   ]
  },
  {
   "cell_type": "code",
   "execution_count": null,
   "id": "ee1510c9",
   "metadata": {},
   "outputs": [],
   "source": [
    "prompt = PromptTemplate(\n",
    "    template = 'Answer the user query.\\n{}'\n",
    ")"
   ]
  },
  {
   "cell_type": "code",
   "execution_count": 21,
   "id": "4d8f9308",
   "metadata": {},
   "outputs": [
    {
     "data": {
      "text/plain": [
       "'하이 하이'"
      ]
     },
     "execution_count": 21,
     "metadata": {},
     "output_type": "execute_result"
    }
   ],
   "source": [
    "from langchain_openai import ChatOpenAI\n",
    "msg = input('외국어를 넣어봐')\n",
    "llm = ChatOpenAI(model = 'gpt-4.1-nano')\n",
    "res = llm.invoke(f'한국어로 번역해봐:{msg}')\n",
    "res.content"
   ]
  },
  {
   "cell_type": "code",
   "execution_count": 24,
   "id": "da0ecae1",
   "metadata": {},
   "outputs": [
    {
     "ename": "AttributeError",
     "evalue": "'str' object has no attribute 'contet'",
     "output_type": "error",
     "traceback": [
      "\u001b[31m---------------------------------------------------------------------------\u001b[39m",
      "\u001b[31mAttributeError\u001b[39m                            Traceback (most recent call last)",
      "\u001b[36mCell\u001b[39m\u001b[36m \u001b[39m\u001b[32mIn[24]\u001b[39m\u001b[32m, line 13\u001b[39m\n\u001b[32m      5\u001b[39m prompt = PromptTemplate(\n\u001b[32m      6\u001b[39m     template = \u001b[33m'\u001b[39m\u001b[33maaa\u001b[39m\u001b[33m'\u001b[39m,\n\u001b[32m      7\u001b[39m     input_variables = [\u001b[33m'\u001b[39m\u001b[33mquestion\u001b[39m\u001b[33m'\u001b[39m],\n\u001b[32m   (...)\u001b[39m\u001b[32m     10\u001b[39m     }\n\u001b[32m     11\u001b[39m )\n\u001b[32m     12\u001b[39m res = output_parser.get_format_instructions()\n\u001b[32m---> \u001b[39m\u001b[32m13\u001b[39m \u001b[43mres\u001b[49m\u001b[43m.\u001b[49m\u001b[43mcontet\u001b[49m\n",
      "\u001b[31mAttributeError\u001b[39m: 'str' object has no attribute 'contet'"
     ]
    }
   ],
   "source": [
    "## datetime Output Parser\n",
    "from langchain.output_parsers import DatetimeOutputParser\n",
    "\n",
    "output_parser = DatetimeOutputParser(format = '%Y-%m-%d')\n",
    "prompt = PromptTemplate(\n",
    "    template = 'aaa',\n",
    "    input_variables = ['question'],\n",
    "    partial_variables= {\n",
    "        'format_instruction':output_parser.get_format_instructions()\n",
    "    }\n",
    ")\n",
    "res = output_parser.get_format_instructions()\n",
    "res.contet"
   ]
  },
  {
   "cell_type": "code",
   "execution_count": null,
   "id": "509a0e19",
   "metadata": {},
   "outputs": [],
   "source": [
    "from langchain\n",
    "from enum import Enum\n",
    "\n",
    "class Colors(Enum):\n",
    "    RED = '빨간색'\n",
    "    GREEN = '초록색'\n",
    "    BLUE = '파란색'"
   ]
  }
 ],
 "metadata": {
  "kernelspec": {
   "display_name": ".venv (3.13.2)",
   "language": "python",
   "name": "python3"
  },
  "language_info": {
   "codemirror_mode": {
    "name": "ipython",
    "version": 3
   },
   "file_extension": ".py",
   "mimetype": "text/x-python",
   "name": "python",
   "nbconvert_exporter": "python",
   "pygments_lexer": "ipython3",
   "version": "3.13.2"
  }
 },
 "nbformat": 4,
 "nbformat_minor": 5
}
