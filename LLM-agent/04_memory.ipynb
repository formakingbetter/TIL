{
 "cells": [
  {
   "cell_type": "markdown",
   "id": "5c7397dc",
   "metadata": {},
   "source": [
    "# Memory (대화 내용 기억)\n",
    "\n",
    "- 대화 내용 기억\n",
    "- LLM은 기본적으로 대화 내용을 기억하지 않는다.\n",
    "- 이전 대화내용을 계속 프롬프트에 주입해야 함\n",
    "\n",
    "1. Short-Term Memory\n",
    "단기기억: 한 대화 세션에 대한 기억\n",
    "2. Long-Term Memory\n",
    "장기기억: 전체 세션에서 추출한 중요한 정보\n",
    "\n",
    "## Memory 구동방식\n",
    "1. 메모리는 기본적으로 몯느 ㅏㅏㅏㅏㅏㅏㅏㅏㅏㅏㅏㅏㅏㅏㅏㅏㅏㅏㅏㅏㅏㅏㅏㅏㅏㅏㅏㅏㅏㅏㅏㅏㅏㅏㅏㅏㅏㅏㅏㅏㅏㅏㅏㅏㅏㅏㅏㅏㅏㅏㅏㅏㅏㅏㅏㅏㅏㅏㅏㅏㅏㅏㅏㅏㅏㅏㅏㅏㅏㅏㅏㅏㅏㅏㅏㅏㅏㅏㅏㅏㅏㅏㅏㅏㅏㅏㅏㅏㅏㅏㅏㅏㅏㅏㅏㅏㅏㅏㅏㅏㅏㅏㅏㅏㅏㅏㅏㅏㅏㅏㅏㅏㅏㅏㅏㅏㅏㅏㅏㅏㅏㅏㅏㅏㅏㅏㅏㅏㅏㅏㅏㅏㅏㅏㅏㅏㅏㅏㅏㅏㅏㅏㅏㅏㅏㅏㅏㅏㅏㅏㅏㅏㅏㅏㅏㅏㅏㅏㅏㅏㅏㅏㅏㅏ\\"
   ]
  },
  {
   "cell_type": "code",
   "execution_count": 3,
   "id": "58ed08bf",
   "metadata": {},
   "outputs": [],
   "source": [
    "# 실제 gpt와 대화하는 모습으로 만들기\n",
    "\n",
    "input_msg = input()\n",
    "while input_msg in ('quit','정지','그만'):\n",
    "    pass"
   ]
  },
  {
   "cell_type": "markdown",
   "id": "b084d9e0",
   "metadata": {},
   "source": [
    "## `ConversationBufferMemory`\n",
    "- 메시지 저장 -> 변수에서 추출 가능"
   ]
  },
  {
   "cell_type": "code",
   "execution_count": null,
   "id": "82b43d66",
   "metadata": {},
   "outputs": [
    {
     "name": "stderr",
     "output_type": "stream",
     "text": [
      "C:\\Users\\mingyu\\AppData\\Local\\Temp\\ipykernel_15220\\61187545.py:3: LangChainDeprecationWarning: Please see the migration guide at: https://python.langchain.com/docs/versions/migrating_memory/\n",
      "  memory = ConversationBufferMemory()\n"
     ]
    },
    {
     "data": {
      "text/plain": [
       "{'history': 'Human: 안녕 나는 비대면 은행 계좌를 개설하고 싶어. 어찌해야함?\\nAI: 좋아. 우선 신분증을 준비해 줘'}"
      ]
     },
     "execution_count": 1,
     "metadata": {},
     "output_type": "execute_result"
    }
   ],
   "source": [
    "from langchain.memory import ConversationBufferMemory\n",
    "\n",
    "memory = ConversationBufferMemory()\n",
    "memory.save_context(\n",
    "    inputs = {\n",
    "        'human':'안녕 나는 비대면 은행 계좌를 개설하고 싶어. 어찌해야함?'\n",
    "    },\n",
    "    outputs = {\n",
    "        'ai':'좋아. 우선 신분증을 준비해 줘'\n",
    "    }\n",
    ")\n",
    "\n",
    "print(memory.load_memory_variables({}))\n",
    "\n",
    "memory.save_context(\n",
    "    inputs = {'human': '좋아. 준비했어'},\n",
    "    outputs={'ai':'앞면을 잘 촬용해서 업로드 해줘.'}\n",
    ")\n",
    "print(memory.load_memory_variables({}))"
   ]
  },
  {
   "cell_type": "code",
   "execution_count": null,
   "id": "a11750f3",
   "metadata": {},
   "outputs": [],
   "source": [
    "from langchain_openai import ChatOpenAI\n",
    "from langchain.prompts import ChatPromptTemplate\n",
    "from langchain.chains import ConversationChain\n",
    "\n",
    "# temperature => 랜덤성 (0 ~ 1)\n",
    "llm = ChatOpenAI(model = 'gpt-4.1-nano',temperature = 0)\n",
    "\n",
    "prompt = ChatPromptTemplate.from_messages(\n",
    "    [\n",
    "        ('system','너는 친절한 어시스턴트야'),\n",
    "        ('human','{query}'),\n",
    "\n",
    "    ]\n",
    ")\n",
    "conversation = ConversationChain(\n",
    "    llm = llm,\n",
    "    memory = ConversationBufferMemory(),\n",
    "    prompt = prompt\n",
    ")\n",
    "\n",
    "response = conversation.invoke({'query':'안녕 계좌를 만들고 싶어'})"
   ]
  },
  {
   "cell_type": "code",
   "execution_count": null,
   "id": "1bc1d433",
   "metadata": {},
   "outputs": [],
   "source": [
    "from langchain.memory import ConversationBufferMemory\n",
    "from langchain_core.prompts import ChatPromptTemplate, MessagesPlaceholder\n",
    "from langchain_core.runnables import RunnableLambda, RunnablePassthrough\n",
    "from langchain_openai import ChatOpenAI\n",
    "\n",
    "llm = ChatOpenAI(model = 'gpt-4.1-nano',temperature=0)\n",
    "prompt = ChatPromptTemplate(\n",
    "    [\n",
    "        (\"system\",'넌 유용한 챗봇이야'),\n",
    "        MessagesPlaceholder(variable_name= 'chat_history'),\n",
    "        ('human','{input}'),\n",
    "    ]\n",
    ")\n",
    "memory = ConversationBufferMemory(return_messages=True, memory_key='chat_history')\n",
    "\n",
    "# 메모리를 저장할 벼ㄴ수는 {}디. 기존에 대화내용이 있다면 불러와라\n",
    "memory.load_memory_variables({})\n"
   ]
  },
  {
   "cell_type": "code",
   "execution_count": null,
   "id": "79feae5f",
   "metadata": {},
   "outputs": [],
   "source": [
    "chain = runnable | prompt | llm\n",
    "res = chain.invoke({'input':'만나서 반가워'})"
   ]
  },
  {
   "cell_type": "code",
   "execution_count": null,
   "id": "6d726f29",
   "metadata": {},
   "outputs": [],
   "source": [
    "memory.save_context({\n",
    "    'human':'만나서 반가워',\n",
    "    \n",
    "})"
   ]
  },
  {
   "cell_type": "code",
   "execution_count": null,
   "id": "eb0a3cb3",
   "metadata": {},
   "outputs": [],
   "source": [
    "my_message = '내 이름은 유태영이야'\n",
    "res = chain.invoke({'input':my_message})\n",
    "memory.save_context(\n",
    "    {'human'}\n",
    ")"
   ]
  }
 ],
 "metadata": {
  "kernelspec": {
   "display_name": ".venv (3.13.2)",
   "language": "python",
   "name": "python3"
  },
  "language_info": {
   "codemirror_mode": {
    "name": "ipython",
    "version": 3
   },
   "file_extension": ".py",
   "mimetype": "text/x-python",
   "name": "python",
   "nbconvert_exporter": "python",
   "pygments_lexer": "ipython3",
   "version": "3.13.2"
  }
 },
 "nbformat": 4,
 "nbformat_minor": 5
}
