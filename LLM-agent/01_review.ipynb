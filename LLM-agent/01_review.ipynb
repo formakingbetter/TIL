{
 "cells": [
  {
   "cell_type": "code",
   "execution_count": 1,
   "id": "10438341",
   "metadata": {},
   "outputs": [
    {
     "data": {
      "text/plain": [
       "True"
      ]
     },
     "execution_count": 1,
     "metadata": {},
     "output_type": "execute_result"
    }
   ],
   "source": [
    "from dotenv import load_dotenv\n",
    "load_dotenv()"
   ]
  },
  {
   "cell_type": "code",
   "execution_count": 2,
   "id": "25805e3a",
   "metadata": {},
   "outputs": [
    {
     "data": {
      "text/plain": [
       "AIMessage(content='Hello! How can I assist you today?', additional_kwargs={'refusal': None}, response_metadata={'token_usage': {'completion_tokens': 9, 'prompt_tokens': 11, 'total_tokens': 20, 'completion_tokens_details': {'accepted_prediction_tokens': 0, 'audio_tokens': 0, 'reasoning_tokens': 0, 'rejected_prediction_tokens': 0}, 'prompt_tokens_details': {'audio_tokens': 0, 'cached_tokens': 0}}, 'model_name': 'gpt-4.1-nano-2025-04-14', 'system_fingerprint': 'fp_c4c155951e', 'id': 'chatcmpl-CAtukjf5niCKQxPmPfvrljUTL36dC', 'service_tier': 'default', 'finish_reason': 'stop', 'logprobs': None}, id='run--45bac4c9-5c9f-40c3-af6b-29ede301a4b1-0', usage_metadata={'input_tokens': 11, 'output_tokens': 9, 'total_tokens': 20, 'input_token_details': {'audio': 0, 'cache_read': 0}, 'output_token_details': {'audio': 0, 'reasoning': 0}})"
      ]
     },
     "execution_count": 2,
     "metadata": {},
     "output_type": "execute_result"
    }
   ],
   "source": [
    "from langchain_openai import ChatOpenAI\n",
    "\n",
    "llm = ChatOpenAI(model = 'gpt-4.1-nano')\n",
    "llm.invoke('Hello, world!')"
   ]
  },
  {
   "cell_type": "code",
   "execution_count": 9,
   "id": "7b6a160b",
   "metadata": {},
   "outputs": [
    {
     "name": "stdout",
     "output_type": "stream",
     "text": [
      "안녕하세요\n"
     ]
    }
   ],
   "source": [
    "msg = input('외국어를 넣어주세요')\n",
    "res = llm.invoke(f'한국어로 번역해줘:{msg}')\n",
    "print(res.content)"
   ]
  },
  {
   "cell_type": "code",
   "execution_count": 10,
   "id": "b5d6aeed",
   "metadata": {},
   "outputs": [
    {
     "name": "stdout",
     "output_type": "stream",
     "text": [
      "점심 메뉴로는 건강하고 맛있게 먹을 수 있는 다양한 선택지가 있어요. 오늘은 가볍고 영양가 높은 샐러드에 닭가슴살이나 생선, 또는 한식으로는 비빔밥이나 된장찌개와 함께 밥을 추천드릴게요. 어떤 음식을 좋아하세요? 더 구체적으로 추천해드릴 수 있어요!\n"
     ]
    }
   ],
   "source": [
    "from langchain_core.messages import HumanMessage, SystemMessage\n",
    "\n",
    "messages = [\n",
    "    # 채팅 세션의 전체적인 안내 사항\n",
    "    # SystemMessage(content = '한국어를 이탈리아어로 번역해줘'),\n",
    "    HumanMessage(content = '점심을 먹자, 뭘 먹는게 좋을까?')\n",
    "]\n",
    "\n",
    "res = llm.invoke(messages)\n",
    "print(res.content)"
   ]
  },
  {
   "cell_type": "code",
   "execution_count": 13,
   "id": "ada395b1",
   "metadata": {},
   "outputs": [
    {
     "data": {
      "text/plain": [
       "'Sono pieno / Sono sazio'"
      ]
     },
     "execution_count": 13,
     "metadata": {},
     "output_type": "execute_result"
    }
   ],
   "source": [
    "messages =[\n",
    "    {'role':'system','content':'한국어를 이탈리아어로 번역해줘'},\n",
    "    {'role':'human','content':'배부르다'}\n",
    "]\n",
    "\n",
    "res = llm.invoke(messages)\n",
    "res.content"
   ]
  },
  {
   "cell_type": "markdown",
   "id": "6cd135ca",
   "metadata": {},
   "source": [
    "# Prompt Template\n",
    "- 고정된 문자열과 변수를 조합하여 프롬프트를 만드는 방법"
   ]
  },
  {
   "cell_type": "markdown",
   "id": "feb87a1f",
   "metadata": {},
   "source": [
    "# Chain\n",
    "- Langchain의 각 구성요소를 묶어서(chaining) 한 번에 실행(invoke)할 수 있도록 하는 기능\n",
    "- `a|b|c` 형태로 나옴. 이건 Python 문법이 아니라 Langchain 문법(LCEL-LangChain Expression Language)"
   ]
  },
  {
   "cell_type": "code",
   "execution_count": 18,
   "id": "efb8d7e6",
   "metadata": {},
   "outputs": [
    {
     "data": {
      "text/plain": [
       "AIMessage(content='寿司が食べたいです', additional_kwargs={'refusal': None}, response_metadata={'token_usage': {'completion_tokens': 7, 'prompt_tokens': 24, 'total_tokens': 31, 'completion_tokens_details': {'accepted_prediction_tokens': 0, 'audio_tokens': 0, 'reasoning_tokens': 0, 'rejected_prediction_tokens': 0}, 'prompt_tokens_details': {'audio_tokens': 0, 'cached_tokens': 0}}, 'model_name': 'gpt-4.1-nano-2025-04-14', 'system_fingerprint': 'fp_e91a518ddb', 'id': 'chatcmpl-CAuI33VDdVstPq4RCg9JH0UgTomps', 'service_tier': 'default', 'finish_reason': 'stop', 'logprobs': None}, id='run--fb9eb027-f346-4846-abbe-181da7029ac4-0', usage_metadata={'input_tokens': 24, 'output_tokens': 7, 'total_tokens': 31, 'input_token_details': {'audio': 0, 'cache_read': 0}, 'output_token_details': {'audio': 0, 'reasoning': 0}})"
      ]
     },
     "execution_count": 18,
     "metadata": {},
     "output_type": "execute_result"
    }
   ],
   "source": [
    "from langchain_core.prompts import ChatPromptTemplate\n",
    "messages = [{'role':'system','content':'Translate Korean to {lang}'},\n",
    "{'role':'human','content':'{text}'}]\n",
    "prompt_template = ChatPromptTemplate.from_messages(messages)\n",
    "prompt = prompt_template.invoke({'lang':'일본어','text':'초밥이 먹고 싶다'})\n",
    "llm.invoke(prompt)"
   ]
  },
  {
   "cell_type": "code",
   "execution_count": 19,
   "id": "b3c1d160",
   "metadata": {},
   "outputs": [],
   "source": [
    "from langchain_core.output_parsers import StrOutputParser\n",
    "\n",
    "output_parser = StrOutputParser()\n",
    "chain = prompt_template | llm | output_parser"
   ]
  },
  {
   "cell_type": "code",
   "execution_count": null,
   "id": "1d4fb811",
   "metadata": {},
   "outputs": [],
   "source": [
    "res = chain.invoke({'question':'이번 2025년 전반기 매출 분석'})"
   ]
  },
  {
   "cell_type": "code",
   "execution_count": 20,
   "id": "619f9bac",
   "metadata": {},
   "outputs": [],
   "source": [
    "from langchain_openai import ChatOpenAI\n",
    "from langchain_core.output_parsers import StrOutputParser\n",
    "\n",
    "from langchain_core.prompts import PromptTemplate\n",
    "llm = ChatOpenAI(model = 'gpt-4.1-nano')"
   ]
  },
  {
   "cell_type": "code",
   "execution_count": null,
   "id": "7a873a0e",
   "metadata": {},
   "outputs": [],
   "source": [
    "template = '{country}의 수도가 어디인가요??'\n",
    "\n",
    "prompt = Promptq.from_template(template)\n",
    "prompt.format(country = '대한민국')\n",
    "\n",
    "초먀ㅜ"
   ]
  }
 ],
 "metadata": {
  "kernelspec": {
   "display_name": ".venv (3.13.2)",
   "language": "python",
   "name": "python3"
  },
  "language_info": {
   "codemirror_mode": {
    "name": "ipython",
    "version": 3
   },
   "file_extension": ".py",
   "mimetype": "text/x-python",
   "name": "python",
   "nbconvert_exporter": "python",
   "pygments_lexer": "ipython3",
   "version": "3.13.2"
  }
 },
 "nbformat": 4,
 "nbformat_minor": 5
}
