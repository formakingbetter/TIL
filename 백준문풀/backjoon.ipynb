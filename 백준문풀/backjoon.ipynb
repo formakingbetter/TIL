{
 "cells": [
  {
   "cell_type": "code",
   "execution_count": null,
   "id": "614ab822",
   "metadata": {},
   "outputs": [
    {
     "name": "stdout",
     "output_type": "stream",
     "text": [
      "1S\n"
     ]
    }
   ],
   "source": [
    "\n",
    "import sys\n",
    "A= input().strip()\n",
    "if len(A) < 1000:\n",
    "    try:\n",
    "        float(A.split())\n",
    "        should_print = False\n",
    "        sys.exit(0)\n",
    "    \n",
    "    except:\n",
    "        for ch in A:\n",
    "            if ch.islower():\n",
    "                should_print=False\n",
    "                break\n",
    "        if ch.isupper():\n",
    "            print(\"\".join([A[0],A[-1]]))"
   ]
  },
  {
   "cell_type": "code",
   "execution_count": 96,
   "id": "ae2c6854",
   "metadata": {},
   "outputs": [
    {
     "name": "stdout",
     "output_type": "stream",
     "text": [
      "FE\n",
      "FE\n",
      "SS\n"
     ]
    }
   ],
   "source": [
    "T= input()\n",
    "for i in range(int(T)):\n",
    "    B = input()\n",
    "    s = \"\".join([B[0],B[-1]])\n",
    "    print(s)"
   ]
  },
  {
   "cell_type": "code",
   "execution_count": null,
   "id": "e0d50ad9",
   "metadata": {},
   "outputs": [],
   "source": []
  },
  {
   "cell_type": "code",
   "execution_count": 131,
   "id": "a3dfa7e2",
   "metadata": {},
   "outputs": [
    {
     "name": "stdout",
     "output_type": "stream",
     "text": [
      "<class 'int'>\n",
      "<class 'int'>\n",
      "<class 'int'>\n",
      "<class 'int'>\n"
     ]
    }
   ],
   "source": [
    "A = 5\n",
    "B= list(map(int,input()))\n",
    "for i in B:\n",
    "    print(type(i))"
   ]
  },
  {
   "cell_type": "code",
   "execution_count": 135,
   "id": "37fef3bc",
   "metadata": {},
   "outputs": [
    {
     "name": "stdout",
     "output_type": "stream",
     "text": [
      "0\n"
     ]
    }
   ],
   "source": [
    "A = int(input())\n",
    "B = list(map(int,input()))\n",
    "sum = 0\n",
    "C = \"\".join(map(str,B))\n",
    "if len(B) == A:\n",
    "    for i in B:\n",
    "        sum +=i\n",
    "    sum\n",
    "print(sum)\n",
    "\n",
    "    \n"
   ]
  },
  {
   "cell_type": "code",
   "execution_count": 193,
   "id": "efa8b261",
   "metadata": {},
   "outputs": [
    {
     "name": "stdout",
     "output_type": "stream",
     "text": [
      "AAABBBCCCAAAABBBBCCCC\n"
     ]
    }
   ],
   "source": [
    "T = int(input())\n",
    "c = []\n",
    "for i in range(T):\n",
    "    a = list(input())\n",
    "    for j in range(len(a)-2):\n",
    "        c.append(a[j+2]* int(a[0]))\n",
    "        \n",
    "P = ''.join(c)\n",
    "print(P)\n"
   ]
  },
  {
   "cell_type": "markdown",
   "id": "35aa7288",
   "metadata": {},
   "source": [
    "A= input.strip()"
   ]
  },
  {
   "cell_type": "code",
   "execution_count": null,
   "id": "97ecc430",
   "metadata": {},
   "outputs": [],
   "source": [
    "for i in "
   ]
  },
  {
   "cell_type": "code",
   "execution_count": 154,
   "id": "78f56063",
   "metadata": {},
   "outputs": [
    {
     "data": {
      "text/plain": [
       "['3', ' ', 'a', 'b', 'c']"
      ]
     },
     "execution_count": 154,
     "metadata": {},
     "output_type": "execute_result"
    }
   ],
   "source": [
    "list('3 abc')"
   ]
  },
  {
   "cell_type": "code",
   "execution_count": 24,
   "id": "8ec6d8a8",
   "metadata": {},
   "outputs": [
    {
     "data": {
      "text/plain": [
       "int"
      ]
     },
     "execution_count": 24,
     "metadata": {},
     "output_type": "execute_result"
    }
   ],
   "source": [
    "type(1)"
   ]
  }
 ],
 "metadata": {
  "kernelspec": {
   "display_name": "Python 3",
   "language": "python",
   "name": "python3"
  },
  "language_info": {
   "codemirror_mode": {
    "name": "ipython",
    "version": 3
   },
   "file_extension": ".py",
   "mimetype": "text/x-python",
   "name": "python",
   "nbconvert_exporter": "python",
   "pygments_lexer": "ipython3",
   "version": "3.13.2"
  }
 },
 "nbformat": 4,
 "nbformat_minor": 5
}
